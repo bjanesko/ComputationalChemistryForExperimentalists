{
 "cells": [
  {
   "cell_type": "markdown",
   "id": "576cfdf2",
   "metadata": {},
   "source": [
    "## Computational Chemistry for Experimentalists\n",
    "## Module 2: Properties of Methane \n",
    "\n",
    "We introduce computational chemistry tools by looking at some properties of the methane molecule. \n",
    "\n",
    "This first block imports all of the necessary Python modules. If these aren't installed, this will fail. "
   ]
  },
  {
   "cell_type": "code",
   "execution_count": null,
   "id": "1c692af1",
   "metadata": {},
   "outputs": [],
   "source": [
    "from rdkit import Chem\n",
    "from rdkit.Chem import Draw\n",
    "from rdkit.Chem import AllChem\n",
    "from pyscf import gto,scf\n",
    "from pyscf.tools import cubegen \n",
    "import py3Dmol\n",
    "import numpy "
   ]
  },
  {
   "cell_type": "markdown",
   "id": "dd17566a",
   "metadata": {},
   "source": [
    "Use the RDKit force field to prepare an initial guess geometry of methane "
   ]
  },
  {
   "cell_type": "code",
   "execution_count": null,
   "id": "4a8e5535",
   "metadata": {},
   "outputs": [],
   "source": [
    "m=Chem.MolFromSmiles('C')\n",
    "m2=Chem.AddHs(m)\n",
    "AllChem.EmbedMolecule(m2)\n",
    "AllChem.MMFFOptimizeMolecule(m2)"
   ]
  },
  {
   "cell_type": "markdown",
   "id": "1f6bb0a8",
   "metadata": {},
   "source": [
    "Visualize the initial guess geometry using a ball-and-stick convention. Credit to https://www.andersle.no/posts/2022/rdkitandpy3dmol/rdkit.html. It is always good to double-check that your inputs are chemically reasonable. "
   ]
  },
  {
   "cell_type": "code",
   "execution_count": null,
   "id": "afc4f91c",
   "metadata": {},
   "outputs": [],
   "source": [
    "mb=Chem.MolToMolBlock(m2)\n",
    "p=py3Dmol.view(width=400,height=400)\n",
    "p.addModel(mb,'sdf')\n",
    "p.setStyle({'stick':{},'sphere':{\"scale\":0.3}})\n",
    "p.zoomTo()\n",
    "p.show()"
   ]
  },
  {
   "cell_type": "markdown",
   "id": "260f9ec6",
   "metadata": {},
   "source": [
    "Convert the RDKit geometry into a PySCF molecule, and do a molecular orbital calculation at the RDKit geometry.\n",
    "Credit to https://www.valencekjell.com/posts/2022-06-30-visualizing-atomic/ "
   ]
  },
  {
   "cell_type": "code",
   "execution_count": null,
   "id": "babd1002",
   "metadata": {},
   "outputs": [],
   "source": [
    "elements = [atom.GetSymbol() for atom in m2.GetAtoms()]\n",
    "coordinates = m2.GetConformer().GetPositions()\n",
    "atoms = [(element, coordinate) for element, coordinate in zip(elements, coordinates)]\n",
    "\n",
    "pyscf_mole = gto.Mole(basis=\"3-21g\")\n",
    "pyscf_mole.atom = atoms\n",
    "pyscf_mole.build();\n",
    "\n",
    "mf=scf.RHF(pyscf_mole)\n",
    "mf.kernel() \n",
    "print('Total energy from Hartree-Fock molecular orbital calculation: %.6f Hartree'%(mf.e_tot))\n",
    "print('Number of occupied orbitals: %d'%(pyscf_mole.nelec[0]))\n"
   ]
  },
  {
   "cell_type": "markdown",
   "id": "e2adbb98",
   "metadata": {},
   "source": [
    "Process the RDKit guess coordinates to determine the guess structure's C-H bond length. The experimental C-H bond length is 1.057 Angstrom, as quoted in the NIST CCCBDB https://cccbdb.nist.gov/exp2x.asp?casno=74828&charge=0 . The coordinates array above is a 5x3 array of the x,y,z coordinates of each atom "
   ]
  },
  {
   "cell_type": "code",
   "execution_count": null,
   "id": "af39b601",
   "metadata": {},
   "outputs": [],
   "source": [
    "print('List of atom types: ',elements)\n",
    "print('Shape of coordinate array: ',coordinates.shape)\n",
    "VCH=coordinates[0]-coordinates[1] # Vector connecting atoms C and H \n",
    "#print(VCH)\n",
    "RCH=(numpy.dot(VCH,VCH))**0.5 # Length of a vector v is sqrt(v.v)\n",
    "print('RDKit predicted C-H bond length: %.3f Angstrom'%(RCH))"
   ]
  },
  {
   "cell_type": "markdown",
   "id": "a4354e50",
   "metadata": {},
   "source": [
    "Print the occupied and virtual orbital energies from array mf.mo_energies. The indexing starts at zero, so mf.mo_energies[0] is the C 1s orbital, mf.mo_energies[1] is the first valence orbital, and so on. Experimentally, methane's first ionization potential is 12.610 eV (CCCBDB) and its core ionization potential is 290.707 eV (L Asplund et al 1985 J. Phys. B: Atom. Mol. Phys. 18 1569). The computed orbital energies don't perfectly match the experimental ionization potentials, for reasons we'll discuss later. "
   ]
  },
  {
   "cell_type": "code",
   "execution_count": null,
   "id": "119feac8",
   "metadata": {},
   "outputs": [],
   "source": [
    "a2ev=27.211 # Hartree atomic unit to electron-volt conversion \n",
    "print('Orbital energies \\nOrbital  Occupied? Energy (eV)')\n",
    "for i in range(pyscf_mole.nao):\n",
    "    st='No'\n",
    "    if(i<pyscf_mole.nelec[0]):\n",
    "        st='Yes'\n",
    "    print('%2d   %3s %12.2f '%(i,st,a2ev*mf.mo_energy[i]))"
   ]
  },
  {
   "cell_type": "markdown",
   "id": "0ee6a790",
   "metadata": {},
   "source": [
    "Print some other properties available from the MO calculation "
   ]
  },
  {
   "cell_type": "code",
   "execution_count": null,
   "id": "88d62032",
   "metadata": {},
   "outputs": [],
   "source": [
    "x=mf.analyze()"
   ]
  },
  {
   "cell_type": "markdown",
   "id": "f59356c7",
   "metadata": {},
   "source": [
    "Generate volumetric data from all molecular orbitals, and save in the current directory as cube files methane_mo_*.cube "
   ]
  },
  {
   "cell_type": "code",
   "execution_count": null,
   "id": "92851c7c",
   "metadata": {},
   "outputs": [],
   "source": [
    "for i in range(mf.mo_coeff.shape[1]):\n",
    "    cubegen.orbital(pyscf_mole, f'methane_mo_{i+1:02d}.cube', mf.mo_coeff[:,i],  nx=60, ny=60, nz=60)"
   ]
  },
  {
   "cell_type": "markdown",
   "id": "dffe77a5",
   "metadata": {},
   "source": [
    "Visualize the three degenerate highest-occupied molecular orbitals. Credit to \n",
    "\n",
    "https://www.insilicochemistry.io/tutorials/foundations/chemistry-visualization-with-py3dmol"
   ]
  },
  {
   "cell_type": "code",
   "execution_count": null,
   "id": "f06a9256",
   "metadata": {},
   "outputs": [],
   "source": [
    "p = py3Dmol.view(width=600,height=200,viewergrid=(1,3))\n",
    "#p.show()\n",
    "for i in range(3):\n",
    "    p.addModel(Chem.MolToMolBlock(m2), 'sdf',viewer=(0,i))\n",
    "    p.setStyle({'stick':{},'sphere':{\"scale\":0.3}},viewer=(0,i))\n",
    "    with open(f\"./methane_mo_{i+3:02d}.cube\") as f:\n",
    "        mo1 = f.read()\n",
    "    p.addVolumetricData(mo1, \"cube\", {'isoval': -0.02, 'color': \"red\", 'opacity': 0.65},viewer=(0,i))\n",
    "    p.addVolumetricData(mo1, \"cube\", {'isoval': 0.02, 'color': \"blue\", 'opacity': 0.65},viewer=(0,i))\n",
    "#p.zoomTo()\n",
    "#p.update()\n",
    "p.render()\n"
   ]
  },
  {
   "cell_type": "markdown",
   "id": "5ecd2621",
   "metadata": {},
   "source": [
    "Visualize the nondegenerate lowest-unoccupied molecular orbital at three different cutoffs "
   ]
  },
  {
   "cell_type": "code",
   "execution_count": null,
   "id": "12b82d51",
   "metadata": {},
   "outputs": [],
   "source": [
    "with open(f\"./methane_mo_06.cube\") as f:\n",
    "    mo1 = f.read()\n",
    "p = py3Dmol.view(width=600,height=200,viewergrid=(1,3))\n",
    "cutoffs=[0.05,0.03,0.01]\n",
    "for i in range(3):\n",
    "    cut=cutoffs[i]\n",
    "    p.addModel(Chem.MolToMolBlock(m2), 'sdf',viewer=(0,i))\n",
    "    p.setStyle({'stick':{},'sphere':{\"scale\":0.3}},viewer=(0,i))\n",
    "    p.addVolumetricData(mo1, \"cube\", {'isoval': -cut, 'color': \"red\", 'opacity': 0.45},viewer=(0,i))\n",
    "    p.addVolumetricData(mo1, \"cube\", {'isoval': cut, 'color': \"blue\", 'opacity': 0.65},viewer=(0,i))\n",
    "#p.zoomTo()\n",
    "#p.update()\n",
    "p.render()"
   ]
  },
  {
   "cell_type": "markdown",
   "id": "ff88c4d4",
   "metadata": {},
   "source": [
    "Your assignment for this module is as follows. \n",
    "\n",
    "Part 1: Explain whether the partial atomic charges computed with mf.analyze() make chemical sense. \n",
    "    \n",
    "Part 2: Visualize the four highest-occupied molecular orbitals of methane. One of them should look qualitatively different from the other three. Explain this in terms of general chemistry MO theory.\n",
    "\n",
    "Part 3: Use the orbital energies computed with mf.analyze() to predict the electron affinity and UV/vis excitation energy of methane. (You already used these to predict methane's ionization potential.) Compare your results to available experiments. You should find that the results are within about a factor of 2 of experiment. Not accurate enough to model real chemistry, but not unphysical. "
   ]
  },
  {
   "cell_type": "code",
   "execution_count": null,
   "id": "5d102fe4",
   "metadata": {},
   "outputs": [],
   "source": []
  }
 ],
 "metadata": {
  "kernelspec": {
   "display_name": "Python 3 (ipykernel)",
   "language": "python",
   "name": "python3"
  },
  "language_info": {
   "codemirror_mode": {
    "name": "ipython",
    "version": 3
   },
   "file_extension": ".py",
   "mimetype": "text/x-python",
   "name": "python",
   "nbconvert_exporter": "python",
   "pygments_lexer": "ipython3",
   "version": "3.10.9"
  }
 },
 "nbformat": 4,
 "nbformat_minor": 5
}
