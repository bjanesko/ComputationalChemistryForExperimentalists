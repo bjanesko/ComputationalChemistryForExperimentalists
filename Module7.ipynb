{
 "cells": [
  {
   "cell_type": "markdown",
   "id": "4faac946",
   "metadata": {},
   "source": [
    "## Computational Chemistry for Experimentalists\n",
    "## Module 7: Levels of Theory \n",
    "\n",
    "In MO theory, each electron interacts with the average positions of all other electrons. This approximation doesn't always give chemically useful predictions. Here we introduce approximations beyond mean field. "
   ]
  },
  {
   "cell_type": "code",
   "execution_count": null,
   "id": "101528bf",
   "metadata": {},
   "outputs": [],
   "source": [
    "from rdkit import Chem\n",
    "from rdkit.Chem import Draw\n",
    "from rdkit.Chem import AllChem\n",
    "import math\n",
    "import numpy\n",
    "import matplotlib.pyplot as plt\n",
    "from pyscf import gto,scf,dft,cc\n",
    "from pyscf.tools import cubegen\n",
    "import py3Dmol"
   ]
  },
  {
   "cell_type": "markdown",
   "id": "15184e39",
   "metadata": {},
   "source": [
    "## Example 1: N2 Heats of Formation  \n",
    "\n",
    "The enthalpy of formation is defined in terms of elements in their standard state. The enthalpy of formation of N2(g) is zero. The enthalpy of formation of CO2 is the enthalpy of CO2, minus the enthalpy of O2 (g), minus that of a carbon atom in solid diamond. \n",
    "\n",
    "Because standard states are hard, we compute enthalpies of formation using computed atomization energies, and experimental atomic heats of formation. Here we make an energy level diagram of N2 heat of formation computed using various methods. The heat of formation of N atom is 427.68 kJ/mol , from NIST chemistry webbook"
   ]
  },
  {
   "cell_type": "code",
   "execution_count": null,
   "id": "1a286e12",
   "metadata": {},
   "outputs": [],
   "source": [
    "b='def2tzvp'\n",
    "HFN=427.68\n",
    "mn=gto.Mole(atom='N',spin=3,basis=b)\n",
    "mn.build()\n",
    "mn2=gto.Mole(atom='N 0.0 0.0 0.0; N 0.0 0.0 1.10',spin=0,basis=b)\n",
    "mn.build()\n",
    "mn2.build()\n",
    "mnf=scf.UHF(mn)\n",
    "mnf.kernel()\n",
    "mn2f=scf.RHF(mn2)\n",
    "mn2f.kernel()\n",
    "AEHF=2625.5*(2*mnf.e_tot-mn2f.e_tot)\n",
    "mnd=dft.UKS(mn,xc='b3lyp')\n",
    "mnd.kernel()\n",
    "mn2d=dft.RKS(mn2,xc='b3lyp')\n",
    "mn2d.kernel()\n",
    "AEDFT=2625.5*(2*mnd.e_tot-mn2d.e_tot)\n",
    "mnd=dft.UKS(mn,xc='pbe,pbe')\n",
    "mnd.kernel()\n",
    "mn2d=dft.RKS(mn2,xc='pbe,pbe')\n",
    "mn2d.kernel()\n",
    "AEDFT2=2625.5*(2*mnd.e_tot-mn2d.e_tot)"
   ]
  },
  {
   "cell_type": "code",
   "execution_count": null,
   "id": "020a8190",
   "metadata": {},
   "outputs": [],
   "source": [
    "mnc=cc.CCSD(mnf)\n",
    "mnc.kernel()\n",
    "mn2c=cc.CCSD(mn2f)\n",
    "mn2c.kernel()\n",
    "AEC=2625.5*(2*mnc.e_tot-mn2c.e_tot)"
   ]
  },
  {
   "cell_type": "code",
   "execution_count": null,
   "id": "f7b02044",
   "metadata": {},
   "outputs": [],
   "source": [
    "fig = plt.figure(figsize = (5, 5))\n",
    "plt.ylabel(\"Total energy relative to standard state (kJ/mol)\")\n",
    "\n",
    "plt.axhline(y=0, color='black',linestyle='-')\n",
    "plt.axhline(y=2*HFN, color='black',linestyle='-')\n",
    "ax=plt.gca()\n",
    "ax.text(.1,20,'Standard state')\n",
    "ax.text(.1,800,'Isolated atoms')\n",
    "\n",
    "plt.arrow(0,0,0,2*HFN,color='black',width=0.01,head_width=.1,head_length=100,length_includes_head=True)\n",
    "ax.text(.1,300,'Atomic DHF')\n",
    "\n",
    "plt.arrow(1,2*HFN,0,-2*HFN,color='black',width=0.01,head_width=.1,head_length=100,length_includes_head=True)\n",
    "ax.text(.85,300,'Expt')\n",
    "plt.arrow(1.2,2*HFN,0,-AEHF,color='blue',width=0.01,head_width=.1,head_length=100,length_includes_head=True)\n",
    "ax.text(1.1,300,'HF',color='blue')\n",
    "plt.arrow(1.4,2*HFN,0,-AEDFT,color='green',width=0.01,head_width=.1,head_length=100,length_includes_head=True)\n",
    "ax.text(1.28,-100,'B3LYP',color='green')\n",
    "plt.arrow(1.6,2*HFN,0,-AEDFT2,color='red',width=0.01,head_width=.1,head_length=100,length_includes_head=True)\n",
    "ax.text(1.5,-200,'PBE',color='red')\n",
    "plt.arrow(1.8,2*HFN,0,-AEC,color='gray',width=0.01,head_width=.1,head_length=100,length_includes_head=True)\n",
    "ax.text(1.7,-50,'CCSD',color='gray')\n",
    "plt.show()"
   ]
  },
  {
   "cell_type": "markdown",
   "id": "b4b759d2",
   "metadata": {},
   "source": [
    "## Example 2: Dispersion Interactions \n",
    "The dispersion (van der Waals) interaction is an explicitly many-body effect. Mean-field Hartree-Fock theory predicts that there is no dispersion, and that (for example) liquid helium does not exist. Here we show how HF, DFT, and waveunction theory near the basis set limit treat helium dimer neergy. \n"
   ]
  },
  {
   "cell_type": "code",
   "execution_count": null,
   "id": "278bf2ab",
   "metadata": {},
   "outputs": [],
   "source": [
    "b='aug-cc-pvdz'\n",
    "\n",
    "# Atom energies \n",
    "m=gto.Mole(atom='Ne',basis=b)\n",
    "m.build()\n",
    "mf=scf.RHF(m)\n",
    "mf.kernel()\n",
    "md=dft.RKS(m,xc='b3lyp')\n",
    "md.kernel()\n",
    "mc=cc.CCSD(mf)\n",
    "mc.kernel()\n",
    "\n",
    "# Dimer energies \n",
    "rs=[1.0,1.05,1.1,1.15,1.2,1.3,1.4,1.5,1.6,1.7,1.8,2.0,2.2,2.3,2.5,2.7,3.0,3.2,3.5,3.7,4.0,4.5,5.0,5.5,6.0]\n",
    "dehf=[]\n",
    "dedf=[]\n",
    "decc=[]\n",
    "for r in rs:\n",
    "    geom='Ne 0.0 0.0 0.0; Ne 0.0 0.0 %.2f'%(r)\n",
    "    m2=gto.Mole(atom=geom,basis=b)\n",
    "    m2.build()\n",
    "    mf2=scf.RHF(m2)\n",
    "    mf2.kernel()\n",
    "    mc2=cc.CCSD(mf2)\n",
    "    mc2.kernel()\n",
    "    md2=dft.RKS(m2,xc='b3lyp')\n",
    "    md2.kernel()\n",
    "    dehf.append(627.5095*(mf2.e_tot-2*mf.e_tot))\n",
    "    dedf.append(627.5095*(md2.e_tot-2*md.e_tot))\n",
    "    decc.append(627.5095*(mc2.e_tot-2*mc.e_tot))"
   ]
  },
  {
   "cell_type": "code",
   "execution_count": null,
   "id": "1b779185",
   "metadata": {},
   "outputs": [],
   "source": [
    "plt.plot(rs,dehf,color='blue')\n",
    "plt.plot(rs,dedf,color='red')\n",
    "plt.plot(rs,decc,color='gray')\n",
    "plt.xlabel('He2 bond length (Angstrom)')\n",
    "plt.ylabel('Bond energy (kcal/mol)')\n",
    "plt.axhline(y=0, color='black',linestyle='-')\n",
    "ax=plt.gca()\n",
    "ax.set_ylim(-.2,.1)\n",
    "plt.show()"
   ]
  }
 ],
 "metadata": {
  "kernelspec": {
   "display_name": "Python 3 (ipykernel)",
   "language": "python",
   "name": "python3"
  },
  "language_info": {
   "codemirror_mode": {
    "name": "ipython",
    "version": 3
   },
   "file_extension": ".py",
   "mimetype": "text/x-python",
   "name": "python",
   "nbconvert_exporter": "python",
   "pygments_lexer": "ipython3",
   "version": "3.10.9"
  }
 },
 "nbformat": 4,
 "nbformat_minor": 5
}
