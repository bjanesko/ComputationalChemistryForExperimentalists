{
 "cells": [
  {
   "cell_type": "markdown",
   "id": "576cfdf2",
   "metadata": {},
   "source": [
    "## Computational Chemistry for Experimentalists\n",
    "## Module 1: Using Python, Jupyter, PySCF, and the RDKit \n",
    "\n",
    "We will use Python and Jupyter notebooks for most examples in this course. This notebook tests that you have PySCF and the RDKit installed and running correctly. \n",
    "\n",
    "This first block imports all of the necessary Python modules. If these aren't installed, this will fail. "
   ]
  },
  {
   "cell_type": "code",
   "execution_count": 1,
   "id": "1c692af1",
   "metadata": {},
   "outputs": [],
   "source": [
    "from rdkit import Chem\n",
    "from rdkit.Chem import Draw\n",
    "from rdkit.Chem import AllChem\n",
    "from pyscf import gto,scf\n",
    "import py3Dmol"
   ]
  },
  {
   "cell_type": "markdown",
   "id": "dd17566a",
   "metadata": {},
   "source": [
    "This block uses PySCF to perform a molecular orbital calculation on an isolated hydrogen atom. We print the computed ionization potential in electron-volts. The exact ground-state ionization potential of hydrogen is 0.5 Hartree = 13.606 eV. Our approximate calculation will give a slightly different answer. "
   ]
  },
  {
   "cell_type": "code",
   "execution_count": 2,
   "id": "babd1002",
   "metadata": {},
   "outputs": [
    {
     "name": "stdout",
     "output_type": "stream",
     "text": [
      "converged SCF energy = -0.49823291072907  <S^2> = 0.75  2S+1 = 2\n",
      "Computed IP: 13.557 eV\n"
     ]
    }
   ],
   "source": [
    "hartreetoev=27.211\n",
    "m=gto.Mole(atom='H',basis='6-31g',spin=1)\n",
    "m.build()\n",
    "mf=scf.UHF(m)\n",
    "mf.kernel()\n",
    "print('Computed IP: %.3f eV'%(-1.0*hartreetoev*mf.e_tot))"
   ]
  },
  {
   "cell_type": "markdown",
   "id": "e2adbb98",
   "metadata": {},
   "source": [
    "This block uses the RDKit to prepare a two-dimensional structure of o-methyl pyridine, starting from a SMILES string, and prints a 2D representation "
   ]
  },
  {
   "cell_type": "code",
   "execution_count": 3,
   "id": "4a8e5535",
   "metadata": {},
   "outputs": [
    {
     "data": {
      "image/png": "[encoded data removed]",
      "text/plain": [
       "<PIL.PngImagePlugin.PngImageFile image mode=RGB size=300x300>"
      ]
     },
     "execution_count": 3,
     "metadata": {},
     "output_type": "execute_result"
    }
   ],
   "source": [
    "m=Chem.MolFromSmiles('C1=C(C)N=CC=C1')\n",
    "img=Draw.MolToImage(m)\n",
    "img"
   ]
  },
  {
   "cell_type": "markdown",
   "id": "c080a9a2",
   "metadata": {},
   "source": [
    "This block converts the 2-D representation into 3-D, and prints a 3-D structure. "
   ]
  },
  {
   "cell_type": "code",
   "execution_count": 4,
   "id": "6503d920",
   "metadata": {},
   "outputs": [
    {
     "data": {
      "application/3dmoljs_load.v0": "<div id=\"3dmolviewer_17241824465387104\"  style=\"position: relative; width: 400px; height: 400px;\">\n        <p id=\"3dmolwarning_17241824465387104\" style=\"background-color:#ffcccc;color:black\">3Dmol.js failed to load for some reason.  Please check your browser console for error messages.<br></p>\n        </div>\n<script>\n\nvar loadScriptAsync = function(uri){\n  return new Promise((resolve, reject) => {\n    //this is to ignore the existence of requirejs amd\n    var savedexports, savedmodule;\n    if (typeof exports !== 'undefined') savedexports = exports;\n    else exports = {}\n    if (typeof module !== 'undefined') savedmodule = module;\n    else module = {}\n\n    var tag = document.createElement('script');\n    tag.src = uri;\n    tag.async = true;\n    tag.onload = () => {\n        exports = savedexports;\n        module = savedmodule;\n        resolve();\n    };\n  var firstScriptTag = document.getElementsByTagName('script')[0];\n  firstScriptTag.parentNode.insertBefore(tag, firstScriptTag);\n});\n};\n\nif(typeof $3Dmolpromise === 'undefined') {\n$3Dmolpromise = null;\n  $3Dmolpromise = loadScriptAsync('https://cdnjs.cloudflare.com/ajax/libs/3Dmol/2.3.0/3Dmol-min.js');\n}\n\nvar viewer_17241824465387104 = null;\nvar warn = document.getElementById(\"3dmolwarning_17241824465387104\");\nif(warn) {\n    warn.parentNode.removeChild(warn);\n}\n$3Dmolpromise.then(function() {\nviewer_17241824465387104 = $3Dmol.createViewer(document.getElementById(\"3dmolviewer_17241824465387104\"),{backgroundColor:\"white\"});\nviewer_17241824465387104.zoomTo();\n\tviewer_17241824465387104.addModel(\"\\n     RDKit          3D\\n\\n 14 14  0  0  0  0  0  0  0  0999 V2000\\n   -0.0311   -1.0506   -0.2096 C   0  0  0  0  0  0  0  0  0  0  0  0\\n   -0.7110    0.1173    0.1256 C   0  0  0  0  0  0  0  0  0  0  0  0\\n   -2.1948    0.0898    0.3372 C   0  0  0  0  0  0  0  0  0  0  0  0\\n   -0.0842    1.3084    0.2742 N   0  0  0  0  0  0  0  0  0  0  0  0\\n    1.2532    1.3331    0.0834 C   0  0  0  0  0  0  0  0  0  0  0  0\\n    2.0051    0.2200   -0.2512 C   0  0  0  0  0  0  0  0  0  0  0  0\\n    1.3467   -0.9943   -0.3999 C   0  0  0  0  0  0  0  0  0  0  0  0\\n   -0.5624   -1.9901   -0.3214 H   0  0  0  0  0  0  0  0  0  0  0  0\\n   -2.7008   -0.2413   -0.5750 H   0  0  0  0  0  0  0  0  0  0  0  0\\n   -2.5707    1.0856    0.5932 H   0  0  0  0  0  0  0  0  0  0  0  0\\n   -2.4474   -0.5907    1.1563 H   0  0  0  0  0  0  0  0  0  0  0  0\\n    1.7196    2.3055    0.2114 H   0  0  0  0  0  0  0  0  0  0  0  0\\n    3.0769    0.2981   -0.3923 H   0  0  0  0  0  0  0  0  0  0  0  0\\n    1.9009   -1.8908   -0.6619 H   0  0  0  0  0  0  0  0  0  0  0  0\\n  1  2  2  0\\n  2  3  1  0\\n  2  4  1  0\\n  4  5  2  0\\n  5  6  1  0\\n  6  7  2  0\\n  7  1  1  0\\n  1  8  1  0\\n  3  9  1  0\\n  3 10  1  0\\n  3 11  1  0\\n  5 12  1  0\\n  6 13  1  0\\n  7 14  1  0\\nM  END\\n\",\"sdf\");\n\tviewer_17241824465387104.setStyle({\"stick\": {}});\n\tviewer_17241824465387104.setBackgroundColor(\"0xeeeeee\");\n\tviewer_17241824465387104.zoomTo();\nviewer_17241824465387104.render();\n});\n</script>",
      "text/html": [
       "<div id=\"3dmolviewer_17241824465387104\"  style=\"position: relative; width: 400px; height: 400px;\">\n",
       "        <p id=\"3dmolwarning_17241824465387104\" style=\"background-color:#ffcccc;color:black\">3Dmol.js failed to load for some reason.  Please check your browser console for error messages.<br></p>\n",
       "        </div>\n",
       "<script>\n",
       "\n",
       "var loadScriptAsync = function(uri){\n",
       "  return new Promise((resolve, reject) => {\n",
       "    //this is to ignore the existence of requirejs amd\n",
       "    var savedexports, savedmodule;\n",
       "    if (typeof exports !== 'undefined') savedexports = exports;\n",
       "    else exports = {}\n",
       "    if (typeof module !== 'undefined') savedmodule = module;\n",
       "    else module = {}\n",
       "\n",
       "    var tag = document.createElement('script');\n",
       "    tag.src = uri;\n",
       "    tag.async = true;\n",
       "    tag.onload = () => {\n",
       "        exports = savedexports;\n",
       "        module = savedmodule;\n",
       "        resolve();\n",
       "    };\n",
       "  var firstScriptTag = document.getElementsByTagName('script')[0];\n",
       "  firstScriptTag.parentNode.insertBefore(tag, firstScriptTag);\n",
       "});\n",
       "};\n",
       "\n",
       "if(typeof $3Dmolpromise === 'undefined') {\n",
       "$3Dmolpromise = null;\n",
       "  $3Dmolpromise = loadScriptAsync('https://cdnjs.cloudflare.com/ajax/libs/3Dmol/2.3.0/3Dmol-min.js');\n",
       "}\n",
       "\n",
       "var viewer_17241824465387104 = null;\n",
       "var warn = document.getElementById(\"3dmolwarning_17241824465387104\");\n",
       "if(warn) {\n",
       "    warn.parentNode.removeChild(warn);\n",
       "}\n",
       "$3Dmolpromise.then(function() {\n",
       "viewer_17241824465387104 = $3Dmol.createViewer(document.getElementById(\"3dmolviewer_17241824465387104\"),{backgroundColor:\"white\"});\n",
       "viewer_17241824465387104.zoomTo();\n",
       "\tviewer_17241824465387104.addModel(\"\\n     RDKit          3D\\n\\n 14 14  0  0  0  0  0  0  0  0999 V2000\\n   -0.0311   -1.0506   -0.2096 C   0  0  0  0  0  0  0  0  0  0  0  0\\n   -0.7110    0.1173    0.1256 C   0  0  0  0  0  0  0  0  0  0  0  0\\n   -2.1948    0.0898    0.3372 C   0  0  0  0  0  0  0  0  0  0  0  0\\n   -0.0842    1.3084    0.2742 N   0  0  0  0  0  0  0  0  0  0  0  0\\n    1.2532    1.3331    0.0834 C   0  0  0  0  0  0  0  0  0  0  0  0\\n    2.0051    0.2200   -0.2512 C   0  0  0  0  0  0  0  0  0  0  0  0\\n    1.3467   -0.9943   -0.3999 C   0  0  0  0  0  0  0  0  0  0  0  0\\n   -0.5624   -1.9901   -0.3214 H   0  0  0  0  0  0  0  0  0  0  0  0\\n   -2.7008   -0.2413   -0.5750 H   0  0  0  0  0  0  0  0  0  0  0  0\\n   -2.5707    1.0856    0.5932 H   0  0  0  0  0  0  0  0  0  0  0  0\\n   -2.4474   -0.5907    1.1563 H   0  0  0  0  0  0  0  0  0  0  0  0\\n    1.7196    2.3055    0.2114 H   0  0  0  0  0  0  0  0  0  0  0  0\\n    3.0769    0.2981   -0.3923 H   0  0  0  0  0  0  0  0  0  0  0  0\\n    1.9009   -1.8908   -0.6619 H   0  0  0  0  0  0  0  0  0  0  0  0\\n  1  2  2  0\\n  2  3  1  0\\n  2  4  1  0\\n  4  5  2  0\\n  5  6  1  0\\n  6  7  2  0\\n  7  1  1  0\\n  1  8  1  0\\n  3  9  1  0\\n  3 10  1  0\\n  3 11  1  0\\n  5 12  1  0\\n  6 13  1  0\\n  7 14  1  0\\nM  END\\n\",\"sdf\");\n",
       "\tviewer_17241824465387104.setStyle({\"stick\": {}});\n",
       "\tviewer_17241824465387104.setBackgroundColor(\"0xeeeeee\");\n",
       "\tviewer_17241824465387104.zoomTo();\n",
       "viewer_17241824465387104.render();\n",
       "});\n",
       "</script>"
      ]
     },
     "metadata": {},
     "output_type": "display_data"
    }
   ],
   "source": [
    "m2=Chem.AddHs(m)\n",
    "AllChem.EmbedMolecule(m2)\n",
    "AllChem.MMFFOptimizeMolecule(m2)\n",
    "mb=Chem.MolToMolBlock(m2)\n",
    "p=py3Dmol.view(width=400,height=400)\n",
    "p.addModel(mb,'sdf')\n",
    "p.setStyle({'stick':{}})\n",
    "p.setBackgroundColor('0xeeeeee')\n",
    "p.zoomTo()\n",
    "p.show()"
   ]
  },
  {
   "cell_type": "markdown",
   "id": "0ef90eca",
   "metadata": {},
   "source": [
    "Your assignment for this module has two parts. \n",
    "\n",
    "Part 1: Compute the ionization potential of He(+) in eV, and compare it to the ionization potential of the isoelectronic H atom performed above. Does the difference between the ionization potentials of H vs. He(+) make chemical sense? \n",
    "\n",
    "Part 2: Compute and view the 3-D structure of o-methoxy benzene. Does the predicted structure include an internal hydrogen bond? "
   ]
  }
 ],
 "metadata": {
  "kernelspec": {
   "display_name": "Python 3 (ipykernel)",
   "language": "python",
   "name": "python3"
  },
  "language_info": {
   "codemirror_mode": {
    "name": "ipython",
    "version": 3
   },
   "file_extension": ".py",
   "mimetype": "text/x-python",
   "name": "python",
   "nbconvert_exporter": "python",
   "pygments_lexer": "ipython3",
   "version": "3.10.9"
  }
 },
 "nbformat": 4,
 "nbformat_minor": 5
}
