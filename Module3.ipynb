{
 "cells": [
  {
   "cell_type": "markdown",
   "id": "576cfdf2",
   "metadata": {},
   "source": [
    "## Computational Chemistry for Experimentalists\n",
    "## Module 3: Geometry Optimization\n",
    "\n",
    "Determining a local minimum geometry is an essential first step of most molecular simulations. Here we discuss some of the ideas behind geometry optimization and show some examples. \n",
    "\n",
    "This first block imports all of the necessary Python modules. If these aren't installed, this will fail. "
   ]
  },
  {
   "cell_type": "code",
   "execution_count": null,
   "id": "1c692af1",
   "metadata": {},
   "outputs": [],
   "source": [
    "from rdkit import Chem\n",
    "from rdkit.Chem import Draw\n",
    "from rdkit.Chem import AllChem\n",
    "from pyscf import gto,scf\n",
    "from pyscf.tools import cubegen \n",
    "import py3Dmol\n",
    "import numpy \n",
    "import matplotlib.pyplot as plt\n",
    "from pyscf.geomopt.geometric_solver import optimize\n",
    "from rdkit.Geometry import Point3D"
   ]
  },
  {
   "cell_type": "markdown",
   "id": "812e9428",
   "metadata": {},
   "source": [
    "### Part 1: Optimization on a one-dimensional PES, carbon monoxide "
   ]
  },
  {
   "cell_type": "markdown",
   "id": "dd17566a",
   "metadata": {},
   "source": [
    "Predict the ground-state potential energy surface for carbon monoxide, by computing the energy at multiple bond lengths. We'll compute the energy of CO molecule relative to the energies of isolated ground-state C and O atoms. "
   ]
  },
  {
   "cell_type": "code",
   "execution_count": null,
   "id": "4a8e5535",
   "metadata": {},
   "outputs": [],
   "source": [
    "basis='3-21g'\n",
    "hartreetokcalmol = 627.5095\n",
    "mc=gto.Mole(atom='C',spin=2,basis=basis)\n",
    "mc.build()\n",
    "mfc=scf.UHF(mc)\n",
    "mfc.kernel()\n",
    "mo=gto.Mole(atom='O',spin=2,basis=basis)\n",
    "mo.build()\n",
    "mfo=scf.UHF(mo)\n",
    "mfo.kernel()\n",
    "Eat=mfc.e_tot+mfo.e_tot\n"
   ]
  },
  {
   "cell_type": "code",
   "execution_count": null,
   "id": "e5f2b5d9",
   "metadata": {},
   "outputs": [],
   "source": [
    "rs=[0.5,0.6,0.7,0.8,0.9,1.0,1.05,1.1,1.15,1.2,1.3,1.4,1.5,1.6,1.7,1.8,2.0,2.2,2.3,2.5,2.7,3.0]\n",
    "des=[]\n",
    "Pg=None\n",
    "for r in rs:\n",
    "    geom='C 0.0 0.0 0.0; O 0.0 0.0 %.2f'%(r)\n",
    "    mco=gto.Mole(atom=geom,basis=basis)\n",
    "    mco.build()\n",
    "    nao=mco.nao\n",
    "    mfco=scf.RHF(mco)\n",
    "    mfco.kernel(dm0=Pg)\n",
    "    Pg=mfco.make_rdm1() # Use the current density matrix as the next guess \n",
    "    de=hartreetokcalmol*(mfco.e_tot-Eat)\n",
    "    des.append(de)"
   ]
  },
  {
   "cell_type": "markdown",
   "id": "bf9211f1",
   "metadata": {},
   "source": [
    "Plot the potential energy surface obtained. Computing all of these points for a high-dimensional PES would be very expensive, which is why we use \"geometry optimization\" algorithms instead. \n",
    "\n",
    "The dissociation limit would be zero if we used a more accurate electronic structure approximation. We'll discuss this much more in a later module "
   ]
  },
  {
   "cell_type": "code",
   "execution_count": null,
   "id": "afc4f91c",
   "metadata": {},
   "outputs": [],
   "source": [
    "plt.plot(rs,des)\n",
    "plt.xlabel('C=O bond length (Angstrom)')\n",
    "plt.ylabel('Bond energy (kcal/mol)')\n",
    "plt.axhline(y=0, color='black',linestyle='-')\n",
    "ax=plt.gca()\n",
    "ax.set_ylim(-200,300)\n",
    "plt.show()"
   ]
  },
  {
   "cell_type": "markdown",
   "id": "319cfaea",
   "metadata": {},
   "source": [
    "Do a PySCF geometry optimization starting from a C=O bond length 1.7 Angstrom. Use the Jupyter 'magic command' to collect geometry and energy from each step of the optimization into a file "
   ]
  },
  {
   "cell_type": "code",
   "execution_count": null,
   "id": "88daf49e",
   "metadata": {},
   "outputs": [],
   "source": [
    "%%capture cap \n",
    "mco=gto.Mole(atom='C 0.0 0.0 0.0; O 0.0 0.0 1.7',basis=basis)\n",
    "mco.build()\n",
    "mfco=scf.RHF(mco)\n",
    "#mfco.kernel()\n",
    "optimize(mfco)"
   ]
  },
  {
   "cell_type": "code",
   "execution_count": null,
   "id": "bfca5b33",
   "metadata": {},
   "outputs": [],
   "source": [
    "#cap()\n",
    "with open('COopt.txt', 'w') as file:\n",
    "    file.write(cap.stdout)"
   ]
  },
  {
   "cell_type": "markdown",
   "id": "898ac312",
   "metadata": {},
   "source": [
    "Read the file to determine the dissociaton energy and C=O bond length at each step of the geometry optimization "
   ]
  },
  {
   "cell_type": "code",
   "execution_count": null,
   "id": "7a0f79e6",
   "metadata": {},
   "outputs": [],
   "source": [
    "DEopt=[]\n",
    "Csopt=[]\n",
    "Osopt=[]\n",
    "with open('COopt.txt', 'r') as file:\n",
    "    for line in file:\n",
    "        fields=line.split()\n",
    "        if(len(fields)>0):\n",
    "            if(fields[0]=='cycle'):\n",
    "                DE=hartreetokcalmol*(float(fields[4])-Eat)\n",
    "                DEopt.append(DE)\n",
    "            if(fields[0]=='C'):\n",
    "                Csopt.append(numpy.array((float(fields[2]),float(fields[3]),float(fields[4]))))\n",
    "            if(fields[0]=='O'):\n",
    "                Osopt.append(numpy.array((float(fields[2]),float(fields[3]),float(fields[4]))))\n",
    "Rsopt=[]\n",
    "for i in range(len(Csopt)):\n",
    "    v=Csopt[i]-Osopt[i]\n",
    "    R=numpy.dot(v,v)**0.5\n",
    "    Rsopt.append(R)\n",
    "                             \n",
    "#print(Rsopt\n",
    "labs=numpy.array(range(len(Csopt)))+1"
   ]
  },
  {
   "cell_type": "markdown",
   "id": "72c6415e",
   "metadata": {},
   "source": [
    "Plot each step as a point on the potential energy surface, labeled with step number. The algorithm \"walks downhill\" in steps 1-3, overshoots the minimum at step 4, then moves back at step 5 and converges by step 7. "
   ]
  },
  {
   "cell_type": "code",
   "execution_count": null,
   "id": "92e5ac07",
   "metadata": {},
   "outputs": [],
   "source": [
    "fig=plt.figure()\n",
    "ax1=fig.add_subplot(111)\n",
    "ax1.plot(rs,des,label=\"Computed PES\")\n",
    "ax1.scatter(Rsopt,DEopt,marker='o',label=\"Optimization points\")\n",
    "ax1.set_ylim(-200,300)\n",
    "for i, txt in enumerate(labs):\n",
    "    ax1.annotate(txt, (Rsopt[i], DEopt[i]),fontsize=14)\n",
    "plt.xlabel('C=O bond length (Angstrom)')\n",
    "plt.ylabel('Bond energy (kcal/mol)')\n",
    "plt.axhline(y=0, color='black',linestyle='-')\n",
    "plt.legend(loc='upper right')\n",
    "plt.show()"
   ]
  },
  {
   "cell_type": "markdown",
   "id": "d0875332",
   "metadata": {},
   "source": [
    "### Part 2: Optimizing multiple local minima: thioformic acid and 1-pentane"
   ]
  },
  {
   "cell_type": "markdown",
   "id": "28255d55",
   "metadata": {},
   "source": [
    "In this example, we consider  molecules with multiple local minima. While these may or may not interconvert in the gas phase or solution at normal temperatures, they always need to be treated separately in geometry optimizations.\n",
    "\n",
    "For thioformic acid, we generate two closely related initial geometries, and optimize them to two different isomers. This first block generates the default geometry for thioformic acid, and a modified geometry with a stretched H-O bond "
   ]
  },
  {
   "cell_type": "code",
   "execution_count": null,
   "id": "5623c038",
   "metadata": {},
   "outputs": [],
   "source": [
    "m=Chem.MolFromSmiles('C(=S)O')\n",
    "ma=Chem.AddHs(m)\n",
    "AllChem.EmbedMolecule(ma)\n",
    "mb=Chem.AddHs(m)\n",
    "AllChem.EmbedMolecule(mb)\n",
    "mb.GetConformer().SetAtomPosition(4,Point3D(-1.1,0.3,1.3))\n",
    "mbla=Chem.MolToMolBlock(ma)\n",
    "mblb=Chem.MolToMolBlock(mb)\n",
    "p=py3Dmol.view(width=400,height=400,viewergrid=(1,2))\n",
    "p.addModel(mbla,'sdf',viewer=(0,0))\n",
    "p.addModel(mblb,'sdf',viewer=(0,1))\n",
    "p.setStyle({'stick':{},'sphere':{\"scale\":0.3}})\n",
    "p.zoomTo()\n",
    "p.show()"
   ]
  },
  {
   "cell_type": "markdown",
   "id": "74943dff",
   "metadata": {},
   "source": [
    "Convert each RDKit geometry into a PySCF geometry and optimize "
   ]
  },
  {
   "cell_type": "code",
   "execution_count": null,
   "id": "790794c3",
   "metadata": {},
   "outputs": [],
   "source": [
    "elements = [atom.GetSymbol() for atom in ma.GetAtoms()]\n",
    "ca = ma.GetConformer().GetPositions()\n",
    "cb = mb.GetConformer().GetPositions()\n",
    "#print(coordinates)\n",
    "aa = [(element, coordinate) for element, coordinate in zip(elements, ca)]\n",
    "ab = [(element, coordinate) for element, coordinate in zip(elements, cb)]\n",
    "print(atoms)\n",
    "m3a = gto.Mole(basis=\"STO-3G\")\n",
    "m3a.atom = aa\n",
    "m3a.build();\n",
    "m3b = gto.Mole(basis=\"STO-3G\")\n",
    "m3b.atom = ab\n",
    "m3b.build();\n",
    "mf3a=scf.RHF(m3a)\n",
    "mf3b=scf.RHF(m3b)\n",
    "m4a=optimize(mf3a)\n",
    "m4b=optimize(mf3b)\n"
   ]
  },
  {
   "cell_type": "markdown",
   "id": "a7d1d103",
   "metadata": {},
   "source": [
    "View each optimized geometry. While the code  draws a little stick between H and O, not H and S, the two optimized geometries are consistent with the tautomers. This is OK, little sticks are not bonds! "
   ]
  },
  {
   "cell_type": "code",
   "execution_count": null,
   "id": "55f47c80",
   "metadata": {},
   "outputs": [],
   "source": [
    "ca = ma.GetConformer()\n",
    "cb = mb.GetConformer()\n",
    "nca=m4a.atom_coords() *0.529177\n",
    "ncb=m4b.atom_coords() *0.529177\n",
    "for i in range(ma.GetNumAtoms()):\n",
    "    ca.SetAtomPosition(i,Point3D(nca[i,0],nca[i,1],nca[i,2]))\n",
    "    cb.SetAtomPosition(i,Point3D(ncb[i,0],ncb[i,1],ncb[i,2]))\n",
    "mbla=Chem.MolToMolBlock(ma)\n",
    "mblb=Chem.MolToMolBlock(mb)\n",
    "p=py3Dmol.view(width=400,height=400,viewergrid=(1,2))\n",
    "p.addModel(mbla,'sdf',viewer=(0,0))\n",
    "p.addModel(mblb,'sdf',viewer=(0,1))\n",
    "p.setStyle({'stick':{},'sphere':{\"scale\":0.3}})\n",
    "p.zoomTo()\n",
    "p.show()"
   ]
  },
  {
   "cell_type": "markdown",
   "id": "91f8438c",
   "metadata": {},
   "source": [
    "For pentane, we  generate 100 conformers with the RDKit, optimize each with a MM force field, and view the first few nondegenerate optimized conformers."
   ]
  },
  {
   "cell_type": "code",
   "execution_count": null,
   "id": "dec720a8",
   "metadata": {
    "scrolled": true
   },
   "outputs": [],
   "source": [
    "m=Chem.MolFromSmiles('CCCCC')\n",
    "m2=Chem.AddHs(m)\n",
    "confids=AllChem.EmbedMultipleConfs(m2,numConfs=100)\n",
    "print('Number of conformers: %d'%(len(confids)))\n",
    "uniqueEs=[]\n",
    "uniqueIDs=[]\n",
    "for confid in confids:\n",
    "    AllChem.MMFFOptimizeMolecule(m2,confId=confid)\n",
    "    ff = AllChem.MMFFGetMoleculeForceField(m2, AllChem.MMFFGetMoleculeProperties(m2), confId=confid)\n",
    "    E=ff.CalcEnergy()\n",
    "    keep=1\n",
    "    for Eold in uniqueEs:\n",
    "        if((E-Eold)**2<0.000001):\n",
    "            keep=0\n",
    "    if(keep>0):\n",
    "        uniqueEs.append(E)\n",
    "        uniqueIDs.append(confid)\n",
    "        \n",
    "# Sort by energy \n",
    "sortedEs=[(x,y) for x,y in sorted(zip(uniqueEs,uniqueIDs))]\n",
    "Emin=sortedEs[0][0]\n",
    "print('Lowest energy: %.4f'%(Emin))\n",
    "    \n",
    "p = py3Dmol.view(width=600,height=200,viewergrid=(1,4))\n",
    "for ij in range(4):\n",
    "    i=ij%4\n",
    "    j=ij/4\n",
    "    ss=sortedEs[ij]\n",
    "    confid=ss[1]\n",
    "    E=ss[0]\n",
    "    DE=(E-Emin)\n",
    "    DElabel='%.2f'%(DE)\n",
    "    p.addModel(Chem.MolToMolBlock(m2,confId=confid), 'sdf',viewer=(j,i))\n",
    "    p.addLabel(DElabel,{'inFront':True,'fontColor':'black','backgroundColor':'white'},viewer=(j,i))\n",
    "    p.setStyle({'stick':{},'sphere':{\"scale\":0.3}},viewer=(j,i))\n",
    "p.zoomTo()\n",
    "#p.update()\n",
    "p.render()\n"
   ]
  },
  {
   "cell_type": "markdown",
   "id": "ea3e834b",
   "metadata": {},
   "source": [
    "## Part 3: A more complicated optimization, saqinavir \n",
    "\n",
    "Optimizing the geometries of large molecules can be challenging. In this example, I show the RDKit and PySCF optimization of a fragment of the anti-AIDS drug saquinavir. I intentionally include a mistake, leaving out two hydrogen atoms. The molecule is still a singlet with charge +1, however, the geometry is severely distorted due to the diradical character. \n",
    "\n",
    "I start the geometry optimization from the canonical SMILES available from PubChem "
   ]
  },
  {
   "cell_type": "code",
   "execution_count": null,
   "id": "7baffdd9",
   "metadata": {},
   "outputs": [],
   "source": [
    "#m=Chem.MolFromSmiles('CC(C)(C)NC(=O)C1CC2C[CH]CCC2CN1CC(C(CC3=CC=CC=C3)[N]C(=O)C(CC(=O)[NH3+])NC(=O)C4=NC5=CC=CC=C5C=C4)O')\n",
    "m=Chem.MolFromSmiles('CC(C)(C)NC(=O)C1CC2C[CH]CCC2CN1CC(C[N]C(=O)C(CC(=O)[NH3+])NC(=O))O')\n",
    "m2=Chem.AddHs(m)\n",
    "AllChem.EmbedMolecule(m2)\n",
    "mb=Chem.MolToMolBlock(m2)\n",
    "p=py3Dmol.view(width=400,height=400)\n",
    "p.addModel(mb,'sdf')\n",
    "p.setStyle({'stick':{},'sphere':{\"scale\":0.3}})\n",
    "p.zoomTo()\n",
    "p.show()"
   ]
  },
  {
   "cell_type": "code",
   "execution_count": null,
   "id": "807636d7",
   "metadata": {},
   "outputs": [],
   "source": [
    "elements = [atom.GetSymbol() for atom in m2.GetAtoms()]\n",
    "coordinates = m2.GetConformer().GetPositions()\n",
    "atoms = [(element, coordinate) for element, coordinate in zip(elements, coordinates)]\n",
    "\n",
    "pyscf_mole = gto.Mole(basis=\"sto-3g\",charge=1)\n",
    "pyscf_mole.atom = atoms\n",
    "pyscf_mole.build();\n",
    "\n",
    "mf=scf.RHF(pyscf_mole)"
   ]
  },
  {
   "cell_type": "code",
   "execution_count": null,
   "id": "c0ea1bf6",
   "metadata": {},
   "outputs": [],
   "source": [
    "%%capture cap \n",
    "optimize(mf)"
   ]
  },
  {
   "cell_type": "markdown",
   "id": "a2fcf564",
   "metadata": {},
   "source": [
    "Your assignment for this module has two parts \n",
    "\n",
    "Part 1: Optimize the enol and keto tautomers of acetone, and determine the isomerization energy. Compare the results of the RDKit to results reoptimizing with PySCF. \n",
    "\n",
    "Part 2: Find and fix the error in the saqinavir input geometry. \n",
    "\n",
    "For 50 points extra credit, fix the energy labels on the pentanol figure to be permanently underneath the pictured geometry. "
   ]
  }
 ],
 "metadata": {
  "kernelspec": {
   "display_name": "Python 3 (ipykernel)",
   "language": "python",
   "name": "python3"
  },
  "language_info": {
   "codemirror_mode": {
    "name": "ipython",
    "version": 3
   },
   "file_extension": ".py",
   "mimetype": "text/x-python",
   "name": "python",
   "nbconvert_exporter": "python",
   "pygments_lexer": "ipython3",
   "version": "3.10.9"
  }
 },
 "nbformat": 4,
 "nbformat_minor": 5
}
