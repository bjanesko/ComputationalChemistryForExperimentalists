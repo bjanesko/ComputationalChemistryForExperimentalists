{
 "cells": [
  {
   "cell_type": "markdown",
   "id": "576cfdf2",
   "metadata": {},
   "source": [
    "## Structure Analysis and Chemical Shift Prediction \n",
    "\n",
    "Benjamin G. Janesko, Department of Chemistry & Biochemistry, Texas Christian University \n",
    "April 2025\n",
    "\n",
    "This computational workflow performs conformational analysis with the RDKit, DFT refinement of low-energy conformations, and DFT prediction of 1H, 13C, 14N chemical shifts and spin-spin coupling constants."
   ]
  },
  {
   "cell_type": "markdown",
   "id": "a6c91e4e",
   "metadata": {},
   "source": [
    "If you're running in Google Colab, use the block below to install all necessary packages. "
   ]
  },
  {
   "cell_type": "code",
   "execution_count": null,
   "id": "cbb4cf82",
   "metadata": {},
   "outputs": [],
   "source": [
    "!pip install rdkit \n",
    "!pip install pyscf\n",
    "!pip install py3Dmol\n",
    "!pip install geometric\n",
    "!pip install pyscf.properties\n",
    "!pip install matplotlib"
   ]
  },
  {
   "cell_type": "markdown",
   "id": "f244f2e2",
   "metadata": {},
   "source": [
    "The next blocks import necessary Python packages and set up file format conversion "
   ]
  },
  {
   "cell_type": "code",
   "execution_count": null,
   "id": "1c692af1",
   "metadata": {},
   "outputs": [],
   "source": [
    "from rdkit import Chem\n",
    "from rdkit.Chem import Draw\n",
    "from rdkit.Chem import AllChem\n",
    "import py3Dmol\n",
    "import numpy\n",
    "import tabulate\n",
    "from pyscf import gto,scf,dft\n",
    "from pyscf.geomopt.geometric_solver import optimize\n",
    "from pyscf.prop import nmr,ssc\n",
    "import matplotlib.pyplot as plt\n",
    "from rdkit.Geometry import Point3D"
   ]
  },
  {
   "cell_type": "code",
   "execution_count": null,
   "id": "3247e447",
   "metadata": {},
   "outputs": [],
   "source": [
    "def RDKitToPySCF(rdkitmol,basis='3-21g'):\n",
    "    elements = [atom.GetSymbol() for atom in rdkitmol.GetAtoms()]\n",
    "    coordinates = rdkitmol.GetConformer().GetPositions()\n",
    "    atoms = [(element, coordinate) for element, coordinate in zip(elements, coordinates)]\n",
    "\n",
    "    pyscf_mole = gto.Mole(basis=basis)\n",
    "    pyscf_mole.atom = atoms\n",
    "    pyscf_mole.build();\n",
    "    return(pyscf_mole)\n",
    "    "
   ]
  },
  {
   "cell_type": "code",
   "execution_count": null,
   "id": "f792efb0",
   "metadata": {},
   "outputs": [],
   "source": [
    "def PySCFToRDKit(rdkitmol,pyscfmol):\n",
    "    m2 = Chem.rdchem.Mol(rdkitmol)\n",
    "    c  = m2.GetConformer()\n",
    "    nc = pyscfmol.atom_coords() *0.529177\n",
    "    for i in range(rdkitmol.GetNumAtoms()):\n",
    "        c.SetAtomPosition(i,Point3D(nc[i,0],nc[i,1],nc[i,2]))\n",
    "    return(m2)"
   ]
  },
  {
   "cell_type": "markdown",
   "id": "812e9428",
   "metadata": {},
   "source": [
    "## Part 1: Structure Input  "
   ]
  },
  {
   "cell_type": "markdown",
   "id": "dd17566a",
   "metadata": {},
   "source": [
    "Use this line if you have a .mol file "
   ]
  },
  {
   "cell_type": "code",
   "execution_count": null,
   "id": "b8845ddf",
   "metadata": {},
   "outputs": [],
   "source": [
    "m0=Chem.MolFromMolFile('./123thiadiazole.mol')"
   ]
  },
  {
   "cell_type": "markdown",
   "id": "674ac95b",
   "metadata": {},
   "source": [
    "Use this line if you're copying a SMILES string from ChemDraw "
   ]
  },
  {
   "cell_type": "code",
   "execution_count": null,
   "id": "45b4f861",
   "metadata": {},
   "outputs": [],
   "source": [
    "m0=Chem.MolFromSmiles('OCCC1=NN=C(C=O)S1')"
   ]
  },
  {
   "cell_type": "markdown",
   "id": "f66051d8",
   "metadata": {},
   "source": [
    "Check the molecule 2-D representation "
   ]
  },
  {
   "cell_type": "code",
   "execution_count": null,
   "id": "962fac8a",
   "metadata": {},
   "outputs": [],
   "source": [
    "img = Draw.MolToImage(m0)\n",
    "img"
   ]
  },
  {
   "cell_type": "markdown",
   "id": "bf871f51",
   "metadata": {},
   "source": [
    "## Part 2: Conformational search "
   ]
  },
  {
   "cell_type": "markdown",
   "id": "98881585",
   "metadata": {},
   "source": [
    "Set nmol to your desired number of low-energy conformers "
   ]
  },
  {
   "cell_type": "code",
   "execution_count": null,
   "id": "cdee7192",
   "metadata": {},
   "outputs": [],
   "source": [
    "nmol=1"
   ]
  },
  {
   "cell_type": "markdown",
   "id": "a41e7075",
   "metadata": {},
   "source": [
    "This block runs the conformational search and selects the nmol lowest-energy conformers "
   ]
  },
  {
   "cell_type": "code",
   "execution_count": null,
   "id": "eb552e3a",
   "metadata": {},
   "outputs": [],
   "source": [
    "m1=Chem.AddHs(m0)\n",
    "confids=AllChem.EmbedMultipleConfs(m1,numConfs=100)\n",
    "\n",
    "# Find unique energies \n",
    "uniqueEs=[]\n",
    "uniqueIDs=[]\n",
    "for confid in confids:\n",
    "    AllChem.MMFFOptimizeMolecule(m1,confId=confid)\n",
    "    ff = AllChem.MMFFGetMoleculeForceField(m1, AllChem.MMFFGetMoleculeProperties(m1), confId=confid)\n",
    "    E=ff.CalcEnergy()\n",
    "    keep=1\n",
    "    for Eold in uniqueEs:\n",
    "        if((E-Eold)**2<0.000001):\n",
    "            keep=0\n",
    "    if(keep>0):\n",
    "        uniqueEs.append(E)\n",
    "        uniqueIDs.append(confid)\n",
    "        \n",
    "# Sort the unique energies energy \n",
    "sortedEs=[(x,y) for x,y in sorted(zip(uniqueEs,uniqueIDs))]\n",
    "Emin=sortedEs[0][0]\n",
    "print('Lowest energy: %.4f'%(Emin))\n",
    "\n"
   ]
  },
  {
   "cell_type": "markdown",
   "id": "bebb1a53",
   "metadata": {},
   "source": [
    "This block prints the predicted 3-D structures of the low-energy conformers. Each conformer is labeled with its relative energy in kcal/mol  and the atom numbering.\n",
    "\n",
    "For the thiadiazole example, the lowest-energy conformer includes an interal hydrogen bond between the R-OH group and one thiadiazole nitrogen. "
   ]
  },
  {
   "cell_type": "code",
   "execution_count": null,
   "id": "668dde19",
   "metadata": {},
   "outputs": [],
   "source": [
    "p=py3Dmol.view(width=800,height=400,viewergrid=(1,nmol))\n",
    "for imol in range(nmol):\n",
    "    ss=sortedEs[imol]\n",
    "    confid=ss[1]\n",
    "    E=ss[0]\n",
    "    DE=(E-Emin)\n",
    "    DElabel='%.2f'%(DE)\n",
    "    p.addModel(Chem.MolToMolBlock(m1,confId=confid), 'sdf',viewer=(0,imol))\n",
    "    p.addPropertyLabels(\"index\",{},{'inFront':True,'fontColor':'black','fontSize':10,'fontOpacity':1,'backgroundColor':'white','backgroundOpacity':0})\n",
    "    #p.addLabel(DElabel,{'inFront':True,'position':{'x':0.0,'y':-2,'z':0.0},'fontColor':'black','backgroundColor':'white'},viewer=(0,imol))\n",
    "    p.setStyle({'stick':{},'sphere':{\"scale\":0.3}},viewer=(0,imol))\n",
    "p.zoomTo()\n",
    "p.show()"
   ]
  },
  {
   "cell_type": "markdown",
   "id": "8539c8e1",
   "metadata": {},
   "source": [
    "## Part 3: DFT structure refinement\n",
    "\n",
    "This block generates B3LYP/6-31G gas-phase optimized geometries. This is the slowest step in the workflow. "
   ]
  },
  {
   "cell_type": "code",
   "execution_count": null,
   "id": "7c6b9319",
   "metadata": {},
   "outputs": [],
   "source": [
    "optmols=[]\n",
    "for imol in range(nmol):\n",
    "    ss=sortedEs[imol]\n",
    "    confid=ss[1]\n",
    "    mb3=Chem.Mol(m1,confId=confid)\n",
    "    m3=RDKitToPySCF(mb3,basis='3-21g')\n",
    "    m3.build()\n",
    "    #mf3=dft.RKS(m3,xc='b3lyp')\n",
    "    mf3=scf.RHF(m3)\n",
    "    m4=optimize(mf3)\n",
    "    optmols.append(m4)"
   ]
  },
  {
   "cell_type": "code",
   "execution_count": null,
   "id": "1ea950c0",
   "metadata": {},
   "outputs": [],
   "source": [
    "EminDFTs=[]\n",
    "for imol in range(nmol):\n",
    "    m4=optmols[imol]\n",
    "    m4.basis='6-31+G(d)'\n",
    "    m4.build()\n",
    "    print(m4.nao)\n",
    "    mf4=dft.RKS(m4,xc='b3lyp')\n",
    "    mf4.kernel()\n",
    "    EminDFTs.append(mf4.e_tot)"
   ]
  },
  {
   "cell_type": "code",
   "execution_count": null,
   "id": "ac792185",
   "metadata": {},
   "outputs": [],
   "source": [
    "# Draw pictures of the most stable optimized structures \n",
    "p=py3Dmol.view(width=800,height=300,viewergrid=(1,nmol))\n",
    "for imol in range(nmol):\n",
    "    ss=sortedEs[imol]\n",
    "    confid=ss[1]\n",
    "    m3=PySCFToRDKit(m1,optmols[imol])\n",
    "    DE=627.5095*(EminDFTs[imol]-EminDFTs[0])\n",
    "    DElabel='%.2f'%(DE)\n",
    "    p.addModel(Chem.MolToMolBlock(m3), 'sdf',viewer=(0,imol))\n",
    "    p.addPropertyLabels(\"index\",{},{'inFront':True,'fontColor':'black','fontSize':12,'fontOpacity':1,'backgroundColor':'white','backgroundOpacity':0})\n",
    "    p.addLabel(DElabel,{'inFront':True,'borderOpacity':0,'position':{'x':0.0,'y':-2,'z':0.0},'fontColor':'black','backgroundColor':'white','backgroundOpacity':0},viewer=(0,imol))\n",
    "    #p.addLabel(DElabel,{'inFront':True,'fontColor':'black','backgroundColor':'white'},viewer=(0,imol))\n",
    "    p.setStyle({'stick':{},'sphere':{\"scale\":0.3}},viewer=(0,imol))\n",
    "p.zoomTo()\n",
    "p.show()"
   ]
  },
  {
   "cell_type": "markdown",
   "id": "4e5a8405",
   "metadata": {},
   "source": [
    "## Part 4: Chemical shifts \n",
    "\n",
    "HF/6-31+G(d)//B3LYP/6-31G chemical shifts relative to that computed for a reference compound. Reference compounds are TMS for 1H and 13C, nitromethane for 15N. "
   ]
  },
  {
   "cell_type": "code",
   "execution_count": null,
   "id": "9ec50c61",
   "metadata": {},
   "outputs": [],
   "source": [
    "refVals={'H':32.47,\n",
    "        'C':199.47,\n",
    "        'N':-272.23}"
   ]
  },
  {
   "cell_type": "markdown",
   "id": "773320e8",
   "metadata": {},
   "source": [
    "The next block does the calculations. "
   ]
  },
  {
   "cell_type": "code",
   "execution_count": null,
   "id": "11d01324",
   "metadata": {},
   "outputs": [],
   "source": [
    "shields=[]\n",
    "rhfs=[]\n",
    "for imol in range(nmol):\n",
    "    m4=optmols[imol]\n",
    "    m4.basis='6-31+G(d)'\n",
    "    m4.build()\n",
    "    mf4=scf.RHF(m4)\n",
    "    mf4.kernel()\n",
    "    rhfs.append(mf4)\n",
    "    mn5=nmr.rhf.NMR(mf4)\n",
    "    sh5=mn5.kernel()\n",
    "    shields.append(sh5)"
   ]
  },
  {
   "cell_type": "markdown",
   "id": "8ec947c7",
   "metadata": {},
   "source": [
    "The next block reports the chemical shifts for each of the low-energy conformers.\n",
    "\n",
    "For this thiadiazole example, R-OH hydrogen atom 15 has chemical shift 4.6 in the lowest-energy hydrogen-bonded conformer, chemical shifts 1.5-1.7 in the other non-hydrogen-bonded conformers. "
   ]
  },
  {
   "cell_type": "code",
   "execution_count": null,
   "id": "5b95ac9f",
   "metadata": {},
   "outputs": [],
   "source": [
    "m=optmols[0]\n",
    "for iat in range(m.natm):\n",
    "    t=m.atom_symbol(iat)\n",
    "    if(t in refVals):\n",
    "        r=refVals[t]\n",
    "        print('%2d %3s '%(iat,t),end='')\n",
    "        for imol in range(nmol):\n",
    "            s=shields[imol]\n",
    "            val=(s[iat,0,0]+s[iat,1,1]+s[iat,2,2])/3\n",
    "            print(' %9.2f'%(r-val),end='')\n",
    "        print(' ')\n",
    "    "
   ]
  },
  {
   "cell_type": "markdown",
   "id": "c57718de",
   "metadata": {},
   "source": [
    "## Part 5: Spin-Spin Coupling \n",
    "\n",
    "HF/6-31+G(d)//B3LYP/6-31G spin spin coupling constants "
   ]
  },
  {
   "cell_type": "markdown",
   "id": "a6236924",
   "metadata": {},
   "source": [
    "Set cut to your desired cutoff for printed spin-spin couplings, in Hz "
   ]
  },
  {
   "cell_type": "code",
   "execution_count": null,
   "id": "d4c88e20",
   "metadata": {},
   "outputs": [],
   "source": [
    "cut=4"
   ]
  },
  {
   "cell_type": "markdown",
   "id": "acdd078b",
   "metadata": {},
   "source": [
    "This block does the spin-spin coupling calculations "
   ]
  },
  {
   "cell_type": "code",
   "execution_count": null,
   "id": "36b1e970",
   "metadata": {},
   "outputs": [],
   "source": [
    "sscs=[]\n",
    "for imol in range(nmol):\n",
    "    mf4=rhfs[imol]\n",
    "    ms4=ssc.RHF(mf4)\n",
    "    thessc=ms4.kernel()\n",
    "    sscs.append(thessc)"
   ]
  },
  {
   "cell_type": "markdown",
   "id": "92390750",
   "metadata": {},
   "source": [
    "This block prints the non-negligible SSCCs for 13C, 1H, and 15N nuclei, in Hz"
   ]
  },
  {
   "cell_type": "code",
   "execution_count": null,
   "id": "3e0def62",
   "metadata": {},
   "outputs": [],
   "source": [
    "conv=487893880.\n",
    "m=optmols[0]\n",
    "for iat in range(m.natm):\n",
    "    ti=m.atom_symbol(iat)\n",
    "    if(ti in refVals):\n",
    "        for jat in range(iat+1,m.natm):\n",
    "            ijat=int(jat*(jat-1)/2+iat)\n",
    "            tj=m.atom_symbol(jat)\n",
    "            if(tj in refVals):\n",
    "                ss0=sscs[0]\n",
    "                vv = conv*(ss0[ijat,0,0]+ss0[ijat,1,1]+ss0[ijat,2,2])/3\n",
    "                if(vv**2>cut**2):\n",
    "                    print('%2d %2d %3s %3s'%(iat,jat,ti,tj),end='')\n",
    "                    for imol in range(nmol):\n",
    "                        s=sscs[imol][ijat]\n",
    "                        val=conv*(s[0,0]+s[1,1]+s[2,2])/3\n",
    "                        print(' %9.2f'%(val),end='')\n",
    "                    print(' ')\n",
    "    "
   ]
  },
  {
   "cell_type": "code",
   "execution_count": null,
   "id": "849e303b",
   "metadata": {},
   "outputs": [],
   "source": []
  }
 ],
 "metadata": {
  "kernelspec": {
   "display_name": "Python 3 (ipykernel)",
   "language": "python",
   "name": "python3"
  },
  "language_info": {
   "codemirror_mode": {
    "name": "ipython",
    "version": 3
   },
   "file_extension": ".py",
   "mimetype": "text/x-python",
   "name": "python",
   "nbconvert_exporter": "python",
   "pygments_lexer": "ipython3",
   "version": "3.10.9"
  }
 },
 "nbformat": 4,
 "nbformat_minor": 5
}
