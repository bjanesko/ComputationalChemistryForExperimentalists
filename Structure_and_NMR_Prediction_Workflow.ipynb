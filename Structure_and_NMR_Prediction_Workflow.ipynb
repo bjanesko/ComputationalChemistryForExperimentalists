{
 "cells": [
  {
   "cell_type": "markdown",
   "id": "576cfdf2",
   "metadata": {},
   "source": [
    "## Structure Analysis and Chemical Shift Prediction \n",
    "\n",
    "Benjamin G. Janesko, Department of Chemistry & Biochemistry, Texas Christian University \n",
    "April 2025\n",
    "\n",
    "This computational workflow performs conformational analysis with the RDKit, DFT refinement of low-energy conformations, and DFT prediction of 1H, 13C, 14N chemical shifts and spin-spin coupling constants."
   ]
  },
  {
   "cell_type": "markdown",
   "id": "65fd54fb",
   "metadata": {},
   "source": [
    "If you're running in Google Colab, use the block below to install all necessary packages. "
   ]
  },
  {
   "cell_type": "code",
   "execution_count": null,
   "id": "ce740fa6",
   "metadata": {},
   "outputs": [],
   "source": [
    "!pip install rdkit \n",
    "!pip install pyscf\n",
    "!pip install py3Dmol\n",
    "!pip install geometric\n",
    "!pip install pyscf.properties\n",
    "!pip install matplotlib"
   ]
  },
  {
   "cell_type": "markdown",
   "id": "aea71003",
   "metadata": {},
   "source": [
    "The next blocks import necessary Python packages and set up file format conversion "
   ]
  },
  {
   "cell_type": "code",
   "execution_count": 2,
   "id": "1c692af1",
   "metadata": {},
   "outputs": [],
   "source": [
    "from rdkit import Chem\n",
    "from rdkit.Chem import Draw\n",
    "from rdkit.Chem import AllChem\n",
    "import py3Dmol\n",
    "import numpy\n",
    "import tabulate\n",
    "from pyscf import gto,scf,dft\n",
    "from pyscf.geomopt.geometric_solver import optimize\n",
    "from pyscf.prop import nmr,ssc\n",
    "import matplotlib.pyplot as plt\n",
    "from rdkit.Geometry import Point3D"
   ]
  },
  {
   "cell_type": "code",
   "execution_count": 3,
   "id": "3247e447",
   "metadata": {},
   "outputs": [],
   "source": [
    "def RDKitToPySCF(rdkitmol,basis='3-21g'):\n",
    "    elements = [atom.GetSymbol() for atom in rdkitmol.GetAtoms()]\n",
    "    coordinates = rdkitmol.GetConformer().GetPositions()\n",
    "    atoms = [(element, coordinate) for element, coordinate in zip(elements, coordinates)]\n",
    "\n",
    "    pyscf_mole = gto.Mole(basis=basis)\n",
    "    pyscf_mole.atom = atoms\n",
    "    pyscf_mole.build();\n",
    "    return(pyscf_mole)\n",
    "    "
   ]
  },
  {
   "cell_type": "code",
   "execution_count": 4,
   "id": "f792efb0",
   "metadata": {},
   "outputs": [],
   "source": [
    "def PySCFToRDKit(rdkitmol,pyscfmol):\n",
    "    m2 = Chem.rdchem.Mol(rdkitmol)\n",
    "    c  = m2.GetConformer()\n",
    "    nc = pyscfmol.atom_coords() *0.529177\n",
    "    for i in range(rdkitmol.GetNumAtoms()):\n",
    "        c.SetAtomPosition(i,Point3D(nc[i,0],nc[i,1],nc[i,2]))\n",
    "    return(m2)"
   ]
  },
  {
   "cell_type": "markdown",
   "id": "812e9428",
   "metadata": {},
   "source": [
    "## Part 1: Structure Input  "
   ]
  },
  {
   "cell_type": "markdown",
   "id": "dd17566a",
   "metadata": {},
   "source": [
    "Use this line if you have a .mol file "
   ]
  },
  {
   "cell_type": "code",
   "execution_count": 5,
   "id": "b8845ddf",
   "metadata": {},
   "outputs": [],
   "source": [
    "m0=Chem.MolFromMolFile('./thiadiazole.mol')"
   ]
  },
  {
   "cell_type": "markdown",
   "id": "674ac95b",
   "metadata": {},
   "source": [
    "Use this line if you're copying a SMILES string from ChemDraw "
   ]
  },
  {
   "cell_type": "code",
   "execution_count": null,
   "id": "45b4f861",
   "metadata": {},
   "outputs": [],
   "source": [
    "m0=Chem.MolFromSmiles('OCCC1=NN=C(C=O)S1')"
   ]
  },
  {
   "cell_type": "markdown",
   "id": "f66051d8",
   "metadata": {},
   "source": [
    "Check the molecule 2-D representation "
   ]
  },
  {
   "cell_type": "code",
   "execution_count": 6,
   "id": "962fac8a",
   "metadata": {},
   "outputs": [
    {
     "data": {
      "image/png": "[encoded data removed]",
      "text/plain": [
       "<PIL.PngImagePlugin.PngImageFile image mode=RGB size=300x300>"
      ]
     },
     "execution_count": 6,
     "metadata": {},
     "output_type": "execute_result"
    }
   ],
   "source": [
    "img = Draw.MolToImage(m0)\n",
    "img"
   ]
  },
  {
   "cell_type": "markdown",
   "id": "bf871f51",
   "metadata": {},
   "source": [
    "## Part 2: Conformational search "
   ]
  },
  {
   "cell_type": "markdown",
   "id": "98881585",
   "metadata": {},
   "source": [
    "Set nmol to your desired number of low-energy conformers "
   ]
  },
  {
   "cell_type": "code",
   "execution_count": 7,
   "id": "cdee7192",
   "metadata": {},
   "outputs": [],
   "source": [
    "nmol=3"
   ]
  },
  {
   "cell_type": "markdown",
   "id": "a41e7075",
   "metadata": {},
   "source": [
    "This block runs the conformational search and selects the nmol lowest-energy conformers "
   ]
  },
  {
   "cell_type": "code",
   "execution_count": 8,
   "id": "eb552e3a",
   "metadata": {},
   "outputs": [
    {
     "name": "stdout",
     "output_type": "stream",
     "text": [
      "Lowest energy: 23.3292\n"
     ]
    }
   ],
   "source": [
    "m1=Chem.AddHs(m0)\n",
    "confids=AllChem.EmbedMultipleConfs(m1,numConfs=100)\n",
    "\n",
    "# Find unique energies \n",
    "uniqueEs=[]\n",
    "uniqueIDs=[]\n",
    "for confid in confids:\n",
    "    AllChem.MMFFOptimizeMolecule(m1,confId=confid)\n",
    "    ff = AllChem.MMFFGetMoleculeForceField(m1, AllChem.MMFFGetMoleculeProperties(m1), confId=confid)\n",
    "    E=ff.CalcEnergy()\n",
    "    keep=1\n",
    "    for Eold in uniqueEs:\n",
    "        if((E-Eold)**2<0.000001):\n",
    "            keep=0\n",
    "    if(keep>0):\n",
    "        uniqueEs.append(E)\n",
    "        uniqueIDs.append(confid)\n",
    "        \n",
    "# Sort the unique energies energy \n",
    "sortedEs=[(x,y) for x,y in sorted(zip(uniqueEs,uniqueIDs))]\n",
    "Emin=sortedEs[0][0]\n",
    "print('Lowest energy: %.4f'%(Emin))\n",
    "\n"
   ]
  },
  {
   "cell_type": "markdown",
   "id": "bebb1a53",
   "metadata": {},
   "source": [
    "This block prints the predicted 3-D structures of the low-energy conformers. Each conformer is labeled with its relative energy in kcal/mol  and the atom numbering.\n",
    "\n",
    "For the thiadiazole example, the lowest-energy conformer includes an interal hydrogen bond between the R-OH group and one thiadiazole nitrogen. "
   ]
  },
  {
   "cell_type": "code",
   "execution_count": 11,
   "id": "668dde19",
   "metadata": {},
   "outputs": [
    {
     "data": {
      "application/3dmoljs_load.v0": "<div id=\"3dmolviewer_1743528343511157\"  style=\"position: relative; width: 800px; height: 400px;\">\n        <p id=\"3dmolwarning_1743528343511157\" style=\"background-color:#ffcccc;color:black\">3Dmol.js failed to load for some reason.  Please check your browser console for error messages.<br></p>\n        </div>\n<script>\n\nvar loadScriptAsync = function(uri){\n  return new Promise((resolve, reject) => {\n    //this is to ignore the existence of requirejs amd\n    var savedexports, savedmodule;\n    if (typeof exports !== 'undefined') savedexports = exports;\n    else exports = {}\n    if (typeof module !== 'undefined') savedmodule = module;\n    else module = {}\n\n    var tag = document.createElement('script');\n    tag.src = uri;\n    tag.async = true;\n    tag.onload = () => {\n        exports = savedexports;\n        module = savedmodule;\n        resolve();\n    };\n  var firstScriptTag = document.getElementsByTagName('script')[0];\n  firstScriptTag.parentNode.insertBefore(tag, firstScriptTag);\n});\n};\n\nif(typeof $3Dmolpromise === 'undefined') {\n$3Dmolpromise = null;\n  $3Dmolpromise = loadScriptAsync('https://cdnjs.cloudflare.com/ajax/libs/3Dmol/2.3.0/3Dmol-min.js');\n}\n\nvar viewer_1743528343511157 = null;\nvar warn = document.getElementById(\"3dmolwarning_1743528343511157\");\nif(warn) {\n    warn.parentNode.removeChild(warn);\n}\n$3Dmolpromise.then(function() {\nvar viewergrid_1743528343511157 = null;\nviewergrid_1743528343511157 = $3Dmol.createViewerGrid(document.getElementById(\"3dmolviewer_1743528343511157\"),{rows: 1, cols: 3, control_all: true},{backgroundColor:\"white\"});\nviewer_1743528343511157 = viewergrid_1743528343511157[0][0];\nviewergrid_1743528343511157[0][0].zoomTo();viewergrid_1743528343511157[0][1].zoomTo();viewergrid_1743528343511157[0][2].zoomTo();\tviewergrid_1743528343511157[0][0].addModel(\"thiadiazole.mol\\n     RDKit          3D\\n\\n 16 16  0  0  0  0  0  0  0  0999 V2000\\n   -0.0860   -0.3227    0.2855 C   0  0  0  0  0  0  0  0  0  0  0  0\\n    0.2224    0.9342    0.0291 N   0  0  0  0  0  0  0  0  0  0  0  0\\n    1.5813    1.1630    0.0938 N   0  0  0  0  0  0  0  0  0  0  0  0\\n    2.2467    0.0658    0.3862 C   0  0  0  0  0  0  0  0  0  0  0  0\\n    1.2758   -1.3230    0.6102 S   0  0  0  0  0  0  0  0  0  0  0  0\\n    3.6803    0.0369    0.5083 C   0  0  0  0  0  0  0  0  0  0  0  0\\n    4.3721   -0.9425    0.7837 O   0  0  0  0  0  0  0  0  0  0  0  0\\n   -1.4730   -0.8853    0.2812 C   0  0  0  0  0  0  0  0  0  0  0  0\\n   -2.5122    0.1648    0.6681 C   0  0  0  0  0  0  0  0  0  0  0  0\\n   -2.6874    1.1246   -0.3701 O   0  0  0  0  0  0  0  0  0  0  0  0\\n    4.1670    1.0113    0.3300 H   0  0  0  0  0  0  0  0  0  0  0  0\\n   -1.5395   -1.7207    0.9878 H   0  0  0  0  0  0  0  0  0  0  0  0\\n   -1.6876   -1.2688   -0.7231 H   0  0  0  0  0  0  0  0  0  0  0  0\\n   -3.4816   -0.3191    0.8237 H   0  0  0  0  0  0  0  0  0  0  0  0\\n   -2.2448    0.6900    1.5915 H   0  0  0  0  0  0  0  0  0  0  0  0\\n   -1.8336    1.5916   -0.4714 H   0  0  0  0  0  0  0  0  0  0  0  0\\n  1  2  2  0\\n  2  3  1  0\\n  3  4  2  0\\n  4  5  1  0\\n  5  1  1  0\\n  4  6  1  0\\n  6  7  2  0\\n  1  8  1  0\\n  8  9  1  0\\n  9 10  1  0\\n  6 11  1  0\\n  8 12  1  0\\n  8 13  1  0\\n  9 14  1  0\\n  9 15  1  0\\n 10 16  1  0\\nM  END\\n\",\"sdf\");\n\tviewergrid_1743528343511157[0][0].addPropertyLabels(\"index\",{},{\"inFront\": true, \"fontColor\": \"black\", \"fontSize\": 10, \"fontOpacity\": 1, \"backgroundColor\": \"white\", \"backgroundOpacity\": 0});\n\tviewergrid_1743528343511157[0][1].addPropertyLabels(\"index\",{},{\"inFront\": true, \"fontColor\": \"black\", \"fontSize\": 10, \"fontOpacity\": 1, \"backgroundColor\": \"white\", \"backgroundOpacity\": 0});\n\tviewergrid_1743528343511157[0][2].addPropertyLabels(\"index\",{},{\"inFront\": true, \"fontColor\": \"black\", \"fontSize\": 10, \"fontOpacity\": 1, \"backgroundColor\": \"white\", \"backgroundOpacity\": 0});\n\tviewergrid_1743528343511157[0][0].setStyle({\"stick\": {}, \"sphere\": {\"scale\": 0.3}});\n\tviewergrid_1743528343511157[0][1].addModel(\"thiadiazole.mol\\n     RDKit          3D\\n\\n 16 16  0  0  0  0  0  0  0  0999 V2000\\n    0.0117   -0.1333    0.5906 C   0  0  0  0  0  0  0  0  0  0  0  0\\n    0.4531   -1.3756    0.5465 N   0  0  0  0  0  0  0  0  0  0  0  0\\n    1.7608   -1.4494    0.1100 N   0  0  0  0  0  0  0  0  0  0  0  0\\n    2.2542   -0.2573   -0.1503 C   0  0  0  0  0  0  0  0  0  0  0  0\\n    1.1759    1.0406    0.1154 S   0  0  0  0  0  0  0  0  0  0  0  0\\n    3.6004   -0.0636   -0.6195 C   0  0  0  0  0  0  0  0  0  0  0  0\\n    4.1433    1.0106   -0.8756 O   0  0  0  0  0  0  0  0  0  0  0  0\\n   -1.3648    0.2585    1.0210 C   0  0  0  0  0  0  0  0  0  0  0  0\\n   -2.3788    0.0323   -0.0949 C   0  0  0  0  0  0  0  0  0  0  0  0\\n   -2.2680    1.0616   -1.0735 O   0  0  0  0  0  0  0  0  0  0  0  0\\n    4.1696   -1.0005   -0.7478 H   0  0  0  0  0  0  0  0  0  0  0  0\\n   -1.3853    1.3049    1.3475 H   0  0  0  0  0  0  0  0  0  0  0  0\\n   -1.6383   -0.3599    1.8843 H   0  0  0  0  0  0  0  0  0  0  0  0\\n   -2.2405   -0.9376   -0.5845 H   0  0  0  0  0  0  0  0  0  0  0  0\\n   -3.3933    0.0766    0.3142 H   0  0  0  0  0  0  0  0  0  0  0  0\\n   -2.8999    0.8514   -1.7835 H   0  0  0  0  0  0  0  0  0  0  0  0\\n  1  2  2  0\\n  2  3  1  0\\n  3  4  2  0\\n  4  5  1  0\\n  5  1  1  0\\n  4  6  1  0\\n  6  7  2  0\\n  1  8  1  0\\n  8  9  1  0\\n  9 10  1  0\\n  6 11  1  0\\n  8 12  1  0\\n  8 13  1  0\\n  9 14  1  0\\n  9 15  1  0\\n 10 16  1  0\\nM  END\\n\",\"sdf\");\n\tviewergrid_1743528343511157[0][0].addPropertyLabels(\"index\",{},{\"inFront\": true, \"fontColor\": \"black\", \"fontSize\": 10, \"fontOpacity\": 1, \"backgroundColor\": \"white\", \"backgroundOpacity\": 0});\n\tviewergrid_1743528343511157[0][1].addPropertyLabels(\"index\",{},{\"inFront\": true, \"fontColor\": \"black\", \"fontSize\": 10, \"fontOpacity\": 1, \"backgroundColor\": \"white\", \"backgroundOpacity\": 0});\n\tviewergrid_1743528343511157[0][2].addPropertyLabels(\"index\",{},{\"inFront\": true, \"fontColor\": \"black\", \"fontSize\": 10, \"fontOpacity\": 1, \"backgroundColor\": \"white\", \"backgroundOpacity\": 0});\n\tviewergrid_1743528343511157[0][1].setStyle({\"stick\": {}, \"sphere\": {\"scale\": 0.3}});\n\tviewergrid_1743528343511157[0][2].addModel(\"thiadiazole.mol\\n     RDKit          3D\\n\\n 16 16  0  0  0  0  0  0  0  0999 V2000\\n    0.0613    0.1026    0.3103 C   0  0  0  0  0  0  0  0  0  0  0  0\\n    0.5713   -0.3915   -0.8009 N   0  0  0  0  0  0  0  0  0  0  0  0\\n    1.9461   -0.2789   -0.8428 N   0  0  0  0  0  0  0  0  0  0  0  0\\n    2.4206    0.2969    0.2410 C   0  0  0  0  0  0  0  0  0  0  0  0\\n    1.2390    0.7449    1.3909 S   0  0  0  0  0  0  0  0  0  0  0  0\\n    3.8260    0.5311    0.4418 C   0  0  0  0  0  0  0  0  0  0  0  0\\n    4.3487    1.0608    1.4216 O   0  0  0  0  0  0  0  0  0  0  0  0\\n   -1.3872    0.1366    0.6667 C   0  0  0  0  0  0  0  0  0  0  0  0\\n   -2.2668   -0.4776   -0.4156 C   0  0  0  0  0  0  0  0  0  0  0  0\\n   -3.6302   -0.4097   -0.0068 O   0  0  0  0  0  0  0  0  0  0  0  0\\n    4.4628    0.1856   -0.3907 H   0  0  0  0  0  0  0  0  0  0  0  0\\n   -1.5533   -0.3979    1.6105 H   0  0  0  0  0  0  0  0  0  0  0  0\\n   -1.7052    1.1720    0.8429 H   0  0  0  0  0  0  0  0  0  0  0  0\\n   -2.1641    0.0637   -1.3623 H   0  0  0  0  0  0  0  0  0  0  0  0\\n   -2.0100   -1.5292   -0.5835 H   0  0  0  0  0  0  0  0  0  0  0  0\\n   -4.1590   -0.8095   -0.7198 H   0  0  0  0  0  0  0  0  0  0  0  0\\n  1  2  2  0\\n  2  3  1  0\\n  3  4  2  0\\n  4  5  1  0\\n  5  1  1  0\\n  4  6  1  0\\n  6  7  2  0\\n  1  8  1  0\\n  8  9  1  0\\n  9 10  1  0\\n  6 11  1  0\\n  8 12  1  0\\n  8 13  1  0\\n  9 14  1  0\\n  9 15  1  0\\n 10 16  1  0\\nM  END\\n\",\"sdf\");\n\tviewergrid_1743528343511157[0][0].addPropertyLabels(\"index\",{},{\"inFront\": true, \"fontColor\": \"black\", \"fontSize\": 10, \"fontOpacity\": 1, \"backgroundColor\": \"white\", \"backgroundOpacity\": 0});\n\tviewergrid_1743528343511157[0][1].addPropertyLabels(\"index\",{},{\"inFront\": true, \"fontColor\": \"black\", \"fontSize\": 10, \"fontOpacity\": 1, \"backgroundColor\": \"white\", \"backgroundOpacity\": 0});\n\tviewergrid_1743528343511157[0][2].addPropertyLabels(\"index\",{},{\"inFront\": true, \"fontColor\": \"black\", \"fontSize\": 10, \"fontOpacity\": 1, \"backgroundColor\": \"white\", \"backgroundOpacity\": 0});\n\tviewergrid_1743528343511157[0][2].setStyle({\"stick\": {}, \"sphere\": {\"scale\": 0.3}});\n\tviewergrid_1743528343511157[0][0].zoomTo();\n\tviewergrid_1743528343511157[0][1].zoomTo();\n\tviewergrid_1743528343511157[0][2].zoomTo();\nviewergrid_1743528343511157[0][2].render();\nviewergrid_1743528343511157[0][1].render();\nviewergrid_1743528343511157[0][0].render();\n});\n</script>",
      "text/html": [
       "<div id=\"3dmolviewer_1743528343511157\"  style=\"position: relative; width: 800px; height: 400px;\">\n",
       "        <p id=\"3dmolwarning_1743528343511157\" style=\"background-color:#ffcccc;color:black\">3Dmol.js failed to load for some reason.  Please check your browser console for error messages.<br></p>\n",
       "        </div>\n",
       "<script>\n",
       "\n",
       "var loadScriptAsync = function(uri){\n",
       "  return new Promise((resolve, reject) => {\n",
       "    //this is to ignore the existence of requirejs amd\n",
       "    var savedexports, savedmodule;\n",
       "    if (typeof exports !== 'undefined') savedexports = exports;\n",
       "    else exports = {}\n",
       "    if (typeof module !== 'undefined') savedmodule = module;\n",
       "    else module = {}\n",
       "\n",
       "    var tag = document.createElement('script');\n",
       "    tag.src = uri;\n",
       "    tag.async = true;\n",
       "    tag.onload = () => {\n",
       "        exports = savedexports;\n",
       "        module = savedmodule;\n",
       "        resolve();\n",
       "    };\n",
       "  var firstScriptTag = document.getElementsByTagName('script')[0];\n",
       "  firstScriptTag.parentNode.insertBefore(tag, firstScriptTag);\n",
       "});\n",
       "};\n",
       "\n",
       "if(typeof $3Dmolpromise === 'undefined') {\n",
       "$3Dmolpromise = null;\n",
       "  $3Dmolpromise = loadScriptAsync('https://cdnjs.cloudflare.com/ajax/libs/3Dmol/2.3.0/3Dmol-min.js');\n",
       "}\n",
       "\n",
       "var viewer_1743528343511157 = null;\n",
       "var warn = document.getElementById(\"3dmolwarning_1743528343511157\");\n",
       "if(warn) {\n",
       "    warn.parentNode.removeChild(warn);\n",
       "}\n",
       "$3Dmolpromise.then(function() {\n",
       "var viewergrid_1743528343511157 = null;\n",
       "viewergrid_1743528343511157 = $3Dmol.createViewerGrid(document.getElementById(\"3dmolviewer_1743528343511157\"),{rows: 1, cols: 3, control_all: true},{backgroundColor:\"white\"});\n",
       "viewer_1743528343511157 = viewergrid_1743528343511157[0][0];\n",
       "viewergrid_1743528343511157[0][0].zoomTo();viewergrid_1743528343511157[0][1].zoomTo();viewergrid_1743528343511157[0][2].zoomTo();\tviewergrid_1743528343511157[0][0].addModel(\"thiadiazole.mol\\n     RDKit          3D\\n\\n 16 16  0  0  0  0  0  0  0  0999 V2000\\n   -0.0860   -0.3227    0.2855 C   0  0  0  0  0  0  0  0  0  0  0  0\\n    0.2224    0.9342    0.0291 N   0  0  0  0  0  0  0  0  0  0  0  0\\n    1.5813    1.1630    0.0938 N   0  0  0  0  0  0  0  0  0  0  0  0\\n    2.2467    0.0658    0.3862 C   0  0  0  0  0  0  0  0  0  0  0  0\\n    1.2758   -1.3230    0.6102 S   0  0  0  0  0  0  0  0  0  0  0  0\\n    3.6803    0.0369    0.5083 C   0  0  0  0  0  0  0  0  0  0  0  0\\n    4.3721   -0.9425    0.7837 O   0  0  0  0  0  0  0  0  0  0  0  0\\n   -1.4730   -0.8853    0.2812 C   0  0  0  0  0  0  0  0  0  0  0  0\\n   -2.5122    0.1648    0.6681 C   0  0  0  0  0  0  0  0  0  0  0  0\\n   -2.6874    1.1246   -0.3701 O   0  0  0  0  0  0  0  0  0  0  0  0\\n    4.1670    1.0113    0.3300 H   0  0  0  0  0  0  0  0  0  0  0  0\\n   -1.5395   -1.7207    0.9878 H   0  0  0  0  0  0  0  0  0  0  0  0\\n   -1.6876   -1.2688   -0.7231 H   0  0  0  0  0  0  0  0  0  0  0  0\\n   -3.4816   -0.3191    0.8237 H   0  0  0  0  0  0  0  0  0  0  0  0\\n   -2.2448    0.6900    1.5915 H   0  0  0  0  0  0  0  0  0  0  0  0\\n   -1.8336    1.5916   -0.4714 H   0  0  0  0  0  0  0  0  0  0  0  0\\n  1  2  2  0\\n  2  3  1  0\\n  3  4  2  0\\n  4  5  1  0\\n  5  1  1  0\\n  4  6  1  0\\n  6  7  2  0\\n  1  8  1  0\\n  8  9  1  0\\n  9 10  1  0\\n  6 11  1  0\\n  8 12  1  0\\n  8 13  1  0\\n  9 14  1  0\\n  9 15  1  0\\n 10 16  1  0\\nM  END\\n\",\"sdf\");\n",
       "\tviewergrid_1743528343511157[0][0].addPropertyLabels(\"index\",{},{\"inFront\": true, \"fontColor\": \"black\", \"fontSize\": 10, \"fontOpacity\": 1, \"backgroundColor\": \"white\", \"backgroundOpacity\": 0});\n",
       "\tviewergrid_1743528343511157[0][1].addPropertyLabels(\"index\",{},{\"inFront\": true, \"fontColor\": \"black\", \"fontSize\": 10, \"fontOpacity\": 1, \"backgroundColor\": \"white\", \"backgroundOpacity\": 0});\n",
       "\tviewergrid_1743528343511157[0][2].addPropertyLabels(\"index\",{},{\"inFront\": true, \"fontColor\": \"black\", \"fontSize\": 10, \"fontOpacity\": 1, \"backgroundColor\": \"white\", \"backgroundOpacity\": 0});\n",
       "\tviewergrid_1743528343511157[0][0].setStyle({\"stick\": {}, \"sphere\": {\"scale\": 0.3}});\n",
       "\tviewergrid_1743528343511157[0][1].addModel(\"thiadiazole.mol\\n     RDKit          3D\\n\\n 16 16  0  0  0  0  0  0  0  0999 V2000\\n    0.0117   -0.1333    0.5906 C   0  0  0  0  0  0  0  0  0  0  0  0\\n    0.4531   -1.3756    0.5465 N   0  0  0  0  0  0  0  0  0  0  0  0\\n    1.7608   -1.4494    0.1100 N   0  0  0  0  0  0  0  0  0  0  0  0\\n    2.2542   -0.2573   -0.1503 C   0  0  0  0  0  0  0  0  0  0  0  0\\n    1.1759    1.0406    0.1154 S   0  0  0  0  0  0  0  0  0  0  0  0\\n    3.6004   -0.0636   -0.6195 C   0  0  0  0  0  0  0  0  0  0  0  0\\n    4.1433    1.0106   -0.8756 O   0  0  0  0  0  0  0  0  0  0  0  0\\n   -1.3648    0.2585    1.0210 C   0  0  0  0  0  0  0  0  0  0  0  0\\n   -2.3788    0.0323   -0.0949 C   0  0  0  0  0  0  0  0  0  0  0  0\\n   -2.2680    1.0616   -1.0735 O   0  0  0  0  0  0  0  0  0  0  0  0\\n    4.1696   -1.0005   -0.7478 H   0  0  0  0  0  0  0  0  0  0  0  0\\n   -1.3853    1.3049    1.3475 H   0  0  0  0  0  0  0  0  0  0  0  0\\n   -1.6383   -0.3599    1.8843 H   0  0  0  0  0  0  0  0  0  0  0  0\\n   -2.2405   -0.9376   -0.5845 H   0  0  0  0  0  0  0  0  0  0  0  0\\n   -3.3933    0.0766    0.3142 H   0  0  0  0  0  0  0  0  0  0  0  0\\n   -2.8999    0.8514   -1.7835 H   0  0  0  0  0  0  0  0  0  0  0  0\\n  1  2  2  0\\n  2  3  1  0\\n  3  4  2  0\\n  4  5  1  0\\n  5  1  1  0\\n  4  6  1  0\\n  6  7  2  0\\n  1  8  1  0\\n  8  9  1  0\\n  9 10  1  0\\n  6 11  1  0\\n  8 12  1  0\\n  8 13  1  0\\n  9 14  1  0\\n  9 15  1  0\\n 10 16  1  0\\nM  END\\n\",\"sdf\");\n",
       "\tviewergrid_1743528343511157[0][0].addPropertyLabels(\"index\",{},{\"inFront\": true, \"fontColor\": \"black\", \"fontSize\": 10, \"fontOpacity\": 1, \"backgroundColor\": \"white\", \"backgroundOpacity\": 0});\n",
       "\tviewergrid_1743528343511157[0][1].addPropertyLabels(\"index\",{},{\"inFront\": true, \"fontColor\": \"black\", \"fontSize\": 10, \"fontOpacity\": 1, \"backgroundColor\": \"white\", \"backgroundOpacity\": 0});\n",
       "\tviewergrid_1743528343511157[0][2].addPropertyLabels(\"index\",{},{\"inFront\": true, \"fontColor\": \"black\", \"fontSize\": 10, \"fontOpacity\": 1, \"backgroundColor\": \"white\", \"backgroundOpacity\": 0});\n",
       "\tviewergrid_1743528343511157[0][1].setStyle({\"stick\": {}, \"sphere\": {\"scale\": 0.3}});\n",
       "\tviewergrid_1743528343511157[0][2].addModel(\"thiadiazole.mol\\n     RDKit          3D\\n\\n 16 16  0  0  0  0  0  0  0  0999 V2000\\n    0.0613    0.1026    0.3103 C   0  0  0  0  0  0  0  0  0  0  0  0\\n    0.5713   -0.3915   -0.8009 N   0  0  0  0  0  0  0  0  0  0  0  0\\n    1.9461   -0.2789   -0.8428 N   0  0  0  0  0  0  0  0  0  0  0  0\\n    2.4206    0.2969    0.2410 C   0  0  0  0  0  0  0  0  0  0  0  0\\n    1.2390    0.7449    1.3909 S   0  0  0  0  0  0  0  0  0  0  0  0\\n    3.8260    0.5311    0.4418 C   0  0  0  0  0  0  0  0  0  0  0  0\\n    4.3487    1.0608    1.4216 O   0  0  0  0  0  0  0  0  0  0  0  0\\n   -1.3872    0.1366    0.6667 C   0  0  0  0  0  0  0  0  0  0  0  0\\n   -2.2668   -0.4776   -0.4156 C   0  0  0  0  0  0  0  0  0  0  0  0\\n   -3.6302   -0.4097   -0.0068 O   0  0  0  0  0  0  0  0  0  0  0  0\\n    4.4628    0.1856   -0.3907 H   0  0  0  0  0  0  0  0  0  0  0  0\\n   -1.5533   -0.3979    1.6105 H   0  0  0  0  0  0  0  0  0  0  0  0\\n   -1.7052    1.1720    0.8429 H   0  0  0  0  0  0  0  0  0  0  0  0\\n   -2.1641    0.0637   -1.3623 H   0  0  0  0  0  0  0  0  0  0  0  0\\n   -2.0100   -1.5292   -0.5835 H   0  0  0  0  0  0  0  0  0  0  0  0\\n   -4.1590   -0.8095   -0.7198 H   0  0  0  0  0  0  0  0  0  0  0  0\\n  1  2  2  0\\n  2  3  1  0\\n  3  4  2  0\\n  4  5  1  0\\n  5  1  1  0\\n  4  6  1  0\\n  6  7  2  0\\n  1  8  1  0\\n  8  9  1  0\\n  9 10  1  0\\n  6 11  1  0\\n  8 12  1  0\\n  8 13  1  0\\n  9 14  1  0\\n  9 15  1  0\\n 10 16  1  0\\nM  END\\n\",\"sdf\");\n",
       "\tviewergrid_1743528343511157[0][0].addPropertyLabels(\"index\",{},{\"inFront\": true, \"fontColor\": \"black\", \"fontSize\": 10, \"fontOpacity\": 1, \"backgroundColor\": \"white\", \"backgroundOpacity\": 0});\n",
       "\tviewergrid_1743528343511157[0][1].addPropertyLabels(\"index\",{},{\"inFront\": true, \"fontColor\": \"black\", \"fontSize\": 10, \"fontOpacity\": 1, \"backgroundColor\": \"white\", \"backgroundOpacity\": 0});\n",
       "\tviewergrid_1743528343511157[0][2].addPropertyLabels(\"index\",{},{\"inFront\": true, \"fontColor\": \"black\", \"fontSize\": 10, \"fontOpacity\": 1, \"backgroundColor\": \"white\", \"backgroundOpacity\": 0});\n",
       "\tviewergrid_1743528343511157[0][2].setStyle({\"stick\": {}, \"sphere\": {\"scale\": 0.3}});\n",
       "\tviewergrid_1743528343511157[0][0].zoomTo();\n",
       "\tviewergrid_1743528343511157[0][1].zoomTo();\n",
       "\tviewergrid_1743528343511157[0][2].zoomTo();\n",
       "viewergrid_1743528343511157[0][2].render();\n",
       "viewergrid_1743528343511157[0][1].render();\n",
       "viewergrid_1743528343511157[0][0].render();\n",
       "});\n",
       "</script>"
      ]
     },
     "metadata": {},
     "output_type": "display_data"
    }
   ],
   "source": [
    "p=py3Dmol.view(width=800,height=400,viewergrid=(1,nmol))\n",
    "for imol in range(nmol):\n",
    "    ss=sortedEs[imol]\n",
    "    confid=ss[1]\n",
    "    E=ss[0]\n",
    "    DE=(E-Emin)\n",
    "    DElabel='%.2f'%(DE)\n",
    "    p.addModel(Chem.MolToMolBlock(m1,confId=confid), 'sdf',viewer=(0,imol))\n",
    "    p.addPropertyLabels(\"index\",{},{'inFront':True,'fontColor':'black','fontSize':10,'fontOpacity':1,'backgroundColor':'white','backgroundOpacity':0})\n",
    "    #p.addLabel(DElabel,{'inFront':True,'position':{'x':0.0,'y':-2,'z':0.0},'fontColor':'black','backgroundColor':'white'},viewer=(0,imol))\n",
    "    p.setStyle({'stick':{},'sphere':{\"scale\":0.3}},viewer=(0,imol))\n",
    "p.zoomTo()\n",
    "p.show()"
   ]
  },
  {
   "cell_type": "markdown",
   "id": "8539c8e1",
   "metadata": {},
   "source": [
    "## Part 3: DFT structure refinement\n",
    "\n",
    "This block generates B3LYP/6-31G gas-phase optimized geometries. This is the slowest step in the workflow. "
   ]
  },
  {
   "cell_type": "code",
   "execution_count": null,
   "id": "7c6b9319",
   "metadata": {},
   "outputs": [],
   "source": [
    "optmols=[]\n",
    "for imol in range(nmol):\n",
    "    ss=sortedEs[imol]\n",
    "    confid=ss[1]\n",
    "    mb3=Chem.Mol(m1,confId=confid)\n",
    "    m3=RDKitToPySCF(mb3,basis='6-31g')\n",
    "    m3.build()\n",
    "    mf3=dft.RKS(m3,xc='b3lyp')\n",
    "    #mf3=scf.RHF(m3)\n",
    "    m4=optimize(mf3)\n",
    "    optmols.append(m4)"
   ]
  },
  {
   "cell_type": "code",
   "execution_count": null,
   "id": "1ea950c0",
   "metadata": {},
   "outputs": [],
   "source": [
    "EminDFTs=[]\n",
    "for imol in range(nmol):\n",
    "    m4=optmols[imol]\n",
    "    m4.basis='6-31+G(d)'\n",
    "    m4.build()\n",
    "    print(m4.nao)\n",
    "    mf4=dft.RKS(m4,xc='b3lyp')\n",
    "    mf4.kernel()\n",
    "    EminDFTs.append(mf4.e_tot)"
   ]
  },
  {
   "cell_type": "code",
   "execution_count": null,
   "id": "ac792185",
   "metadata": {},
   "outputs": [],
   "source": [
    "# Draw pictures of the most stable optimized structures \n",
    "p=py3Dmol.view(width=800,height=300,viewergrid=(1,nmol))\n",
    "for imol in range(nmol):\n",
    "    ss=sortedEs[imol]\n",
    "    confid=ss[1]\n",
    "    m3=PySCFToRDKit(m1,optmols[imol])\n",
    "    DE=627.5095*(EminDFTs[imol]-EminDFTs[0])\n",
    "    DElabel='%.2f'%(DE)\n",
    "    p.addModel(Chem.MolToMolBlock(m3), 'sdf',viewer=(0,imol))\n",
    "    p.addPropertyLabels(\"index\",{},{'inFront':True,'fontColor':'black','fontSize':12,'fontOpacity':1,'backgroundColor':'white','backgroundOpacity':0})\n",
    "    p.addLabel(DElabel,{'inFront':True,'borderOpacity':0,'position':{'x':0.0,'y':-2,'z':0.0},'fontColor':'black','backgroundColor':'white','backgroundOpacity':0},viewer=(0,imol))\n",
    "    #p.addLabel(DElabel,{'inFront':True,'fontColor':'black','backgroundColor':'white'},viewer=(0,imol))\n",
    "    p.setStyle({'stick':{},'sphere':{\"scale\":0.3}},viewer=(0,imol))\n",
    "p.zoomTo()\n",
    "p.show()"
   ]
  },
  {
   "cell_type": "markdown",
   "id": "4e5a8405",
   "metadata": {},
   "source": [
    "## Part 4: Chemical shifts \n",
    "\n",
    "HF/6-31+G(d)//B3LYP/6-31G chemical shifts relative to that computed for a reference compound. Reference compounds are TMS for 1H and 13C, nitromethane for 15N. "
   ]
  },
  {
   "cell_type": "code",
   "execution_count": null,
   "id": "9ec50c61",
   "metadata": {},
   "outputs": [],
   "source": [
    "refVals={'H':32.47,\n",
    "        'C':199.47,\n",
    "        'N':-272.23}"
   ]
  },
  {
   "cell_type": "markdown",
   "id": "773320e8",
   "metadata": {},
   "source": [
    "The next block does the calculations. "
   ]
  },
  {
   "cell_type": "code",
   "execution_count": null,
   "id": "11d01324",
   "metadata": {},
   "outputs": [],
   "source": [
    "shields=[]\n",
    "rhfs=[]\n",
    "for imol in range(nmol):\n",
    "    m4=optmols[imol]\n",
    "    m4.basis='6-31+G(d)'\n",
    "    m4.build()\n",
    "    mf4=scf.RHF(m4)\n",
    "    mf4.kernel()\n",
    "    rhfs.append(mf4)\n",
    "    mn5=nmr.rhf.NMR(mf4)\n",
    "    sh5=mn5.kernel()\n",
    "    shields.append(sh5)"
   ]
  },
  {
   "cell_type": "markdown",
   "id": "1f036aa2",
   "metadata": {},
   "source": [
    "The next block reports the chemical shifts for each of the low-energy conformers.\n",
    "\n",
    "For this thiadiazole example, R-OH hydrogen atom 15 has chemical shift 4.6 in the lowest-energy hydrogen-bonded conformer, chemical shifts 1.5-1.7 in the other non-hydrogen-bonded conformers. "
   ]
  },
  {
   "cell_type": "code",
   "execution_count": null,
   "id": "5b95ac9f",
   "metadata": {},
   "outputs": [],
   "source": [
    "m=optmols[0]\n",
    "for iat in range(m.natm):\n",
    "    t=m.atom_symbol(iat)\n",
    "    if(t in refVals):\n",
    "        r=refVals[t]\n",
    "        print('%2d %3s '%(iat,t),end='')\n",
    "        for imol in range(nmol):\n",
    "            s=shields[imol]\n",
    "            val=(s[iat,0,0]+s[iat,1,1]+s[iat,2,2])/3\n",
    "            print(' %9.2f'%(r-val),end='')\n",
    "        print(' ')\n",
    "    "
   ]
  },
  {
   "cell_type": "markdown",
   "id": "c57718de",
   "metadata": {},
   "source": [
    "## Part 5: Spin-Spin Coupling \n",
    "\n",
    "HF/6-31+G(d)//B3LYP/6-31G spin spin coupling constants "
   ]
  },
  {
   "cell_type": "markdown",
   "id": "310dc6a4",
   "metadata": {},
   "source": [
    "Set cut to your desired cutoff for printed spin-spin couplings, in Hz "
   ]
  },
  {
   "cell_type": "code",
   "execution_count": null,
   "id": "8d67f7ce",
   "metadata": {},
   "outputs": [],
   "source": [
    "cut=4"
   ]
  },
  {
   "cell_type": "markdown",
   "id": "4a4bc3cc",
   "metadata": {},
   "source": [
    "This block does the spin-spin coupling calculations "
   ]
  },
  {
   "cell_type": "code",
   "execution_count": null,
   "id": "f523f3b7",
   "metadata": {},
   "outputs": [],
   "source": [
    "sscs=[]\n",
    "for imol in range(nmol):\n",
    "    mf4=rhfs[imol]\n",
    "    ms4=ssc.RHF(mf4)\n",
    "    thessc=ms4.kernel()\n",
    "    sscs.append(thessc)"
   ]
  },
  {
   "cell_type": "markdown",
   "id": "0dd06833",
   "metadata": {},
   "source": [
    "This block prints the non-negligible SSCCs for 13C, 1H, and 15N nuclei, in Hz"
   ]
  },
  {
   "cell_type": "code",
   "execution_count": null,
   "id": "4b08cf72",
   "metadata": {},
   "outputs": [],
   "source": [
    "conv=487893880.\n",
    "m=optmols[0]\n",
    "for iat in range(m.natm):\n",
    "    ti=m.atom_symbol(iat)\n",
    "    if(ti in refVals):\n",
    "        for jat in range(iat+1,m.natm):\n",
    "            ijat=int(jat*(jat-1)/2+iat)\n",
    "            tj=m.atom_symbol(jat)\n",
    "            if(tj in refVals):\n",
    "                ss0=sscs[0]\n",
    "                vv = conv*(ss0[ijat,0,0]+ss0[ijat,1,1]+ss0[ijat,2,2])/3\n",
    "                if(vv**2>cut**2):\n",
    "                    print('%2d %2d %3s %3s'%(iat,jat,ti,tj),end='')\n",
    "                    for imol in range(nmol):\n",
    "                        s=sscs[imol][ijat]\n",
    "                        val=conv*(s[0,0]+s[1,1]+s[2,2])/3\n",
    "                        print(' %9.2f'%(val),end='')\n",
    "                    print(' ')\n",
    "    "
   ]
  },
  {
   "cell_type": "code",
   "execution_count": null,
   "id": "55d4a262",
   "metadata": {},
   "outputs": [],
   "source": []
  }
 ],
 "metadata": {
  "kernelspec": {
   "display_name": "Python 3 (ipykernel)",
   "language": "python",
   "name": "python3"
  },
  "language_info": {
   "codemirror_mode": {
    "name": "ipython",
    "version": 3
   },
   "file_extension": ".py",
   "mimetype": "text/x-python",
   "name": "python",
   "nbconvert_exporter": "python",
   "pygments_lexer": "ipython3",
   "version": "3.10.9"
  }
 },
 "nbformat": 4,
 "nbformat_minor": 5
}
