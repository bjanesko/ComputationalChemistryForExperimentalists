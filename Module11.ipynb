{
 "cells": [
  {
   "cell_type": "markdown",
   "id": "576cfdf2",
   "metadata": {},
   "source": [
    "## Computational Chemistry for Experimentalists\n",
    "## Module 11: UV/Vis\n",
    "\n",
    "Excited electronic states are key to UV/vis absorption and photochemistry. We'll compute some excited states here. "
   ]
  },
  {
   "cell_type": "code",
   "execution_count": null,
   "id": "1c692af1",
   "metadata": {},
   "outputs": [],
   "source": [
    "import tabulate\n",
    "from pyscf import gto,scf,tdscf,dft,tddft\n",
    "from pyscf.tools import cubegen \n",
    "import numpy \n",
    "import matplotlib.pyplot as plt"
   ]
  },
  {
   "cell_type": "markdown",
   "id": "812e9428",
   "metadata": {},
   "source": [
    "## Part 1: Li atom s->p excitation: Linear response TDHF vs. orbital energy differences"
   ]
  },
  {
   "cell_type": "markdown",
   "id": "dd17566a",
   "metadata": {},
   "source": [
    "Orbital energies, computed for the ground electronic state, don't perfectly match ground-excited state energy differences. Linear response time-dependent density functional theory is usually a better match in practice. LR-TDDFT includes the orbital energies, corrected for the change in electron distribution upon excitation. \n",
    "\n",
    "This section considers the example of isolated Li atom. The atom has an experimental gas-phase UV-vis absorbance 1.847 eV for 1s2 2s->1s2 2p excitation. We'll consider results near the basis set limit. "
   ]
  },
  {
   "cell_type": "code",
   "execution_count": null,
   "id": "daadda59",
   "metadata": {},
   "outputs": [],
   "source": [
    "m=gto.Mole(atom='Li',basis='aug-cc-pvqz',spin=1)\n",
    "m.build()\n",
    "mf=scf.ROHF(m)\n",
    "mf.kernel()\n",
    "moe=mf.mo_energy\n",
    "mt = tdscf.TDHF(mf)\n",
    "mt.nstates = 10\n",
    "mt.kernel()\n",
    "mt.analyze()\n",
    "#print(dir(mt))\n",
    "print('Experimental 2s-2p energy difference: 1.847 eV')\n",
    "print('2s-2p orbital energy difference:      %5.3f eV'%(27.211*(moe[2]-moe[1])))\n",
    "print('2s-2p excitation:                     %5.3f eV'%(27.211*(mt.e[0])))"
   ]
  },
  {
   "cell_type": "code",
   "execution_count": null,
   "id": "a71c28db",
   "metadata": {},
   "outputs": [],
   "source": [
    "# Here's how to access excited state energies and oscillator strengths \n",
    "print(mt.e)\n",
    "print(mt.oscillator_strength(gauge='length'))\n",
    "print(mt.oscillator_strength(gauge='velocity'))"
   ]
  },
  {
   "cell_type": "markdown",
   "id": "bfbf0390",
   "metadata": {},
   "source": [
    "## Part 2: Dipole-Allowed and Higher-Order Transitions "
   ]
  },
  {
   "cell_type": "markdown",
   "id": "36951697",
   "metadata": {},
   "source": [
    "In the limit of a very long wavelength, a ground-excited state transition depends only on the change of electric dipole moment between ground and excited states. At shorter wavelengths, magnetic dipole and electric quadrupole (and other) transitions become important. These are the transitions responsible for circular dichromism and optical activity. Here we compute the H atom 1s-2s  absorbance spectrum using electric dipole and quadrupole terms. "
   ]
  },
  {
   "cell_type": "code",
   "execution_count": null,
   "id": "bbae9e49",
   "metadata": {},
   "outputs": [],
   "source": [
    "m=gto.Mole(atom='H',spin=1,basis='cc-pvqz')\n",
    "m.build()\n",
    "mf=scf.ROHF(m)\n",
    "mf.kernel()\n",
    "moe=mf.mo_energy\n",
    "mt = tdscf.TDHF(mf)\n",
    "mt.nstates = 1\n",
    "mt.kernel()\n",
    "print(mt.transition_dipole())\n",
    "print(mt.transition_quadrupole())\n",
    "v0=mt.oscillator_strength(gauge='velocity',order=0)\n",
    "v1=mt.oscillator_strength(gauge='velocity',order=1)\n",
    "v2=mt.oscillator_strength(gauge='velocity',order=2)\n",
    "v3=mt.oscillator_strength(gauge='velocity',order=3)\n",
    "es=27.211*mt.e\n",
    "\n",
    "tabulate.tabulate(numpy.transpose([es,v0,v1,v2,v3]),tablefmt='html')"
   ]
  },
  {
   "cell_type": "markdown",
   "id": "b5732099",
   "metadata": {},
   "source": [
    "## Part 3: From Absorbance Peaks to Computed Spectra"
   ]
  },
  {
   "cell_type": "markdown",
   "id": "553d342a",
   "metadata": {},
   "source": [
    "True absorbance spectra are not simply electronic excitations. A much better model considers transitions between vibrational levels in teh ground and excited states. To simplify interpretation, we can add a  Gaussian broadening to each computed electronic transition, and compute the total absorption at each wavelength"
   ]
  },
  {
   "cell_type": "code",
   "execution_count": null,
   "id": "ac4dc9b6",
   "metadata": {},
   "outputs": [],
   "source": [
    "def spec(photonwavelengths,energies,strengths,broadEV=.1,norm=True):\n",
    "    broad=broadEV/27.211# Broadening in Hartree \n",
    "    absorbances=numpy.zeros_like(photonwavelengths) # Output absorbances \n",
    "    photonenergies=45.5640/photonwavelengths # Photon energy in Hartree for each wavelength E=hv=hc/lambda \n",
    "    statewavelengths=45.5640/energies\n",
    "    print('Expected absorbance peaks (nm): ',statewavelengths)\n",
    "    print('Their relative strengths:',strengths/max(strengths))\n",
    "    for j in range(len(energies)):\n",
    "        facs=numpy.exp(-1.0*(photonenergies-energies[j])**2/broad)\n",
    "        absorbances = absorbances + strengths[j]*facs\n",
    "    if(norm):\n",
    "        absorbances=absorbances/max(absorbances)\n",
    "    return(absorbances)\n",
    "    "
   ]
  },
  {
   "cell_type": "code",
   "execution_count": null,
   "id": "4034596e",
   "metadata": {},
   "outputs": [],
   "source": [
    "m=gto.Mole(atom='C 0.0 0.0 0.0; O 0.0 0.0 1.128',basis='cc-pvtz')\n",
    "m.build()\n",
    "mf=scf.RHF(m)\n",
    "mf.kernel()\n",
    "mft=tdscf.TDHF(mf)\n",
    "mft.nstates = 10\n",
    "mft.kernel()\n",
    "v=mft.oscillator_strength(gauge='velocity')\n",
    "\n"
   ]
  },
  {
   "cell_type": "code",
   "execution_count": null,
   "id": "bea41c60",
   "metadata": {},
   "outputs": [],
   "source": [
    "wavelengths=numpy.array(list(numpy.arange(50,250,.1)))\n",
    "absorbances=spec(wavelengths,mft.e,v,broadEV=.05)\n",
    "plt.plot(wavelengths,absorbances)\n",
    "plt.xlabel('Wavelength (nm)')\n",
    "plt.ylabel('Relative absorption')\n",
    "plt.show()"
   ]
  },
  {
   "cell_type": "markdown",
   "id": "650424b6",
   "metadata": {},
   "source": [
    "## Part 4: Method Dependence "
   ]
  },
  {
   "cell_type": "markdown",
   "id": "ae09e22c",
   "metadata": {},
   "source": [
    "Occupied-virtual energy differences and excited states strongly depend on the method used. Here we consider the experimental UV absorbance of carbon monoxide CO. CO has two triplet excited states 3Pi and 3Sigma at 6.04 eV (205 nm) and 6.92 eV (179 nm) above the ground state, and an optically accessible singlet excited state 1Pi at 8.07 eV (153 nm) above the ground state. These values are form the NIST Chemistry WebBook, at the bottom of the table of excited state energies T_e, converted from cm-1. "
   ]
  },
  {
   "cell_type": "code",
   "execution_count": null,
   "id": "67841a91",
   "metadata": {},
   "outputs": [],
   "source": [
    "meths=['HF,LYP','B3LYP','BLYP','LDA,VWN']\n",
    "wavelengths=numpy.array(list(numpy.arange(50,250,.1)))\n",
    "absorbances=[]\n",
    "for meth in meths:\n",
    "    md=dft.RKS(m,xc=meth)\n",
    "    md.kernel()\n",
    "    mdt=tddft.TDDFT(md)\n",
    "    mdt.nstates = 8\n",
    "    mdt.kernel()\n",
    "    v=mdt.oscillator_strength(gauge='velocity')\n",
    "    a=spec(wavelengths,mdt.e,v,broadEV=.05,norm=False)\n",
    "    absorbances.append(a)\n",
    "absorbances=numpy.array(absorbances)\n",
    "absorbances=absorbances/numpy.max(absorbances)\n",
    "\n"
   ]
  },
  {
   "cell_type": "code",
   "execution_count": null,
   "id": "750cd150",
   "metadata": {},
   "outputs": [],
   "source": [
    "for i in range(len(meths)):\n",
    "    plt.plot(wavelengths,absorbances[i],label=meths[i])\n",
    "plt.xlabel('Wavelength (nm)')\n",
    "plt.ylabel('Relative absorption')\n",
    "plt.legend()\n",
    "plt.show()\n",
    "\n"
   ]
  },
  {
   "cell_type": "markdown",
   "id": "b90debee",
   "metadata": {},
   "source": [
    "Your homework for this module is to compute the HF, B3LYP, and BLYP absorbance spectra of p-benzoquinone, using some reasonable guess for the initial geometry. Which absorbance spectrum best corresponds to the observed yellow color? "
   ]
  }
 ],
 "metadata": {
  "kernelspec": {
   "display_name": "Python 3 (ipykernel)",
   "language": "python",
   "name": "python3"
  },
  "language_info": {
   "codemirror_mode": {
    "name": "ipython",
    "version": 3
   },
   "file_extension": ".py",
   "mimetype": "text/x-python",
   "name": "python",
   "nbconvert_exporter": "python",
   "pygments_lexer": "ipython3",
   "version": "3.10.9"
  }
 },
 "nbformat": 4,
 "nbformat_minor": 5
}
