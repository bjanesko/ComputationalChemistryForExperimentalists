{
 "cells": [
  {
   "cell_type": "markdown",
   "id": "576cfdf2",
   "metadata": {},
   "source": [
    "## Computational Chemistry for Experimentalists\n",
    "## Module 4: Conformational Analysis\n",
    "\n",
    "Most experiments treat ensembles of Avogadro's number of molecules, rather than single structures of single molecules. Modeling conformational ensembles can be critical for modeling real experiments. This module discusses some ideas and pitfalls for conformational analysis. \n",
    "\n",
    "This first block imports all of the necessary Python modules. If these aren't installed, this will fail. Ignore the warnings from the \"under testing\" PySCF properties modules. "
   ]
  },
  {
   "cell_type": "code",
   "execution_count": null,
   "id": "1c692af1",
   "metadata": {},
   "outputs": [],
   "source": [
    "from rdkit import Chem\n",
    "from rdkit.Chem import Draw\n",
    "from rdkit.Chem import AllChem\n",
    "from pyscf import gto,scf\n",
    "from pyscf.tools import cubegen \n",
    "import py3Dmol\n",
    "import numpy \n",
    "import matplotlib.pyplot as plt\n",
    "from pyscf.geomopt.geometric_solver import optimize\n",
    "from pyscf.prop import nmr "
   ]
  },
  {
   "cell_type": "markdown",
   "id": "812e9428",
   "metadata": {},
   "source": [
    "### Example 1: NMR shielding"
   ]
  },
  {
   "cell_type": "markdown",
   "id": "dd17566a",
   "metadata": {},
   "source": [
    "Compute NMR shieldings of acetaldehyde, at the MMFF optimized geometry "
   ]
  },
  {
   "cell_type": "code",
   "execution_count": null,
   "id": "334e9066",
   "metadata": {},
   "outputs": [],
   "source": [
    "m=Chem.MolFromSmiles('CC=O')\n",
    "m2=Chem.AddHs(m)\n",
    "img=Draw.MolToImage(m2)\n",
    "img"
   ]
  },
  {
   "cell_type": "code",
   "execution_count": null,
   "id": "4a8e5535",
   "metadata": {},
   "outputs": [],
   "source": [
    "AllChem.EmbedMolecule(m2)\n",
    "AllChem.MMFFOptimizeMolecule(m2)\n",
    "elementsCO = [atom.GetSymbol() for atom in m2.GetAtoms()]\n",
    "coordinates = m2.GetConformer().GetPositions()\n",
    "atoms = [(element, coordinate) for element, coordinate in zip(elementsCO, coordinates)]\n",
    "\n",
    "m3 = gto.Mole(basis=\"3-21g\")\n",
    "m3.atom = atoms\n",
    "m3.build();\n",
    "mf=scf.RHF(m3)\n",
    "mf.kernel()\n",
    "mn=nmr.RHF(mf)\n",
    "BsCO=mn.kernel()\n",
    "print('Atom types',elementsCO)\n",
    "print(BsCO.shape)"
   ]
  },
  {
   "cell_type": "code",
   "execution_count": null,
   "id": "d09793bd",
   "metadata": {},
   "outputs": [],
   "source": [
    "print('Atom types',elementsCO)\n",
    "for i in range(len(elementsCO)):\n",
    "    print(numpy.trace(BsCO[i]))"
   ]
  },
  {
   "cell_type": "markdown",
   "id": "8f01aa79",
   "metadata": {},
   "source": [
    "Compute shieldings of tetra-methyl silane TMS as the reference for proton chemical shifts. "
   ]
  },
  {
   "cell_type": "code",
   "execution_count": null,
   "id": "6c60c1ee",
   "metadata": {},
   "outputs": [],
   "source": [
    "m5=Chem.MolFromSmiles('C[Si](C)(C)C')\n",
    "m6=Chem.AddHs(m5)\n",
    "img=Draw.MolToImage(m6)\n",
    "img"
   ]
  },
  {
   "cell_type": "code",
   "execution_count": null,
   "id": "926007ff",
   "metadata": {},
   "outputs": [],
   "source": [
    "AllChem.EmbedMolecule(m6)\n",
    "AllChem.MMFFOptimizeMolecule(m6)\n",
    "elementsTMS = [atom.GetSymbol() for atom in m6.GetAtoms()]\n",
    "coordinates = m6.GetConformer().GetPositions()\n",
    "atoms = [(element, coordinate) for element, coordinate in zip(elementsTMS, coordinates)]\n",
    "m3 = gto.Mole(basis=\"3-21g\")\n",
    "m3.atom = atoms\n",
    "m3.build();\n",
    "mf=scf.RHF(m3)\n",
    "mf.kernel()\n",
    "mn=nmr.RHF(mf)\n",
    "BsTMS=mn.kernel()"
   ]
  },
  {
   "cell_type": "markdown",
   "id": "2155f811",
   "metadata": {},
   "source": [
    "Compute the relative chemical shieldings of each proton in acetaldehyde from the isotropic total shieldings "
   ]
  },
  {
   "cell_type": "code",
   "execution_count": null,
   "id": "44d0f6ec",
   "metadata": {},
   "outputs": [],
   "source": [
    "TMSref=numpy.trace(BsTMS[6])/3\n",
    "deltas=[]\n",
    "print('Chemical shifts of acetaldehyde relative to TMS: %.4f'%(TMSref))\n",
    "for iat in range(len(elementsCO)):\n",
    "    deltas.append(0)\n",
    "    if(elementsCO[iat]=='H'):\n",
    "        val=numpy.trace(BsCO[iat])/3\n",
    "        delta=TMSref-val\n",
    "        deltas[iat]=delta\n",
    "        print('%2d %2s %.3f'%(iat,elementsCO[iat],delta))"
   ]
  },
  {
   "cell_type": "markdown",
   "id": "ad89ec73",
   "metadata": {},
   "source": [
    "Plot the acetaldehyde optimized structure to compare the different chemical shifts "
   ]
  },
  {
   "cell_type": "code",
   "execution_count": null,
   "id": "c3258d0b",
   "metadata": {},
   "outputs": [],
   "source": [
    "mb=Chem.MolToMolBlock(m2)\n",
    "p=py3Dmol.view(width=400,height=400)\n",
    "p.addModel(mb,'sdf')\n",
    "p.setStyle({'stick':{},'sphere':{\"scale\":0.3}})\n",
    "#p.addPropertyLabels('index',{elem:{'H'}},{fontColor:'black'})\n",
    "#p.addPropertyLabels(\"index\",{not:{elem:'H'}}, {fontColor:'black',font: 'sans-serif', fontSize: 28, showBackground:false,alignment:'center'});\n",
    "#p.addPropertyLabels(\"atom\",\"\",{'showBackground':'false','alignment': 'center'})\n",
    "p.addPropertyLabels(\"index\",\"\",{'showBackground':'false','alignment': 'center'})\n",
    "p.zoomTo()\n",
    "p.render()"
   ]
  },
  {
   "cell_type": "markdown",
   "id": "e0643f6a",
   "metadata": {},
   "source": [
    "The in-plane methyl proton 4 has a chemical shift different from the out-of-plane methyl protons 3 and 5. "
   ]
  },
  {
   "cell_type": "markdown",
   "id": "43875f4f",
   "metadata": {},
   "source": [
    "## Example 2: Reaction Energies\n",
    "\n",
    "Choosing reasonable conformations of reactants and products can be essential for computing accurate reaction energies. Here we consider a simple example, the gas-phase proton affinity of ethylenediamine en. Choosing different conformations for the reactant, or for the product, can dramatically change the predicted proton affinities \n",
    "\n",
    "First we use the RDKit EmbedMultipleConfs conformational search to  compute two low-lying conformations for the neutral reactant. The lowest-energy conformation has an internal hydrogen bond, the other conformation is extended. "
   ]
  },
  {
   "cell_type": "code",
   "execution_count": null,
   "id": "780de356",
   "metadata": {},
   "outputs": [],
   "source": [
    "l=Chem.MolFromSmiles('NCCN')\n",
    "l2=Chem.AddHs(l)\n",
    "lconfs=AllChem.EmbedMultipleConfs(l2,numConfs=100)\n",
    "print('Number of conformers: %d'%(len(lconfs)))\n",
    "uniqueEs=[]\n",
    "uniqueIDs=[]\n",
    "for confid in lconfs:\n",
    "    AllChem.MMFFOptimizeMolecule(l2,confId=confid)\n",
    "    ff = AllChem.MMFFGetMoleculeForceField(l2, AllChem.MMFFGetMoleculeProperties(l2), confId=confid)\n",
    "    E=ff.CalcEnergy()\n",
    "    keep=1\n",
    "    for Eold in uniqueEs:\n",
    "        if((E-Eold)**2<0.1):\n",
    "            keep=0\n",
    "    if(keep>0):\n",
    "        uniqueEs.append(E)\n",
    "        uniqueIDs.append(confid)\n",
    "        \n",
    "# Sort by energy \n",
    "lEs=[(x,y) for x,y in sorted(zip(uniqueEs,uniqueIDs))]\n",
    "Emin=lEs[0][0]\n",
    "print('Lowest energy: %.4f'%(Emin))\n",
    "    \n",
    "p = py3Dmol.view(width=600,height=200,viewergrid=(1,2))\n",
    "for i in range(2):\n",
    "    ss=lEs[i]\n",
    "    confid=ss[1]\n",
    "    E=ss[0]\n",
    "    DE=(E-Emin)\n",
    "    DElabel='%.2f'%(DE)\n",
    "    p.addModel(Chem.MolToMolBlock(l2,confId=confid), 'sdf',viewer=(0,i))\n",
    "    p.addLabel(DElabel,{'inFront':True,'fontColor':'black','backgroundColor':'white'},viewer=(0,i))\n",
    "    p.setStyle({'stick':{},'sphere':{\"scale\":0.3}},viewer=(0,i))\n",
    "p.zoomTo()\n",
    "#p.update()\n",
    "p.render()\n"
   ]
  },
  {
   "cell_type": "markdown",
   "id": "81ad5f54",
   "metadata": {},
   "source": [
    "Next, we use the RDKit EmbedMultipleConfs to find low-lying conformations of the protonated molecule. Again, the lowest-lying conformation has an internal hydrogen bond from the protonated amine, but now the next lowest conformation is much higher in energy. "
   ]
  },
  {
   "cell_type": "code",
   "execution_count": null,
   "id": "bd3a3cc4",
   "metadata": {},
   "outputs": [],
   "source": [
    "c=Chem.MolFromSmiles('NCC[NH3+]')\n",
    "c2=Chem.AddHs(c)\n",
    "img=Draw.MolToImage(c2)\n",
    "img"
   ]
  },
  {
   "cell_type": "code",
   "execution_count": null,
   "id": "a78b35f6",
   "metadata": {
    "scrolled": true
   },
   "outputs": [],
   "source": [
    "cconfs=AllChem.EmbedMultipleConfs(c2,numConfs=100)\n",
    "print('Number of conformers: %d'%(len(cconfs)))\n",
    "uniqueEs=[]\n",
    "uniqueIDs=[]\n",
    "for confid in cconfs:\n",
    "    AllChem.MMFFOptimizeMolecule(c2,confId=confid)\n",
    "    ff = AllChem.MMFFGetMoleculeForceField(c2, AllChem.MMFFGetMoleculeProperties(c2), confId=confid)\n",
    "    E=ff.CalcEnergy()\n",
    "    keep=1\n",
    "    for Eold in uniqueEs:\n",
    "        if((E-Eold)**2<0.1):\n",
    "            keep=0\n",
    "    if(keep>0):\n",
    "        uniqueEs.append(E)\n",
    "        uniqueIDs.append(confid)\n",
    "        \n",
    "# Sort by energy \n",
    "cEs=[(x,y) for x,y in sorted(zip(uniqueEs,uniqueIDs))]\n",
    "Emin=cEs[0][0]\n",
    "print('Lowest energy: %.4f'%(Emin))\n",
    "    \n",
    "p = py3Dmol.view(width=600,height=200,viewergrid=(1,2))\n",
    "for i in range(2):\n",
    "    ss=cEs[i]\n",
    "    confid=ss[1]\n",
    "    E=ss[0]\n",
    "    DE=(E-Emin)\n",
    "    DElabel='%.2f'%(DE)\n",
    "    p.addModel(Chem.MolToMolBlock(c2,confId=confid), 'sdf',viewer=(0,i))\n",
    "    p.addLabel(DElabel,{'inFront':True,'fontColor':'black','backgroundColor':'white'},viewer=(0,i))\n",
    "    p.setStyle({'stick':{},'sphere':{\"scale\":0.3}},viewer=(0,i))\n",
    "p.zoomTo()\n",
    "#p.update()\n",
    "p.render()\n"
   ]
  },
  {
   "cell_type": "markdown",
   "id": "f9b371dd",
   "metadata": {},
   "source": [
    "Next we use PySCF to compute the ground-state energies of the two low-lying reactant geometries and the two low-lying product geometries. Note that the ground state energy of the other reactant, an isolated gas-phase H+ cation, is zero."
   ]
  },
  {
   "cell_type": "code",
   "execution_count": null,
   "id": "590bc3e1",
   "metadata": {},
   "outputs": [],
   "source": [
    "le = [atom.GetSymbol() for atom in l2.GetAtoms()]\n",
    "lc1 = l2.GetConformer(lEs[0][1]).GetPositions()\n",
    "lc2 = l2.GetConformer(lEs[1][1]).GetPositions()\n",
    "lcde=lEs[1][0]-lEs[0][0]\n",
    "ac1 = [(element, coordinate) for element, coordinate in zip(le, lc1)]\n",
    "ac2 = [(element, coordinate) for element, coordinate in zip(le, lc2)]\n",
    "\n",
    "lm1 = gto.Mole(atom=ac1,basis=\"3-21g\").build()\n",
    "lm2 = gto.Mole(atom=ac2,basis=\"3-21g\").build()\n",
    "\n",
    "print(lEs[0][0])\n",
    "lm1f=scf.RHF(lm1)\n",
    "lm1f.kernel() \n",
    "lm1o=optimize(lm1f)\n",
    "lm1of=scf.RHF(lm1o)\n",
    "lm1of.kernel()\n",
    "print(lEs[1][0])\n",
    "lm2f=scf.RHF(lm2)\n",
    "lm2o=optimize(lm2f)\n",
    "lm2of=scf.RHF(lm2o)\n",
    "lm2of.kernel()\n",
    "lEs2=[]\n",
    "lEs2.append(lm1of.e_tot)\n",
    "lEs2.append(lm2of.e_tot)\n",
    "print('Reactant geometry energy difference (kcal/mol)')\n",
    "print('RDKit: %.2f  PySCF: %.2f'%(lcde,627.5095*(lm2of.e_tot-lm1of.e_tot)))"
   ]
  },
  {
   "cell_type": "code",
   "execution_count": null,
   "id": "cfd527fe",
   "metadata": {},
   "outputs": [],
   "source": [
    "ce = [atom.GetSymbol() for atom in c2.GetAtoms()]\n",
    "cc1 = c2.GetConformer(cEs[0][1]).GetPositions()\n",
    "cc2 = c2.GetConformer(cEs[1][1]).GetPositions()\n",
    "ccde=cEs[1][0]-cEs[0][0]\n",
    "ac1 = [(element, coordinate) for element, coordinate in zip(ce, cc1)]\n",
    "ac2 = [(element, coordinate) for element, coordinate in zip(ce, cc2)]\n",
    "\n",
    "cm1 = gto.Mole(atom=ac1,basis=\"3-21g\",charge=1).build()\n",
    "cm2 = gto.Mole(atom=ac2,basis=\"3-21g\",charge=1).build()\n",
    "\n",
    "cm1f=scf.RHF(cm1)\n",
    "cm1o=optimize(cm1f)\n",
    "cm1of=scf.RHF(cm1o)\n",
    "cm1of.kernel()\n",
    "\n",
    "cm2f=scf.RHF(cm2)\n",
    "cm2o=optimize(cm2f)\n",
    "cm2of=scf.RHF(cm2o)\n",
    "cm2of.kernel()\n",
    "cEs2=[]\n",
    "cEs2.append(cm1of.e_tot)\n",
    "cEs2.append(cm2of.e_tot)\n",
    "print('Product geometry energy difference (kcal/mol)')\n",
    "print('RDKit: %.2f  PySCF: %.2f'%(ccde,627.5095*(cm2of.e_tot-cm1of.e_tot)))"
   ]
  },
  {
   "cell_type": "markdown",
   "id": "c97477b2",
   "metadata": {},
   "source": [
    "Finally, we compute four possible values of the gas-phase proton affinity, using the four different possible conformations. The *correct* answer is the first value, using the  most stable reactant conformation and the most stable product conformation. Note that the proton affinity is the negative of the reaction energy \n",
    "\n",
    "en + H(+) ---> en-H(+) \n",
    "\n",
    "Positive values of the proton affinity correspond to stable proton binding. For comparison, the gas-phase proton affinity of NH3 is measured at 204 kcal/mol (853.6 kJ/mol), see https://webbook.nist.gov/cgi/cbook.cgi?ID=C7664417 "
   ]
  },
  {
   "cell_type": "code",
   "execution_count": null,
   "id": "10e0ca81",
   "metadata": {},
   "outputs": [],
   "source": [
    "print(\"Proton affinities (kcal/mol)\")\n",
    "print(\"Product Reactant E(RDKit) E(PySCF)\")\n",
    "for i in range(2):\n",
    "    for j in range(2):\n",
    "        print('%d %d %6.1f %6.1f'%(i,j,-1.0*(cEs[0][i]-lEs[0][j]),-627.5095*(cEs2[i]-lEs2[j])))"
   ]
  },
  {
   "cell_type": "markdown",
   "id": "a5677a1e",
   "metadata": {},
   "source": [
    "Your assignment for this module is as follows \n",
    "\n",
    "(1) Plot the computed NMR spectrum for acetaldehyde, and compare to experiment. Make two plots: one using the chemical shifts as computed, and one assuming that the methyl group rotation is fast on the NMR timescale. Which plot better fits experiment? \n",
    "    \n",
    "(2) Compute 5 low-energy structures of protonated 2-aminoethanol, and compute the gas-phase proton affinity of each structure. What is the range of proton affinity, and the range of pKa, obtained from different strutures? \n",
    "\n",
    "For 50 points extra credit, fix the RDKit geometry optimization of the charged species to correctly account for the charge. Once this is fixed, the RDKit proton affinity should be near 250 kcal/mol, not near 0 kcal/mol. "
   ]
  },
  {
   "cell_type": "code",
   "execution_count": null,
   "id": "2e572222",
   "metadata": {},
   "outputs": [],
   "source": []
  }
 ],
 "metadata": {
  "kernelspec": {
   "display_name": "Python 3 (ipykernel)",
   "language": "python",
   "name": "python3"
  },
  "language_info": {
   "codemirror_mode": {
    "name": "ipython",
    "version": 3
   },
   "file_extension": ".py",
   "mimetype": "text/x-python",
   "name": "python",
   "nbconvert_exporter": "python",
   "pygments_lexer": "ipython3",
   "version": "3.10.9"
  }
 },
 "nbformat": 4,
 "nbformat_minor": 5
}
