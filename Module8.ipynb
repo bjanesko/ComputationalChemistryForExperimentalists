{
 "cells": [
  {
   "cell_type": "markdown",
   "id": "4faac946",
   "metadata": {},
   "source": [
    "## Computational Chemistry for Experimentalists\n",
    "## Module 8: Self-Consistent Field Calculations  \n",
    "\n",
    "Molecular orbital theory builds a separate orbital for each electron in a molecule. Each orbital must depend on the average electron distribution, and therefore depend on all of the other orbitals. This nonlinear equation is solved self-consistently, iterating back and forth between a set of guess orbitals, a guess wavefunction and electron distrbution, and a new guess of orbitals. These examples show how that SCF procedure can work and not work. "
   ]
  },
  {
   "cell_type": "code",
   "execution_count": null,
   "id": "101528bf",
   "metadata": {},
   "outputs": [],
   "source": [
    "from rdkit import Chem\n",
    "from rdkit.Chem import Draw\n",
    "from rdkit.Chem import AllChem\n",
    "import math\n",
    "import numpy\n",
    "import matplotlib.pyplot as plt\n",
    "from pyscf import gto,scf,dft,cc\n",
    "from pyscf.tools import cubegen\n",
    "import py3Dmol"
   ]
  },
  {
   "cell_type": "markdown",
   "id": "15184e39",
   "metadata": {},
   "source": [
    "## Example 1:Densities from Each SCF Cycle  \n",
    "\n",
    "Here we compue the electr densities from each step of an SCF cycle, We see that the densities converge rapidly with cycle.  "
   ]
  },
  {
   "cell_type": "code",
   "execution_count": null,
   "id": "1a286e12",
   "metadata": {},
   "outputs": [],
   "source": [
    "m3=Chem.MolFromSmiles('O=C=O')\n",
    "m2=Chem.AddHs(m3)\n",
    "AllChem.EmbedMolecule(m2)\n",
    "AllChem.MMFFOptimizeMolecule(m2)\n",
    "mb1=Chem.MolToMolBlock(m2)\n",
    "elements = [atom.GetSymbol() for atom in m2.GetAtoms()]\n",
    "coordinates = m2.GetConformer().GetPositions()\n",
    "atoms = [(element, coordinate) for element, coordinate in zip(elements, coordinates)]\n",
    "m = gto.Mole(basis=\"cc-pvtz\")\n",
    "m.atom = atoms\n",
    "m.build();\n",
    "mf=scf.RHF(m)\n",
    "mf.max_cycle=1\n",
    "mf.kernel() \n",
    "cubegen.density(m, f'co_rho1.cube', mf.make_rdm1())\n",
    "mf=scf.RHF(m)\n",
    "mf.max_cycle=2\n",
    "mf.kernel() \n",
    "cubegen.density(m, f'co_rho2.cube', mf.make_rdm1())\n",
    "mf.max_cycle=5\n",
    "mf.kernel() \n",
    "cubegen.density(m, f'co_rho3.cube', mf.make_rdm1())\n",
    "with open(f\"co_rho1.cube\") as f:\n",
    "    r1 = f.read()\n",
    "with open(f\"co_rho2.cube\") as f:\n",
    "    r2 = f.read()\n",
    "with open(f\"co_rho3.cube\") as f:\n",
    "    r3 = f.read()\n",
    "p = py3Dmol.view(width=600,height=200,viewergrid=(1,3))\n",
    "p.addModel(mb1, 'sdf',viewer=(0,0))\n",
    "p.addModel(mb1, 'sdf',viewer=(0,1))\n",
    "p.addModel(mb1, 'sdf',viewer=(0,2))\n",
    "p.addVolumetricData(r1, \"cube\", {'isoval': 0.02, 'color': \"gray\", 'opacity': 0.75},viewer=(0,0))\n",
    "p.addVolumetricData(r2, \"cube\", {'isoval': 0.02, 'color': \"gray\", 'opacity': 0.75},viewer=(0,1))\n",
    "p.addVolumetricData(r3, \"cube\", {'isoval': 0.02, 'color': \"gray\", 'opacity': 0.75},viewer=(0,2))\n",
    "p.setStyle({'stick':{},'sphere':{\"scale\":0.1}})\n",
    "p.show()\n",
    "p.png()"
   ]
  },
  {
   "cell_type": "markdown",
   "id": "9674c5c0",
   "metadata": {},
   "source": [
    "## Example 2: Converging and Non-Converging SCF  \n",
    "\n",
    "Self-consistent field calculations converge easily for \"normal\" systems, but can break down for near-degeneracies. This example shows that for carbon monoxide"
   ]
  },
  {
   "cell_type": "code",
   "execution_count": null,
   "id": "3d06806d",
   "metadata": {},
   "outputs": [],
   "source": [
    "%%capture cap \n",
    "m1=gto.Mole(atom='C 0.0 0.0 0.0; O 0.0 0.0 1.2',basis='3-21g')\n",
    "m1.build()\n",
    "mf1=scf.RHF(m1)\n",
    "mf1.verbose=4\n",
    "mf1.kernel()"
   ]
  },
  {
   "cell_type": "code",
   "execution_count": null,
   "id": "2b96d028",
   "metadata": {},
   "outputs": [],
   "source": [
    "with open('COSCF1.txt', 'w') as file:\n",
    "    file.write(cap.stdout)\n",
    "E1s=[]\n",
    "with open('COSCF1.txt', 'r') as file:\n",
    "    for line in file:\n",
    "        fields=line.split()\n",
    "        if(len(fields)>0):\n",
    "            if(fields[0]=='cycle='):\n",
    "                E=(float(fields[3]))\n",
    "                E1s.append(E)"
   ]
  },
  {
   "cell_type": "code",
   "execution_count": null,
   "id": "55a6c16b",
   "metadata": {},
   "outputs": [],
   "source": [
    "E1s"
   ]
  },
  {
   "cell_type": "code",
   "execution_count": null,
   "id": "55c92794",
   "metadata": {},
   "outputs": [],
   "source": [
    "%%capture cap \n",
    "m=gto.Mole(atom='C 0.0 0.0 0.0; O 0.0 0.0 1.8',basis='3-21g')\n",
    "m.build()\n",
    "mf2=scf.RHF(m)\n",
    "mf2.verbose=4\n",
    "mf2.kernel()"
   ]
  },
  {
   "cell_type": "code",
   "execution_count": null,
   "id": "4cbaa82f",
   "metadata": {},
   "outputs": [],
   "source": [
    "with open('COSCF2.txt', 'w') as file:\n",
    "    file.write(cap.stdout)\n",
    "E2s=[]\n",
    "with open('COSCF2.txt', 'r') as file:\n",
    "    for line in file:\n",
    "        fields=line.split()\n",
    "        if(len(fields)>0):\n",
    "            if(fields[0]=='cycle='):\n",
    "                E=(float(fields[3]))\n",
    "                E2s.append(E)"
   ]
  },
  {
   "cell_type": "code",
   "execution_count": null,
   "id": "656abf39",
   "metadata": {},
   "outputs": [],
   "source": [
    "%%capture cap \n",
    "m=gto.Mole(atom='C 0.0 0.0 0.0; O 0.0 0.0 3.8',basis='3-21g')\n",
    "m.build()\n",
    "mf2=scf.RHF(m)\n",
    "mf2.verbose=4\n",
    "mf2.kernel()"
   ]
  },
  {
   "cell_type": "code",
   "execution_count": null,
   "id": "b7b71c82",
   "metadata": {},
   "outputs": [],
   "source": [
    "with open('COSCF3.txt', 'w') as file:\n",
    "    file.write(cap.stdout)\n",
    "E3s=[]\n",
    "with open('COSCF3.txt', 'r') as file:\n",
    "    for line in file:\n",
    "        fields=line.split()\n",
    "        if(len(fields)>0):\n",
    "            if(fields[0]=='cycle='):\n",
    "                E=(float(fields[3]))\n",
    "                E3s.append(E)"
   ]
  },
  {
   "cell_type": "code",
   "execution_count": null,
   "id": "3f17fd6b",
   "metadata": {},
   "outputs": [],
   "source": [
    "E3s"
   ]
  },
  {
   "cell_type": "code",
   "execution_count": null,
   "id": "e457fac3",
   "metadata": {},
   "outputs": [],
   "source": [
    "E1sb=numpy.log10(0.0000000000000000001+numpy.abs(E1s-E1s[len(E1s)-1]*numpy.ones(len(E1s))))\n",
    "E2sb=numpy.log10(0.0000000000000000001+numpy.abs(E2s-E2s[len(E2s)-1]*numpy.ones(len(E2s))))\n",
    "E3sb=numpy.log10(0.0000000000000000001+numpy.abs(E3s-E3s[len(E3s)-1]*numpy.ones(len(E3s))))"
   ]
  },
  {
   "cell_type": "code",
   "execution_count": null,
   "id": "3314b33c",
   "metadata": {},
   "outputs": [],
   "source": [
    "fig=plt.figure()\n",
    "ax1=fig.add_subplot(111)\n",
    "plt.ylim(-10,2)\n",
    "ax1.plot(range(len(E1s)),E1sb,'-o',label=\"1.2 Angstrom\")\n",
    "ax1.plot(range(len(E2s)),E2sb,'-x',label=\"1.8 Angstrom\")\n",
    "ax1.plot(range(len(E3s)),E3sb,'-*',label=\"3.8 Angstrom\")"
   ]
  },
  {
   "cell_type": "markdown",
   "id": "575b35c2",
   "metadata": {},
   "source": [
    "## Example 3: Spin Symmetry Breaking \n",
    "\n",
    "Symmetry breaking removes artefacts due to strong correlation, but is not a panacea. "
   ]
  },
  {
   "cell_type": "code",
   "execution_count": null,
   "id": "0d5f5d5f",
   "metadata": {},
   "outputs": [],
   "source": [
    "basis='3-21g'\n",
    "rs=[10,9,8,7,6,5,4,3,2.8,2.6,2.4,2.2,2.0,1.8,1.6,1.4,1.2,1.0,0.8,0.7,0.6,0.5]\n",
    "m.build()\n",
    "mf=scf.UHF(m)\n",
    "mf.kernel()\n",
    "EH=mf.e_tot\n",
    "EUHF=numpy.zeros_like(rs)\n",
    "ERHF=numpy.zeros_like(rs)\n",
    "i=-1\n",
    "Pguess=None\n",
    "for r in rs:\n",
    "    i=i+1\n",
    "    geom='H 0.0 0.0 0.0; H 0.0 0.0 %.3f '%(r)\n",
    "    m=gto.Mole(atom=geom)\n",
    "    m.build()\n",
    "    mf=scf.RHF(m)\n",
    "    mf.kernel()\n",
    "    ERHF[i]=627.5095*(mf.e_tot-2*EH)\n",
    "    P=mf.make_rdm1()\n",
    "    if(Pguess is None):\n",
    "        Pguess=numpy.array([P,P])\n",
    "        Pguess[0,0,0]=Pguess[0,0,0]+0.1\n",
    "        Pguess[1,0,0]=Pguess[1,0,0]-0.1\n",
    "    mf2=scf.UHF(m)\n",
    "    mf2.kernel(dm0=Pguess)\n",
    "    Pguess=mf2.make_rdm1()\n",
    "    EUHF[i]=627.5095*(mf2.e_tot-2*EH)"
   ]
  },
  {
   "cell_type": "code",
   "execution_count": null,
   "id": "0a67f5bf",
   "metadata": {},
   "outputs": [],
   "source": [
    "fig=plt.figure()\n",
    "ax1=fig.add_subplot(111)\n",
    "#plt.ylim(-10,2)\n",
    "ax1.plot(rs,ERHF,'-o',label=\"RHD\")\n",
    "ax1.plot(rs,EUHF,'-x',label=\"UHF\")"
   ]
  },
  {
   "cell_type": "markdown",
   "id": "7cda7df8",
   "metadata": {},
   "source": [
    "Assignment: \n",
    "\n",
    "(1) Compute the HOMO-LUMO gap of H2 using RHF and UHF, as a function of bond length.\n",
    "\n",
    "(2) Compute the rotational potential surface for ethylene using restricted and unrestricted Hartree-Fock theory. Compare to literature calculations, and explain the problems with RHF and with UHF."
   ]
  },
  {
   "cell_type": "code",
   "execution_count": null,
   "id": "70ecaa26",
   "metadata": {},
   "outputs": [],
   "source": []
  }
 ],
 "metadata": {
  "kernelspec": {
   "display_name": "Python 3 (ipykernel)",
   "language": "python",
   "name": "python3"
  },
  "language_info": {
   "codemirror_mode": {
    "name": "ipython",
    "version": 3
   },
   "file_extension": ".py",
   "mimetype": "text/x-python",
   "name": "python",
   "nbconvert_exporter": "python",
   "pygments_lexer": "ipython3",
   "version": "3.10.9"
  }
 },
 "nbformat": 4,
 "nbformat_minor": 5
}
