{
 "cells": [
  {
   "cell_type": "markdown",
   "id": "4faac946",
   "metadata": {},
   "source": [
    "## Computational Chemistry for Experimentalists\n",
    "## Module 5: Atomic Orbital Basis Sets\n",
    "\n",
    "Orbital hybridization is a central idea in general chemistry, and is put into practice in computational chemistry. To put this into practice, we need to actually define the atomic orbitals! This module shows how to use Gaussian-type atomic orbitals. "
   ]
  },
  {
   "cell_type": "code",
   "execution_count": null,
   "id": "101528bf",
   "metadata": {},
   "outputs": [],
   "source": [
    "import math\n",
    "import numpy\n",
    "import matplotlib.pyplot as plt\n",
    "from pyscf import gto,scf,dft,cc\n",
    "from pyscf.tools import cubegen"
   ]
  },
  {
   "cell_type": "markdown",
   "id": "15184e39",
   "metadata": {},
   "source": [
    "### Example 1: Hydrogen atom 1s orbital in different AO basis sets"
   ]
  },
  {
   "cell_type": "markdown",
   "id": "1e878e6d",
   "metadata": {},
   "source": [
    "The exact nonrelativistic 1s  orbital for a one-electron atom of nuclear charge Ze is, in atomic units, (2Z/n)^(3/2)exp[-Zr/n] This function compares the exact orbital to calculations in various standard AO basis sets"
   ]
  },
  {
   "cell_type": "code",
   "execution_count": null,
   "id": "a20a3235",
   "metadata": {},
   "outputs": [],
   "source": [
    "def psi1s(rs,Z=1,n=1):\n",
    "    return(((Z/n)**3/(math.pi))**0.5*numpy.exp(-Z*rs/n))\n",
    "rs=numpy.array(range(60))*0.1\n",
    "xs=numpy.zeros_like(rs)\n",
    "coords=numpy.transpose(numpy.array((xs,xs,rs)))\n",
    "psiexact=psi1s(rs)\n",
    "\n",
    "\n",
    "basissets=['STO-3G','3-21G','6-31G','def2SVP','cc-pVDZ','def2TZVP','cc-pVTZ','aug-cc-pVTZ','def2QZVP','cc-pVQZ','aug-cc-pVQZ','cc-pV5Z']\n",
    "\n",
    "# Create dictionaries of ground-state energy and wavefunction values\n",
    "Es={}\n",
    "psis={'Exact':psiexact}\n",
    "Ns={}\n",
    "\n",
    "# Do the calculation in each basis set and save the results \n",
    "for b in basissets:\n",
    "    m=gto.Mole(atom='H',spin=1,basis=b)\n",
    "    m.build()\n",
    "    mf=scf.UHF(m)\n",
    "    mf.kernel()\n",
    "    aos=m.eval_gto(\"GTOval_sph\",coords)\n",
    "    mo=numpy.einsum('m,rm->r',mf.mo_coeff[0,:,0],aos)\n",
    "    Es[b]=mf.e_tot\n",
    "    psis[b]=mo\n",
    "    Ns[b]=m.nao"
   ]
  },
  {
   "cell_type": "code",
   "execution_count": null,
   "id": "654827d5",
   "metadata": {},
   "outputs": [],
   "source": [
    "fig, axs = plt.subplots(nrows=1,ncols=2,figsize=[10,4])\n",
    "rs2=rs*rs\n",
    "#axs.set_box_aspect(1)\n",
    "axs[0].set(xlabel='Distance r from nucleus (bohr)',ylabel='Wavefunction (bohr^(-1/2)')\n",
    "axs[1].set(xlabel='Distance r from nucleus (bohr)',ylabel='r^2 Wavefunction (bohr^(-1/2)')\n",
    "for tag in Es.keys():\n",
    "    axs[0].plot(rs,psis[tag],label=tag)\n",
    "    axs[1].plot(rs,rs2*psis[tag],label=tag)\n",
    "axs[0].legend(loc='upper right', edgecolor = 'black', handlelength = 1.2)\n",
    "plt.show()"
   ]
  },
  {
   "cell_type": "markdown",
   "id": "fd5c57cb",
   "metadata": {},
   "source": [
    "Plot errors in the total energy, using a log scale. "
   ]
  },
  {
   "cell_type": "code",
   "execution_count": null,
   "id": "d9c8a5e7",
   "metadata": {},
   "outputs": [],
   "source": [
    "fig = plt.figure(figsize = (10, 5))\n",
    "xs = list(Es.keys())\n",
    "ys = numpy.array(list(Es.values()))+0.5\n",
    "#ys=numpy.log10(ys+0.5)\n",
    "plt.bar(xs, ys, color ='green', width = 0.4)\n",
    "plt.xlabel(\"Basis set\")\n",
    "plt.ylabel(\"Total energy error (Hartree)\")\n",
    "ax=plt.gca()\n",
    "#ax.set_ylim([-0.46,-0.51])\n",
    "ax.set_yscale('log')\n",
    "plt.show()"
   ]
  },
  {
   "cell_type": "markdown",
   "id": "5aa7a3a8",
   "metadata": {},
   "source": [
    "## Example 2: Oxygen IP and fluorine EA in various basis sets \n",
    "\n",
    "These are so-called \"delta-SCF\" calculations, where we explicitly compute the energies of the neutral atom and the anion/cation. This is  generally more accurate than using the neutral atom HOMO/LUMO energies to approximate IP/EA. "
   ]
  },
  {
   "cell_type": "code",
   "execution_count": null,
   "id": "97404acc",
   "metadata": {},
   "outputs": [],
   "source": [
    "def ipea(basis):\n",
    "    a2eV=27.211 # Conversion from Hartree to electron-volts \n",
    "    m=gto.Mole(atom='O',basis=basis,charge=0,spin=2)\n",
    "    m.build()\n",
    "    fo=scf.UHF(m)\n",
    "    fo.kernel()\n",
    "    m=gto.Mole(atom='O',basis=basis,charge=1,spin=3)\n",
    "    m.build()\n",
    "    fop=scf.UHF(m)\n",
    "    fop.kernel()\n",
    "    \n",
    "    m=gto.Mole(atom='F',basis=basis,charge=0,spin=1)\n",
    "    m.build()\n",
    "    fl=scf.UHF(m)\n",
    "    fl.kernel()\n",
    "    m=gto.Mole(atom='F',basis=basis,charge=-1,spin=0)\n",
    "    m.build()\n",
    "    flm=scf.UHF(m)\n",
    "    flm.kernel()\n",
    "    return[basis,a2eV*(fop.e_tot-fo.e_tot),a2eV*(fl.e_tot-flm.e_tot)]"
   ]
  },
  {
   "cell_type": "code",
   "execution_count": null,
   "id": "5f88beaa",
   "metadata": {},
   "outputs": [],
   "source": [
    "dat=[]\n",
    "for b in ('STO-3G','3-21G','def2TZVP','def2QZVP','aug-cc-pVQZ'):\n",
    "    dat.append(ipea(b))\n",
    "dat=list(map(list, zip(*dat)))"
   ]
  },
  {
   "cell_type": "code",
   "execution_count": null,
   "id": "f2f4efcf",
   "metadata": {},
   "outputs": [],
   "source": [
    "fig, axs = plt.subplots(nrows=1,ncols=2,figsize=[10,5])\n",
    "width=0.25\n",
    "xs=numpy.arange(len(dat[0]))+0.5\n",
    "axs[0].bar(xs,dat[1],width=width,label='Oxygen IP')\n",
    "axs[1].bar(xs+0.3,dat[2],width=width,label='Fluorine EA')\n",
    "axs[0].set_title('Oxygen atom IP')\n",
    "axs[1].set_title('Fluorine atom EA')\n",
    "axs[0].set_ylabel('Energy (eV)')\n",
    "axs[0].set_ylim(9,13)\n",
    "axs[0].set_xticks(xs + width)\n",
    "axs[0].set_xticklabels(dat[0])\n",
    "axs[1].set_ylabel('Energy (eV)')\n",
    "axs[1].set_xticks(xs + width)\n",
    "axs[1].set_xticklabels(dat[0])\n",
    "plt.axhline(y=0, color='black',linestyle='-')\n",
    "plt.show()"
   ]
  },
  {
   "cell_type": "markdown",
   "id": "36abe89b",
   "metadata": {},
   "source": [
    "The experimental oxygen atom ionization potential is 13.61 eV. See the NIST atomic spectra database https://physics.nist.gov/cgi-bin/ASD/ie.pl?spectra=O&units=1&at_num_out=on&el_name_out=on&seq_out=on&shells_out=on&level_out=on&e_out=0&unc_out=on&biblio=on The calculations give around 12 eV at the basis set limit. Beyond-mean-field approximations will give more accurate IP. \n",
    "\n",
    "The experimental fluorine atom electron affinity is 3.41 eV https://webbook.nist.gov/cgi/cbook.cgi?ID=C14762948  The calculations with small basis sets give *negative* electron affinities, indicating that fluorine anion is predicted to be unstable at this level of theory. Large basis sets are essential for computing EA. Beyond-mean-field approximations will give more accurate EA. \n"
   ]
  },
  {
   "cell_type": "markdown",
   "id": "6e7bd804",
   "metadata": {},
   "source": [
    "## Example 3: Helium atom static dipole polarizability \n",
    "\n",
    "This is a \"finite field\" calculation, explicitly treating the energy in an applied electric field. The method is adapted from  \n",
    "https://github.com/pyscf/pyscf.github.io/blob/master/examples/scf/40-apply_electric_field.py\n",
    "\n",
    "The polarizability is minus the derivative of the dipole moment with respect to applied field, or minus the second derivative of energy with respect to applied field. High accuracy calculations give a polarizability 1.38319 ( e^2 bohr^2/Hartree)  see https://pubs.rsc.org/en/content/articlelanding/1968/sf/sf9680200041. \n"
   ]
  },
  {
   "cell_type": "code",
   "execution_count": null,
   "id": "ab9b0e28",
   "metadata": {},
   "outputs": [],
   "source": [
    "def Hepolar(basis,Efield=0.01):\n",
    "    mol=gto.Mole(atom='He',basis=basis)\n",
    "    mol.build()\n",
    "    mf=scf.RHF(mol)\n",
    "    mf.kernel()\n",
    "    E0=mf.e_tot\n",
    "    P=mf.make_rdm1()\n",
    "    def apply_field(E):\n",
    "        mol.set_common_orig([0, 0, 0])  # The gauge origin for dipole integral\n",
    "        h =(mol.intor('cint1e_kin_sph') + mol.intor('cint1e_nuc_sph')\n",
    "          + numpy.einsum('x,xij->ij', E, mol.intor('cint1e_r_sph', comp=3)))\n",
    "        mf = scf.RHF(mol)\n",
    "        mf.get_hcore = lambda *args: h\n",
    "        mf.kernel(dm0=P)\n",
    "        return(mf.e_tot)\n",
    "    Ep=apply_field([1.0*Efield,0,0])\n",
    "    Em=apply_field([-1.0*Efield,0,0])\n",
    "    polar=-(Ep+Em-2*E0)/Efield**2\n",
    "    return[basis,polar]"
   ]
  },
  {
   "cell_type": "code",
   "execution_count": null,
   "id": "29186c50",
   "metadata": {},
   "outputs": [],
   "source": [
    "dat=[]\n",
    "for b in ('STO-3G','6-31G','6-31G(d)','6-31G(d,p)','def2TZVP','def2QZVP'):\n",
    "    dat.append(Hepolar(b))\n",
    "dat.append(['Accurate',1.38319])\n",
    "dat=list(map(list, zip(*dat)))"
   ]
  },
  {
   "cell_type": "code",
   "execution_count": null,
   "id": "04f41113",
   "metadata": {},
   "outputs": [],
   "source": [
    "fig, ax = plt.subplots(nrows=1,ncols=1,figsize=[10,6])\n",
    "width=0.7\n",
    "xs=numpy.arange(len(dat[0]))\n",
    "ax.bar(xs,dat[1],width=width,label='Polarizability (au)')\n",
    "ax.set_title('Helium atom polarizability')\n",
    "ax.set_ylabel('Polarizability (au)')\n",
    "ax.set_xticks(xs )\n",
    "ax.set_xticklabels(dat[0])\n",
    "plt.show()"
   ]
  },
  {
   "cell_type": "markdown",
   "id": "0c6111e8",
   "metadata": {},
   "source": [
    "The first three basis sets do not include polarization functions (p-type atomic orbitals) on helium. These give a predicted polarizability of zero! Polarization functions are necessary to give a physically meaningful predicted polarizability."
   ]
  },
  {
   "cell_type": "markdown",
   "id": "abea8441",
   "metadata": {},
   "source": [
    "## Example 4: CO heat of formation, basis set convergence, DFT vs coupled cluster \n",
    "\n",
    "We compute the heat of formation \n",
    "\n",
    "C(standard) + O(standard) --> CO(g) \n",
    "\n",
    "by computing the reaction energy \n",
    "C(g)+O(g)-->CO(g) \n",
    "\n",
    "and using experimental values for the atomic heats of formation \n",
    "C(standard)-->C(g)\n",
    "O(standard)-->O(g) \n",
    "\n",
    "Experimentally, the NIST Chemistry WebBook gives standard heats of formation (kJ/mol) of \n",
    "\n",
    "C(g): 716.68\n",
    "O(g): 249.18 \n",
    "CO(g): -110.53"
   ]
  },
  {
   "cell_type": "code",
   "execution_count": null,
   "id": "4697fad0",
   "metadata": {},
   "outputs": [],
   "source": [
    "a2kJ=2625.5\n",
    "dhC=716.68\n",
    "dhO=249.18\n",
    "\n",
    "def CODH(basis):\n",
    "    xc='b3lyp'\n",
    "    \n",
    "    mc=gto.Mole(atom='C',basis=basis,spin=2)\n",
    "    mc.build()\n",
    "    mdc=dft.UKS(mc,xc=xc)\n",
    "    mdc.kernel()\n",
    "    mfc=scf.UHF(mc)\n",
    "    mfc.kernel()\n",
    "    mxc=cc.CCSD(mfc)\n",
    "    mxc.kernel()\n",
    "    ecc=mxc.e_tot+mxc.ccsd_t()\n",
    "    \n",
    "    mo=gto.Mole(atom='O',basis=basis,spin=2)\n",
    "    mo.build()\n",
    "    mdo=dft.UKS(mo,xc=xc)\n",
    "    mdo.kernel()\n",
    "    mfo=scf.UHF(mo)\n",
    "    mfo.kernel()\n",
    "    mxo=cc.CCSD(mfo)\n",
    "    mxo.kernel()\n",
    "    eco=mxo.e_tot+mxo.ccsd_t()\n",
    "    \n",
    "    mco=gto.Mole(atom='C 0.0 0.0 0.0; O 1.128 0.0 0.0',basis=basis,spin=0)\n",
    "    mco.build()\n",
    "    mdco=dft.UKS(mco,xc=xc)\n",
    "    mdco.kernel()\n",
    "    mfco=scf.UHF(mco)\n",
    "    mfco.kernel()\n",
    "    mxco=cc.CCSD(mfco)\n",
    "    mxco.kernel()\n",
    "    ecco=mxco.e_tot+mxco.ccsd_t()\n",
    "    \n",
    "    dh1=a2kJ*(mdco.e_tot-mdo.e_tot-mdc.e_tot)  +dhC+dhO\n",
    "    dh2=a2kJ*(ecco-ecc-eco)  +dhC+dhO  \n",
    "    return[basis,dh1,dh2]"
   ]
  },
  {
   "cell_type": "code",
   "execution_count": null,
   "id": "891f051f",
   "metadata": {},
   "outputs": [],
   "source": [
    "dat=[]\n",
    "for b in ('3-21G','6-31G(d)','def2TZVP','def2QZVP'):\n",
    "    dat.append(CODH(b))\n",
    "dat=list(map(list, zip(*dat)))"
   ]
  },
  {
   "cell_type": "code",
   "execution_count": null,
   "id": "a93a0232",
   "metadata": {},
   "outputs": [],
   "source": [
    "dat=list(map(list, zip(*dat)))\n",
    "dat.append(['Expt',-110.53,-110.53])\n",
    "dat=list(map(list, zip(*dat)))"
   ]
  },
  {
   "cell_type": "code",
   "execution_count": null,
   "id": "bf9b1f1a",
   "metadata": {},
   "outputs": [],
   "source": [
    "fig, ax = plt.subplots(nrows=1,ncols=1,figsize=[10,6])\n",
    "width=0.2\n",
    "xs=numpy.arange(len(dat[0]))\n",
    "ax.bar(xs,dat[1],width=width,label='B3LYP')\n",
    "ax.bar(xs+width,dat[2],width=width,label='CCSD(T)')\n",
    "ax.set_title('CO heat of formation')\n",
    "ax.set_ylabel('Heat of formation (kcal/mol)')\n",
    "ax.set_xticks(xs)\n",
    "ax.set_xticklabels(dat[0])\n",
    "plt.axhline(y=0, color='black',linestyle='-')\n",
    "plt.show()"
   ]
  },
  {
   "cell_type": "markdown",
   "id": "862eae41",
   "metadata": {},
   "source": [
    "Your assignment for this module has two parts\n",
    "\n",
    "Part 1: Compute the static dipole polarizability of H2, comparing logitudinal polarizability along the bond axis, to transferse polarizability orthogonal to the bond axis. Use the same basis sets as above. Explain why the longitudinal vs. transverse polarizabilities have different basis set dependence. \n",
    "\n",
    "Part 2: Compute the heat of formation of H2, following the procedure used above for carbon monoxide. Which results better match experiment? "
   ]
  },
  {
   "cell_type": "code",
   "execution_count": null,
   "id": "5ba9b443",
   "metadata": {},
   "outputs": [],
   "source": []
  }
 ],
 "metadata": {
  "kernelspec": {
   "display_name": "Python 3 (ipykernel)",
   "language": "python",
   "name": "python3"
  },
  "language_info": {
   "codemirror_mode": {
    "name": "ipython",
    "version": 3
   },
   "file_extension": ".py",
   "mimetype": "text/x-python",
   "name": "python",
   "nbconvert_exporter": "python",
   "pygments_lexer": "ipython3",
   "version": "3.10.9"
  }
 },
 "nbformat": 4,
 "nbformat_minor": 5
}
