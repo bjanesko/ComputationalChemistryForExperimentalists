{
 "cells": [
  {
   "cell_type": "markdown",
   "id": "4faac946",
   "metadata": {},
   "source": [
    "## Computational Chemistry for Experimentalists\n",
    "## Module 9: Partial Charges, Oxidation States, and Bond Orders \n",
    "\n",
    "Partial atomic charges, oxidation states, and chemical bond orders are central ideas in general chemistry, and is put into practice in computational chemistry. However, there is no single, rigorous, universally acceptable definition of the bond order of a covalent bond, or the charge on an atom in a molecule, or the oxidation state of an atom in a complex. Here we'll show how different definitions all can can build chemical insight."
   ]
  },
  {
   "cell_type": "code",
   "execution_count": null,
   "id": "101528bf",
   "metadata": {},
   "outputs": [],
   "source": [
    "from rdkit import Chem\n",
    "from rdkit.Chem import Draw\n",
    "from rdkit.Chem import AllChem\n",
    "import math\n",
    "import numpy\n",
    "import matplotlib.pyplot as plt\n",
    "from pyscf import gto,scf,dft,cc\n",
    "from pyscf.tools import cubegen\n",
    "import py3Dmol\n",
    "from pyscf.tools import molden "
   ]
  },
  {
   "cell_type": "markdown",
   "id": "15184e39",
   "metadata": {},
   "source": [
    "## Example 1: Water Partial Charges  \n",
    "\n",
    "The electric dipole moment of an isolated water molecule is an unambiguous observable. The partial atomic charges are not. While the hydrogens should have charge +delta and the oxygen should have charge -2 delta, there's no single \"right\" answer for delta. \n",
    "\n",
    "This first block generates the geometry and HF/3-21G wavefunction of a single water molecule. "
   ]
  },
  {
   "cell_type": "code",
   "execution_count": null,
   "id": "1a286e12",
   "metadata": {},
   "outputs": [],
   "source": [
    "m=Chem.MolFromSmiles('O')\n",
    "m2=Chem.AddHs(m)\n",
    "AllChem.EmbedMolecule(m2)\n",
    "AllChem.MMFFOptimizeMolecule(m2)\n",
    "m3=Chem.MolToMolBlock(m2)\n",
    "elements = [atom.GetSymbol() for atom in m2.GetAtoms()]\n",
    "coordinates = m2.GetConformer().GetPositions()\n",
    "atoms = [(element, coordinate) for element, coordinate in zip(elements, coordinates)]\n",
    "m4 = gto.Mole(basis=\"cc-pvtz\")\n",
    "m4.atom = atoms\n",
    "m4.build();\n",
    "mf=scf.RHF(m4)\n",
    "mf.kernel() \n",
    "p = py3Dmol.view(width=200,height=200)\n",
    "p.addModel(m3, 'sdf')\n",
    "p.setStyle({'stick':{},'sphere':{\"scale\":0.1}})\n",
    "p.render()"
   ]
  },
  {
   "cell_type": "markdown",
   "id": "9b658d2e",
   "metadata": {},
   "source": [
    "This block computes the dipole moment and two choices of partial charge: "
   ]
  },
  {
   "cell_type": "code",
   "execution_count": null,
   "id": "ae10a37f",
   "metadata": {},
   "outputs": [],
   "source": [
    "d=mf.dip_moment()\n",
    "dmag=numpy.dot(d,d)**0.5\n",
    "deltaMulliken=mf.mulliken_pop()\n",
    "deltaLowdin=mf.mulliken_pop_meta_lowdin_ao()\n",
    "print(deltaLowdin[1])\n",
    "\n",
    "print('Dipole moment in debye: %.3f'%(dmag))\n",
    "print('H atom charge delta')\n",
    "print('%20s  %.3f'%('Mulliken',deltaMulliken[1][1]))\n",
    "print('%20s  %.3f'%('Lowdin',deltaLowdin[1][1]))"
   ]
  },
  {
   "cell_type": "markdown",
   "id": "ffaf1762",
   "metadata": {},
   "source": [
    "This block writes the PySCF wavefunction as a .molden file for post-processing by Multiwfn. The Multiwfn package can compute multiple other definitions of partial charge. Here's a brief summary of the computed hydrogen atom partial charges in H2O. Note that the Mulliken charge matches PySCF and that the Lowdin charge is not correct. The charges based on bond order (Hirshfeld, Mulliken) are different from the charges based on electrostatics (Becke, RESP, ADCH, CHELP) :\n",
    "\n",
    "|Method |H atom charge|\n",
    "| -- | -- |\n",
    "|Hirshfeld|  0.162287|\n",
    "|VDD| 0.145298|\n",
    "|Mulliken|  0.24419|\n",
    "|Lowdin|  -0.16996|\n",
    "|Becke|  0.356394 |\n",
    "|ADCH| 0.356402  |\n",
    "|CHELP| 0.364839||\n",
    "|Merz-Kollman| 0.361579|\n",
    "|CMI| 0.325707 |\n",
    "|RESP|  0.361611|"
   ]
  },
  {
   "cell_type": "code",
   "execution_count": null,
   "id": "2ed46dc9",
   "metadata": {},
   "outputs": [],
   "source": [
    "with open('H2O.molden', 'w') as f1:\n",
    "    molden.header(m4, f1)\n",
    "    molden.orbital_coeff(m4, f1, mf.mo_coeff, ene=mf.mo_energy, occ=mf.mo_occ)"
   ]
  },
  {
   "cell_type": "markdown",
   "id": "9674c5c0",
   "metadata": {},
   "source": [
    "## Example 2: Oxidation States \n",
    "\n",
    "The formal oxidation state of a metal atom in a complex doesn't match any known definition of partial charge. Here we compute the Mulliken and Lowden charges on the formally Fe(III) metal atom of high-spin FeCl6(3-). "
   ]
  },
  {
   "cell_type": "code",
   "execution_count": null,
   "id": "3d06806d",
   "metadata": {},
   "outputs": [],
   "source": [
    "m=gto.Mole(atom='Fe 0.0 0.0 0.0; Cl 2.55 0.0 0.0;Cl -2.55 0.0 0.0;Cl 0.0 2.55 0.0; Cl 0.0 -2.55 0.0; Cl 0.0 0.0 2.55; Cl 0.0 0.0 -2.55',basis='6-31g',charge=-3,spin=5)\n",
    "m.build()\n",
    "mf=scf.UHF(m)\n",
    "mf.kernel()\n",
    "deltaMulliken=mf.mulliken_pop()\n",
    "deltaLowdin=mf.mulliken_pop_meta_lowdin_ao()\n",
    "#print(deltaMulliken[1])\n",
    "#print(deltaLowdin[1])\n",
    "print('Fe atom charge')\n",
    "print('%20s  %.3f'%('Mulliken',deltaMulliken[1][0]))\n",
    "print('%20s  %.3f'%('Lowdin',deltaLowdin[1][0]))"
   ]
  },
  {
   "cell_type": "markdown",
   "id": "11600bee",
   "metadata": {},
   "source": [
    "## Example 3: Bond Orders \n",
    "This example computes the H-H bond order of H2 at two different bond lengths. The bond order \"should\" be 1 near equilibrium and 0 at dissociation, but what happens when this is computed explicitly?\n",
    "\n",
    "This first block computes the RHF/3-21G orbitals of H2 near equilibrium and for a stretched bond, and writes both as Molden files. "
   ]
  },
  {
   "cell_type": "code",
   "execution_count": null,
   "id": "b764a599",
   "metadata": {},
   "outputs": [],
   "source": [
    "m=gto.Mole(atom='H 0.0 0.0 0.0; H 0.0 0.0 0.74',basis='3-21g')\n",
    "m.build()\n",
    "mf=scf.RHF(m)\n",
    "mf.kernel()\n",
    "with open('H2eq.molden', 'w') as f1:\n",
    "    molden.header(m, f1)\n",
    "    molden.orbital_coeff(m, f1, mf.mo_coeff, ene=mf.mo_energy, occ=mf.mo_occ)\n",
    "m=gto.Mole(atom='H 0.0 0.0 0.0; H 0.0 0.0 2.0',basis='3-21g')\n",
    "m.build()\n",
    "mf=scf.RHF(m)\n",
    "mf.kernel()\n",
    "tw') as f1:\n",
    "    molden.header(m, f1)\n",
    "    molden.orbital_coeff(m, f1, mf.mo_coeff, ene=mf.mo_energy, occ=mf.mo_occ)"
   ]
  },
  {
   "cell_type": "markdown",
   "id": "df7190c6",
   "metadata": {},
   "source": [
    "## Results \n",
    "\n",
    "| Method | Equilibrium | Stretched |\n",
    "| -- |--|--|\n",
    "| Mayer |1.00000000|1.00000000|\n",
    "| Wiberg |1.00000000|1.00000000|\n",
    "| Mulliken |0.80825721|0.33344113|\n",
    "| FBO |0.99999991|0.99999659|\n",
    "| LBO |0.737313|<0.05|\n"
   ]
  },
  {
   "cell_type": "markdown",
   "id": "4483a98f",
   "metadata": {},
   "source": [
    "Your assignment or this module  has three parts. \n",
    "Part 1: Compute the partial atomic charges of the H atom in methane, andcompare the results to water. You should find that the chemical trends are reproduced, even if the values are differnt.\n",
    "\n",
    "Part 2: Compute the partial charge of iron atom in high-spin iron(II) and iron(III) hexa-aquo complexes. You can use the following geometry for both \n",
    "\n",
    "                        Standard orientation:\n",
    " ---------------------------------------------------------------------\n",
    " Center     Atomic      Atomic             Coordinates (Angstroms)\n",
    " Number     Number       Type             X           Y           Z\n",
    " ---------------------------------------------------------------------\n",
    "      1         26           0        0.000218    0.000026   -0.000076\n",
    "      2          8           0        1.077455    1.729495   -0.205007\n",
    "      3          1           0        0.857422    2.590219    0.224658\n",
    "      4          8           0       -1.142871    0.520039   -1.617825\n",
    "      5          1           0       -1.035324    1.345604   -2.147665\n",
    "      6          8           0        1.314169   -0.966074   -1.238331\n",
    "      7          1           0        1.229139   -1.028834   -2.219510\n",
    "      8          8           0       -1.314543    0.965193    1.238319\n",
    "      9          1           0       -2.130759    1.435726    0.944618\n",
    "     10          8           0        1.142649   -0.519670    1.617671\n",
    "     11          1           0        1.883637    0.017974    1.986101\n",
    "     12          8           0       -1.077345   -1.729167    0.205280\n",
    "     13          1           0       -1.892143   -1.829129    0.752952\n",
    "     14          1           0        2.128900   -1.439136   -0.944574\n",
    "     15          1           0       -0.860345   -2.589067   -0.227544\n",
    "     16          1           0        1.035752   -1.345198    2.147691\n",
    "     17          1           0       -1.228386    1.030324    2.219230\n",
    "     18          1           0        1.894896    1.829084   -0.748831\n",
    "     19          1           0       -1.884579   -0.016782   -1.985992\n",
    "\n",
    "Part 3: Compute the P-H and P=O bond orders in H3P=O, using different bond order schemes available in Multiwfn. \n"
   ]
  }
 ],
 "metadata": {
  "kernelspec": {
   "display_name": "Python 3 (ipykernel)",
   "language": "python",
   "name": "python3"
  },
  "language_info": {
   "codemirror_mode": {
    "name": "ipython",
    "version": 3
   },
   "file_extension": ".py",
   "mimetype": "text/x-python",
   "name": "python",
   "nbconvert_exporter": "python",
   "pygments_lexer": "ipython3",
   "version": "3.10.9"
  }
 },
 "nbformat": 4,
 "nbformat_minor": 5
}
