{
 "cells": [
  {
   "cell_type": "markdown",
   "id": "576cfdf2",
   "metadata": {},
   "source": [
    "## Computational Chemistry for Experimentalists\n",
    "## Module 10: Transition States \n",
    "\n",
    "Transition state theory is central to our understanding of reaction kinetics. Here we compute transition states and use them to approximate reaction rates.\n",
    "\n",
    "This first block imports all of the necessary Python modules. If these aren't installed, this will fail. "
   ]
  },
  {
   "cell_type": "code",
   "execution_count": null,
   "id": "1c692af1",
   "metadata": {},
   "outputs": [],
   "source": [
    "from rdkit import Chem\n",
    "from rdkit.Chem import Draw\n",
    "from rdkit.Chem import AllChem\n",
    "from pyscf import gto,scf\n",
    "from pyscf.tools import cubegen \n",
    "import py3Dmol\n",
    "import numpy \n",
    "import matplotlib.pyplot as plt\n",
    "from pyscf.geomopt.geometric_solver import optimize\n",
    "from rdkit.Geometry import Point3D\n",
    "from rdkit.Chem import rdDetermineBonds\n",
    "from scipy.integrate import odeint "
   ]
  },
  {
   "cell_type": "markdown",
   "id": "812e9428",
   "metadata": {},
   "source": [
    "## Part 1: Thioformic acid tautomerization transition state "
   ]
  },
  {
   "cell_type": "markdown",
   "id": "dd17566a",
   "metadata": {},
   "source": [
    "Predict the barrier to proton transfer in HO-C(H)=S to O=C(H)-SH . First we compute optimized reactant and product geometries, starting from reasonable guesses generated in Gaussian "
   ]
  },
  {
   "cell_type": "code",
   "execution_count": null,
   "id": "4a8e5535",
   "metadata": {},
   "outputs": [],
   "source": [
    "basis='3-21g'\n",
    "r='''C 0.456789    0.501770   -0.000119;\n",
    "O   1.575978   -0.208819    0.000003;\n",
    "H  0.674888    1.549751    0.000122;\n",
    "H 1.425887   -1.168284    0.1;\n",
    " S   -1.090583   -0.107596    0.000035;\n",
    "'''\n",
    "p=''' C   -0.723601    0.447486    0.000004;\n",
    " O   -1.612622   -0.347749   -0.000001;\n",
    " H    -0.829152    1.520621   -0.000008;\n",
    " H   0.890735   -1.343410    0.1;\n",
    " S   1.073812   -0.005008   -0.000001;\n",
    "'''\n",
    "ts='''C    0.637965    0.613800    0.000021;\n",
    "O      1.688795   -0.062134   -0.000007;\n",
    "H    0.628619    1.684246    0.000047;\n",
    "H     0.830742   -1.165795   -0.000023;\n",
    " S   -0.743162   -0.503296    0.1;\n",
    "'''"
   ]
  },
  {
   "cell_type": "code",
   "execution_count": null,
   "id": "e07b7b39",
   "metadata": {},
   "outputs": [],
   "source": [
    "%%capture cap \n",
    "mr=gto.Mole(atom=r,basis=basis)\n",
    "mr.build()\n",
    "mfr=scf.UHF(mr)\n",
    "mfr.kernel()\n",
    "mor= mfr.Gradients().optimizer(solver='geomeTRIC').kernel()"
   ]
  },
  {
   "cell_type": "code",
   "execution_count": null,
   "id": "b25a466a",
   "metadata": {},
   "outputs": [],
   "source": [
    "with open('TFAR.txt', 'w') as file:\n",
    "    file.write(cap.stdout)"
   ]
  },
  {
   "cell_type": "code",
   "execution_count": null,
   "id": "170c2380",
   "metadata": {},
   "outputs": [],
   "source": [
    "%%capture cap \n",
    "mp=gto.Mole(atom=p,basis=basis)\n",
    "mp.build()\n",
    "mfp=scf.UHF(mp)\n",
    "mfp.kernel()\n",
    "mop= mfp.Gradients().optimizer(solver='geomeTRIC').kernel()"
   ]
  },
  {
   "cell_type": "code",
   "execution_count": null,
   "id": "20e75315",
   "metadata": {},
   "outputs": [],
   "source": [
    "with open('TFAP.txt', 'w') as file:\n",
    "    file.write(cap.stdout)"
   ]
  },
  {
   "cell_type": "code",
   "execution_count": null,
   "id": "da72dd0a",
   "metadata": {},
   "outputs": [],
   "source": [
    "%%capture cap \n",
    "mt=gto.Mole(atom=ts,basis=basis)\n",
    "mt.build()\n",
    "mft=scf.UHF(mt)\n",
    "mft.kernel()\n",
    "params={'transition':True}\n",
    "mot=mft.Gradients().optimizer(solver='geomeTRIC').kernel(params)\n"
   ]
  },
  {
   "cell_type": "code",
   "execution_count": null,
   "id": "acfe02b4",
   "metadata": {},
   "outputs": [],
   "source": [
    "with open('TFATS.txt', 'w') as file:\n",
    "    file.write(cap.stdout)"
   ]
  },
  {
   "cell_type": "markdown",
   "id": "8961b262",
   "metadata": {},
   "source": [
    "Generate new SCF calculations at the optimized reactant, transition state, and product geometries, and compute the forward reaction barrier and reaction energy in kJ/mol "
   ]
  },
  {
   "cell_type": "code",
   "execution_count": null,
   "id": "3866e137",
   "metadata": {},
   "outputs": [],
   "source": [
    "mfro=scf.UHF(mor)\n",
    "mfro.kernel()\n",
    "mfpo=scf.UHF(mop)\n",
    "mfpo.kernel()\n",
    "mfto=scf.UHF(mot)\n",
    "mfto.kernel()\n",
    "DE=2625.5*(mfpo.e_tot-mfro.e_tot)\n",
    "FB=2625.5*(mfto.e_tot-mfro.e_tot)\n",
    "print('Reaction energy: %.2f kJ/mol'%(DE))\n",
    "print('Forward barrier: %.2f kJ/mol'%(FB))"
   ]
  },
  {
   "cell_type": "markdown",
   "id": "4968a219",
   "metadata": {},
   "source": [
    "Use  MolFromXYZFile to generate RDKit molecules and Mol blocks to visualize the computed reactant, transition state, and product. The computed bond orders won't be reasonable, but we can at least see the geometry. "
   ]
  },
  {
   "cell_type": "code",
   "execution_count": null,
   "id": "e4390789",
   "metadata": {},
   "outputs": [],
   "source": [
    "ms=[mor,mot,mop]\n",
    "p=py3Dmol.view(width=600,height=200,viewergrid=(1,3))\n",
    "\n",
    "msr=[]\n",
    "for i in range(3):\n",
    "    m=ms[i]\n",
    "    m.tofile('t.xyz')\n",
    "    raw_m=Chem.MolFromXYZFile('t.xyz')\n",
    "    m2=Chem.Mol(raw_m)\n",
    "    rdDetermineBonds.DetermineBonds(m2)\n",
    "    msr.append(m2)\n",
    "    mb=Chem.MolToMolBlock(m2)\n",
    "    #print(mb)\n",
    "    p.addModel(mb,'sdf',viewer=(0,i))\n",
    "p.setStyle({'stick':{},'sphere':{\"scale\":0.3}})\n",
    "p.zoomTo()\n",
    "p.show()"
   ]
  },
  {
   "cell_type": "markdown",
   "id": "f4af443d",
   "metadata": {},
   "source": [
    "## Part 2: Energy Level Diagrams: Water-Catalyzed thioformic acid tautomerization \n",
    "\n",
    "We first write out all species present in all intermediates and transition states \n",
    "\n",
    "\n",
    "HO-CH=S + H2O --> HO-CH=S..HOH --> TS --> HOH..O=CH-SH --> O=CH-SH + H2O\n",
    "\n",
    "\n",
    "We then compute the optimized geometries and energies of the new intermediates and transition state , as well as the free wter catalyst "
   ]
  },
  {
   "cell_type": "code",
   "execution_count": null,
   "id": "28c3843f",
   "metadata": {},
   "outputs": [],
   "source": [
    "w='O 0.0 0.0 0.0; H 0.0 0.0 1.2; H 0.0 1.0 -0.2 '\n",
    "rc=''' C   0.758714    0.888018    0.014296;\n",
    " O   -0.444359    1.371224   -0.010302;\n",
    "  H   1.508356    1.654087    0.044841;\n",
    "  H  -1.190598    0.685250   -0.041201;\n",
    " S     1.207301   -0.744965    0.005166;\n",
    " O    -2.056292   -0.576654   -0.062245;\n",
    "  H    -2.746439   -0.790579    0.576670;\n",
    " H     -1.435207   -1.313986   -0.168370;\n",
    "'''\n",
    "pc='''   C   0.868704    0.923096    0.016671;\n",
    " O    -0.162555    1.549226   -0.004200;\n",
    "  H  1.845212    1.380007    0.047723;\n",
    " H     -1.765877    0.458766   -0.117259;\n",
    " S     0.982041   -0.900511    0.002083;\n",
    "  O  -2.077177   -0.461847   -0.078785;\n",
    "   H    -2.708668   -0.562710    0.644696;\n",
    " H    -0.377693   -1.105494   -0.044639;\n",
    "'''\n",
    "tsc=''' C -0.817401   -1.400810    0.391573;\n",
    "  O  -1.303642   -0.792867   -0.529742;\n",
    " H    -1.182824   -2.355461    0.736590;\n",
    "  H   -0.440290    0.899595   -0.931101;\n",
    "  S   0.614435   -0.847162    1.381950;\n",
    "  O   0.294822    1.450928   -0.618932;\n",
    "  H     0.375281    2.260526   -1.135455;\n",
    " H   0.807874    0.330930    0.704880;\n",
    "'''"
   ]
  },
  {
   "cell_type": "code",
   "execution_count": null,
   "id": "55764fd4",
   "metadata": {},
   "outputs": [],
   "source": [
    "mw=gto.Mole(atom=w,basis=basis)\n",
    "mw.build()\n",
    "mfw=scf.UHF(mw)\n",
    "mfw.kernel()\n",
    "mow= mfw.Gradients().optimizer(solver='geomeTRIC').kernel()\n",
    "mrc=gto.Mole(atom=rc,basis=basis)\n",
    "mrc.build()\n",
    "mfrc=scf.UHF(mrc)\n",
    "mfrc.kernel()\n",
    "morc= mfrc.Gradients().optimizer(solver='geomeTRIC').kernel()\n",
    "mpc=gto.Mole(atom=pc,basis=basis)\n",
    "mpc.build()\n",
    "mfpc=scf.UHF(mpc)\n",
    "mfpc.kernel()\n",
    "mopc= mfpc.Gradients().optimizer(solver='geomeTRIC').kernel()"
   ]
  },
  {
   "cell_type": "code",
   "execution_count": null,
   "id": "28b631da",
   "metadata": {},
   "outputs": [],
   "source": [
    "mtc=gto.Mole(atom=tsc,basis=basis)\n",
    "mtc.build()\n",
    "mftc=scf.UHF(mtc)\n",
    "mftc.kernel()\n",
    "params={'transition':True}\n",
    "motc= mftc.Gradients().optimizer(solver='geomeTRIC').kernel(params)"
   ]
  },
  {
   "cell_type": "markdown",
   "id": "a3cc4594",
   "metadata": {},
   "source": [
    "Visualize the complex geometries "
   ]
  },
  {
   "cell_type": "code",
   "execution_count": null,
   "id": "d09133de",
   "metadata": {},
   "outputs": [],
   "source": [
    "ms=[morc,motc,mopc]\n",
    "p=py3Dmol.view(width=600,height=200,viewergrid=(1,3))\n",
    "msrc=[]\n",
    "for i in range(3):\n",
    "    m=ms[i]\n",
    "    m.tofile('t.xyz')\n",
    "    raw_m=Chem.MolFromXYZFile('t.xyz')\n",
    "    m2=Chem.Mol(raw_m)\n",
    "    rdDetermineBonds.DetermineBonds(m2)\n",
    "    msrc.append(m2)\n",
    "    mb=Chem.MolToMolBlock(m2)\n",
    "    #print(mb)\n",
    "    p.addModel(mb,'sdf',viewer=(0,i))\n",
    "p.setStyle({'stick':{},'sphere':{\"scale\":0.3}})\n",
    "p.zoomTo()\n",
    "p.show()"
   ]
  },
  {
   "cell_type": "markdown",
   "id": "d5343ff4",
   "metadata": {},
   "source": [
    "Compute the relative energies of all species, noting that the free reactant and free product must include the energy of free H2O . The overall reaction enery is still 34 kJ/mol, however the barrier is much lower. At this level of theory, the transition state is lower in energy than the free reactants. "
   ]
  },
  {
   "cell_type": "code",
   "execution_count": null,
   "id": "286be257",
   "metadata": {},
   "outputs": [],
   "source": [
    "mfwo=scf.UHF(mow)\n",
    "mfwo.kernel()\n",
    "mfrco=scf.UHF(morc)\n",
    "mfrco.kernel()\n",
    "mftco=scf.UHF(motc)\n",
    "mftco.kernel()\n",
    "mfpco=scf.UHF(mopc)\n",
    "mfpco.kernel()\n",
    "Eref=mfro.e_tot+mfwo.e_tot\n",
    "DEs=2625.5*numpy.array([Eref-Eref,mfrco.e_tot-Eref,mftco.e_tot-Eref,mfpco.e_tot-Eref,mfpo.e_tot+mfwo.e_tot-Eref])\n",
    "print(DEs)"
   ]
  },
  {
   "cell_type": "markdown",
   "id": "e5dc2a67",
   "metadata": {},
   "source": [
    "## Part 3: Reaction Dynamics Simulations \n",
    "We use SciPy numerical integration to compute the partial pressures of H2O, reactant, RC, TC,PC, and free product  as a function of time. To do this we need to set up the chemical kinetics equations for all five species and choose initial conditions. Our five species undergo six reactions \n",
    "\n",
    "H2O + R --> RC (k0)\n",
    "\n",
    "RC--> H2O + R  (k0 Exp[-(G(R)+G(H2O)-G(RC)\n",
    "\n",
    "RC--> PC       (k1 \n",
    "\n",
    "\n",
    "\n",
    "PC -->  H2O + P\n",
    "\n",
    "P + H2O ---> PC\n",
    "\n",
    "We assume that the barrier to the complexation reactions is 10 kJ/mol, that k0 is the Arrhenius term in the rate constants. \n",
    "\n"
   ]
  },
  {
   "cell_type": "code",
   "execution_count": null,
   "id": "2a37832a",
   "metadata": {},
   "outputs": [],
   "source": [
    "RT=(0.008314*1000)\n",
    "k0=100 # Arrhenius constant, 1/seconds  \n",
    "CT=10 # Barrier to complexation , kJ/mo \n",
    "\n",
    "# This step creates the rate constants for all six reactions \n",
    "[kf1,kb1,kf2,kb2,kf3,kb3]=[k0*numpy.exp(-CT/RT),\n",
    "                           k0*numpy.exp(-((DEs[0]-DEs[1])+CT)/RT),\n",
    "                           k0*numpy.exp(-(DEs[2]-DEs[1])/RT),\n",
    "                           k0*numpy.exp(-(DEs[2]-DEs[3])/RT),\n",
    "                           k0*numpy.exp(-((DEs[4]-DEs[3])+CT)/RT),\n",
    "                           k0*numpy.exp(-CT/RT)]\n",
    "print([kf1,kb1,kf2,kb2,kf3,kb3])\n",
    "def reaction(y,t):\n",
    "    r,rc,pc,p,w = y # Concentrations of all five species \n",
    "    rs=[kf1*r*w,kb1*rc,kf2*rc,kb2*pc,kf3*pc,kb3*p*w] # rates are rate constants times concentrations \n",
    "    drdt=-rs[0]+rs[1] # Reactant is consumed in the first forward reaction, produced in first backward\n",
    "    drcdt=rs[0]-rs[1]-rs[2]+rs[3] # Complex is involved in reactions 1-4 \n",
    "    dpcdt=rs[2]-rs[3]-rs[4]+rs[5]\n",
    "    dpdt=rs[4]-rs[5]\n",
    "    dwdt=-rs[0]+rs[1]+rs[4]-rs[5]\n",
    "    return [drdt,drcdt,dpcdt,dpdt,dwdt] # Time derivatives of all concentrations "
   ]
  },
  {
   "cell_type": "code",
   "execution_count": null,
   "id": "712668d2",
   "metadata": {},
   "outputs": [],
   "source": [
    "y0=[0,0,0,1,0.1] # Initial concentrations\n",
    "t=numpy.linspace(start=10**(-3), stop=10**6, num=10**7) # Time points \n",
    "\n",
    "solution=odeint(reaction,y0,t)\n",
    "plt.plot(t, solution[:,3], label='Free HSC(=O)H reactant ')\n",
    "plt.plot(t, solution[:, 1], label='Complexed HOC(=S)H')\n",
    "plt.plot(t, solution[:, 2], label='Complexed HSC(=O)H')\n",
    "plt.plot(t, solution[:, 0], label='Free HOC(=S)H product',color='Black')\n",
    "plt.plot(t, solution[:, 4], label='Free water',linestyle='--',color='Blue')\n",
    "\n",
    "plt.semilogx()\n",
    "plt.xlabel('Time')\n",
    "plt.ylabel('Concentration')\n",
    "plt.legend()\n",
    "plt.show()"
   ]
  },
  {
   "cell_type": "markdown",
   "id": "b043dda4",
   "metadata": {},
   "source": [
    "Your homework is to determine the concentration as a function of time for autocatalytic decomposition of HSC(=O)H in the gas phase. In autocatalytic decomposition, two molecules of HSC(=O)H complex with each other and react to form two molecules of HOC(=S)H. TRy to generate a plot like the one above. "
   ]
  },
  {
   "cell_type": "code",
   "execution_count": null,
   "id": "e8529fd3",
   "metadata": {},
   "outputs": [],
   "source": []
  }
 ],
 "metadata": {
  "kernelspec": {
   "display_name": "Python 3 (ipykernel)",
   "language": "python",
   "name": "python3"
  },
  "language_info": {
   "codemirror_mode": {
    "name": "ipython",
    "version": 3
   },
   "file_extension": ".py",
   "mimetype": "text/x-python",
   "name": "python",
   "nbconvert_exporter": "python",
   "pygments_lexer": "ipython3",
   "version": "3.10.9"
  }
 },
 "nbformat": 4,
 "nbformat_minor": 5
}
