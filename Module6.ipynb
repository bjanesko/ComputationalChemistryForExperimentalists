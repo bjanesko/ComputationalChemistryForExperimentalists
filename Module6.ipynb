{
 "cells": [
  {
   "cell_type": "markdown",
   "id": "4faac946",
   "metadata": {},
   "source": [
    "## Computational Chemistry for Experimentalists\n",
    "## Module 6: Orbitals and Densities\n",
    "\n",
    "Orbital hybridization is a central idea in general chemistry, and is put into practice in computational chemistry. However, understanding how to interpret orbital pictures isn't always easy. Here we'll show how different combinations of orbitals give different pictures of the same molecule."
   ]
  },
  {
   "cell_type": "code",
   "execution_count": null,
   "id": "101528bf",
   "metadata": {},
   "outputs": [],
   "source": [
    "from rdkit import Chem\n",
    "from rdkit.Chem import Draw\n",
    "from rdkit.Chem import AllChem\n",
    "import math\n",
    "import numpy\n",
    "import matplotlib.pyplot as plt\n",
    "from pyscf import gto,scf,dft,cc\n",
    "from pyscf.tools import cubegen\n",
    "import py3Dmol"
   ]
  },
  {
   "cell_type": "markdown",
   "id": "15184e39",
   "metadata": {},
   "source": [
    "## Example 1: Unambiguous Densities and Aesthetic Choices \n",
    "\n",
    "The stationary state wavefunction of nonrelativistic point-nucleus hydrogen atom can be determined *exactly*. However, different aesthetic choices in viewing that wavefunction can give very different pictures. Here we show the nearly exact hydrogen atom ground state using three different conventions. "
   ]
  },
  {
   "cell_type": "code",
   "execution_count": null,
   "id": "1ba27992",
   "metadata": {},
   "outputs": [],
   "source": [
    "m=gto.Mole(atom='H',spin=1,basis='aug-cc-pvqz')\n",
    "m.build()\n",
    "mf=scf.UHF(m)\n",
    "mf.kernel()\n",
    "cubegen.orbital(m, f'H_1s.cube', mf.mo_coeff[0,:,0],  nx=80, ny=80, nz=80)"
   ]
  },
  {
   "cell_type": "code",
   "execution_count": null,
   "id": "d87846d8",
   "metadata": {},
   "outputs": [],
   "source": [
    "m2=Chem.MolFromSmiles('[H]')\n",
    "p = py3Dmol.view(width=600,height=200,viewergrid=(1,3))\n",
    "with open(f\"H_1s.cube\") as f:\n",
    "    mo1 = f.read()\n",
    "isovals=[0.3,0.1,0.02]\n",
    "for i in range(3):\n",
    "    p.addModel(Chem.MolToMolBlock(m2), 'sdf',viewer=(0,i))\n",
    "    p.setStyle({'stick':{},'sphere':{\"scale\":0.1}},viewer=(0,i))\n",
    "    p.addVolumetricData(mo1, \"cube\", {'isoval': isovals[i], 'color': \"blue\", 'opacity': 0.65},viewer=(0,i))\n",
    "p.render()\n"
   ]
  },
  {
   "cell_type": "markdown",
   "id": "4c73cd8c",
   "metadata": {},
   "source": [
    "## Example 2: Electrostatic Potentials \n",
    "\n",
    "Electron density isosurfaces can be kind of boring and featureless. Coloring the density isosurface with electrostatic potential gives a lot of additional information. However, interpreting these is an art in itself. \n",
    "\n",
    "We'll consider density isosurfaces for aniline and nitrobenzene, computed with HF/3-21G at the RDKit optimized geometries. This first block generates the 3D geometries and checks that they're reasonable. "
   ]
  },
  {
   "cell_type": "code",
   "execution_count": null,
   "id": "255fc3cb",
   "metadata": {},
   "outputs": [],
   "source": [
    "ma=Chem.MolFromSmiles('c1ccc(N)cc1')\n",
    "mn=Chem.MolFromSmiles('c1ccc(N(=O)=O)cc1')\n",
    "ma2=Chem.AddHs(ma)\n",
    "AllChem.EmbedMolecule(ma2)\n",
    "AllChem.MMFFOptimizeMolecule(ma2)\n",
    "mn2=Chem.AddHs(mn)\n",
    "AllChem.EmbedMolecule(mn2)\n",
    "AllChem.MMFFOptimizeMolecule(mn2)\n",
    "ma3=Chem.MolToMolBlock(ma2)\n",
    "mn3=Chem.MolToMolBlock(mn2)\n",
    "p = py3Dmol.view(width=400,height=200,viewergrid=(1,2))\n",
    "p.addModel(ma3, 'sdf',viewer=(0,0))\n",
    "p.addModel(mn3, 'sdf',viewer=(0,1))\n",
    "p.setStyle({'stick':{},'sphere':{\"scale\":0.1}})\n",
    "p.render()"
   ]
  },
  {
   "cell_type": "markdown",
   "id": "34a78f07",
   "metadata": {},
   "source": [
    "The next block generates the HF/3-21G orbitals of each molecule "
   ]
  },
  {
   "cell_type": "code",
   "execution_count": null,
   "id": "ef00ade1",
   "metadata": {},
   "outputs": [],
   "source": [
    "elements = [atom.GetSymbol() for atom in ma2.GetAtoms()]\n",
    "coordinates = ma2.GetConformer().GetPositions()\n",
    "atoms = [(element, coordinate) for element, coordinate in zip(elements, coordinates)]\n",
    "ma4 = gto.Mole(basis=\"3-21g\")\n",
    "ma4.atom = atoms\n",
    "ma4.build();\n",
    "mfa=scf.RHF(ma4)\n",
    "mfa.kernel() \n",
    "elements = [atom.GetSymbol() for atom in mn2.GetAtoms()]\n",
    "coordinates = mn2.GetConformer().GetPositions()\n",
    "atoms = [(element, coordinate) for element, coordinate in zip(elements, coordinates)]\n",
    "mn4 = gto.Mole(basis=\"3-21g\")\n",
    "mn4.atom = atoms\n",
    "mn4.build();\n",
    "mfn=scf.RHF(mn4)\n",
    "mfn.kernel() "
   ]
  },
  {
   "cell_type": "markdown",
   "id": "41c6f6b4",
   "metadata": {},
   "source": [
    "Next block generates cubes of density and electrostatic potential "
   ]
  },
  {
   "cell_type": "code",
   "execution_count": null,
   "id": "49e4ec55",
   "metadata": {
    "scrolled": true
   },
   "outputs": [],
   "source": [
    "cubegen.density(ma4, f'aniline_density.cube', mfa.make_rdm1())\n",
    "cubegen.mep(ma4, f'aniline_esp.cube', mfa.make_rdm1())\n",
    "cubegen.density(mn4, f'nitrobenzene_density.cube', mfn.make_rdm1())\n",
    "cubegen.mep(mn4, f'nitrobenzene_esp.cube', mfn.make_rdm1())"
   ]
  },
  {
   "cell_type": "markdown",
   "id": "2013c078",
   "metadata": {},
   "source": [
    "Next block visualizes the densities alone. This isn't very interesting! "
   ]
  },
  {
   "cell_type": "code",
   "execution_count": null,
   "id": "128c3b6b",
   "metadata": {},
   "outputs": [],
   "source": [
    "with open(f\"aniline_density.cube\") as f:\n",
    "    da = f.read()\n",
    "with open(f\"nitrobenzene_density.cube\") as f:\n",
    "    dn = f.read()\n",
    "p = py3Dmol.view(width=400,height=200,viewergrid=(1,2))\n",
    "p.addModel(ma3, 'sdf',viewer=(0,0))\n",
    "p.addModel(mn3, 'sdf',viewer=(0,1))\n",
    "p.addVolumetricData(da, \"cube\", {'isoval': 0.002, 'color': \"gray\", 'opacity': 0.75},viewer=(0,0))\n",
    "p.addVolumetricData(dn, \"cube\", {'isoval': 0.002, 'color': \"gray\", 'opacity': 0.75},viewer=(0,1))\n",
    "p.setStyle({'stick':{},'sphere':{\"scale\":0.3}})\n",
    "p.render()"
   ]
  },
  {
   "cell_type": "code",
   "execution_count": null,
   "id": "af922dc5",
   "metadata": {},
   "outputs": [],
   "source": [
    "with open(f\"aniline_esp.cube\") as f:\n",
    "    va = f.read()\n",
    "with open(f\"nitrobenzene_esp.cube\") as f:\n",
    "    vn = f.read()\n",
    "p = py3Dmol.view(width=400,height=200,viewergrid=(1,2))\n",
    "p.addModel(ma3, 'sdf',viewer=(0,0))\n",
    "p.addModel(mn3, 'sdf',viewer=(0,1))\n",
    "p.addVolumetricData(da, \"cube\", {'isoval': 0.002, 'opacity': 0.9,'voldata': va, 'volformat':'cube',\n",
    "      'volscheme': {'gradient':'rwb', 'min':-.05, 'max':.05}},viewer=(0,0))\n",
    "p.addVolumetricData(dn, \"cube\", {'isoval': 0.002, 'opacity': 0.9,'voldata': vn, 'volformat':'cube',\n",
    "      'volscheme': {'gradient':'rwb', 'min':-.05, 'max':.05}},viewer=(0,1))\n",
    "p.setStyle({'stick':{},'sphere':{\"scale\":0.3}})\n",
    "p.render()"
   ]
  },
  {
   "cell_type": "markdown",
   "id": "1e878e6d",
   "metadata": {},
   "source": [
    "### Example 3: Banana bonds \n",
    "\n",
    "In undergraduate chemistry, you learn that H2 has a single bond with covalent bond order 1, two electrons in a bonding orbital. He2 has two electrons in a bonding orbital and two electrons in an antibonding orbital,  covalent bond order 0. The He2 wavefunction can be written as two doubly-occupied atomic orbitals, or as doubly-occupied bonding and antibonding orbitals. Hybridizing the two doubly-occupied atomic orbitals does not change the energy. \n",
    "\n",
    "This can become confusing for ethylene. The ethylene wavefunction can be written as doubly occupied sigma and pi bonding orbitals, or as the two doubly occupied linear combinations sigma+pi and sigma-pi. Here you'll view these \"banana bonds\" and compare to the sigma and pi picture. Both pictures are equivalent, both pictures are equally valid, both are equally \"real\". \n",
    "\n",
    "This first block generates ethylene geometry and orbitals. "
   ]
  },
  {
   "cell_type": "code",
   "execution_count": null,
   "id": "c3e3d8a0",
   "metadata": {},
   "outputs": [],
   "source": [
    "m=Chem.MolFromSmiles('C=C')\n",
    "m2=Chem.AddHs(m)\n",
    "AllChem.EmbedMolecule(m2)\n",
    "AllChem.MMFFOptimizeMolecule(m2)\n",
    "mb=Chem.MolToMolBlock(m2)\n",
    "elements = [atom.GetSymbol() for atom in m2.GetAtoms()]\n",
    "coordinates = m2.GetConformer().GetPositions()\n",
    "atoms = [(element, coordinate) for element, coordinate in zip(elements, coordinates)]\n",
    "\n",
    "pyscf_mole = gto.Mole(basis=\"3-21g\")\n",
    "pyscf_mole.atom = atoms\n",
    "pyscf_mole.build();\n",
    "\n",
    "mf=scf.RHF(pyscf_mole)\n",
    "mf.kernel() \n",
    "p=py3Dmol.view(width=400,height=400)\n",
    "p.addModel(mb,'sdf')\n",
    "p.setStyle({'stick':{},'sphere':{\"scale\":0.3}})\n",
    "p.zoomTo()\n",
    "p.show()"
   ]
  },
  {
   "cell_type": "markdown",
   "id": "d25e287a",
   "metadata": {},
   "source": [
    "This block computesthe highest-occupied orbital (pi bonding orbital), the third-highest-occupied bonding orbital (C-C sigma bonding orbital), and their linear combinations "
   ]
  },
  {
   "cell_type": "code",
   "execution_count": null,
   "id": "da0d9a2a",
   "metadata": {},
   "outputs": [],
   "source": [
    "cubegen.orbital(pyscf_mole, f'ethylene_pi.cube', mf.mo_coeff[:,7],  nx=60, ny=60, nz=60)\n",
    "cubegen.orbital(pyscf_mole, f'ethylene_sigma.cube', mf.mo_coeff[:,5],  nx=60, ny=60, nz=60)\n",
    "cubegen.orbital(pyscf_mole, f'ethylene_banana1.cube', (mf.mo_coeff[:,7]+mf.mo_coeff[:,5])/2**0.5,  nx=60, ny=60, nz=60)\n",
    "cubegen.orbital(pyscf_mole, f'ethylene_banana2.cube', (mf.mo_coeff[:,7]-mf.mo_coeff[:,5])/2**0.5,  nx=60, ny=60, nz=60)"
   ]
  },
  {
   "cell_type": "code",
   "execution_count": null,
   "id": "005b4da8",
   "metadata": {},
   "outputs": [],
   "source": [
    "p = py3Dmol.view(width=600,height=400,viewergrid=(2,2))\n",
    "for i in range(2):\n",
    "    for j in range(2):\n",
    "        p.addModel(Chem.MolToMolBlock(m2), 'sdf',viewer=(i,j))\n",
    "        p.setStyle({'stick':{},'sphere':{\"scale\":0.3}},viewer=(i,j))\n",
    "with open(f\"./ethylene_pi.cube\") as f:\n",
    "    pi = f.read()\n",
    "p.addVolumetricData(pi, \"cube\", {'isoval': -0.02, 'color': \"red\", 'opacity': 0.65},viewer=(0,0))\n",
    "p.addVolumetricData(pi, \"cube\", {'isoval': 0.02, 'color': \"blue\", 'opacity': 0.65},viewer=(0,0))\n",
    "with open(f\"./ethylene_sigma.cube\") as f:\n",
    "    sigma= f.read()\n",
    "p.addVolumetricData(sigma, \"cube\", {'isoval': -0.02, 'color': \"red\", 'opacity': 0.65},viewer=(1,0))\n",
    "p.addVolumetricData(sigma, \"cube\", {'isoval': 0.02, 'color': \"blue\", 'opacity': 0.65},viewer=(1,0))\n",
    "\n",
    "with open(f\"./ethylene_banana1.cube\") as f:\n",
    "    b1 = f.read()\n",
    "p.addVolumetricData(b1, \"cube\", {'isoval': -0.02, 'color': \"red\", 'opacity': 0.65},viewer=(0,1))\n",
    "p.addVolumetricData(b1, \"cube\", {'isoval': 0.02, 'color': \"blue\", 'opacity': 0.65},viewer=(0,1))\n",
    "with open(f\"./ethylene_banana2.cube\") as f:\n",
    "    b2= f.read()\n",
    "p.addVolumetricData(b2, \"cube\", {'isoval': -0.02, 'color': \"red\", 'opacity': 0.65},viewer=(1,1))\n",
    "p.addVolumetricData(b2, \"cube\", {'isoval': 0.02, 'color': \"blue\", 'opacity': 0.65},viewer=(1,1))\n",
    "#p.zoomTo()\n",
    "#p.update()\n",
    "p.render()"
   ]
  },
  {
   "cell_type": "markdown",
   "id": "022e1b26",
   "metadata": {},
   "source": [
    "Your assignment for this module has 3 parts. \n",
    "\n",
    "Part 1: The pictured density isosurfaces have little bumps and ridges on the surface. Explain why those are there, and do a calculation on aniline that reduces the size of the bumps on the surface. \n",
    "\n",
    "Part 2: Plot the electrostatic potential for CF3Br. Identify the sigma hole involved in halogen bonding.\n",
    "\n",
    "Part 3: Plot the symmetry-adapted and equivalent lone pairs of water. A HF/3-21G calculation should provide equivalent lone pairs. For details, see https://en.wikipedia.org/wiki/Sigma-pi_and_equivalent-orbital_models "
   ]
  },
  {
   "cell_type": "code",
   "execution_count": null,
   "id": "d453dd26",
   "metadata": {},
   "outputs": [],
   "source": []
  }
 ],
 "metadata": {
  "kernelspec": {
   "display_name": "Python 3 (ipykernel)",
   "language": "python",
   "name": "python3"
  },
  "language_info": {
   "codemirror_mode": {
    "name": "ipython",
    "version": 3
   },
   "file_extension": ".py",
   "mimetype": "text/x-python",
   "name": "python",
   "nbconvert_exporter": "python",
   "pygments_lexer": "ipython3",
   "version": "3.10.9"
  }
 },
 "nbformat": 4,
 "nbformat_minor": 5
}
