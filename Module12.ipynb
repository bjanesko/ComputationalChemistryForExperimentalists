{
 "cells": [
  {
   "cell_type": "markdown",
   "id": "576cfdf2",
   "metadata": {},
   "source": [
    "## Computational Chemistry for Experimentalists\n",
    "## Module 12: NMR\n",
    "\n",
    "NMR spectroscopy is central to organic chemistry. Here we predict NMR shieldings and spin-spin couplings to predict full NMR spectra. "
   ]
  },
  {
   "cell_type": "code",
   "execution_count": null,
   "id": "1c692af1",
   "metadata": {},
   "outputs": [],
   "source": [
    "from rdkit import Chem\n",
    "from rdkit.Chem import Draw\n",
    "from rdkit.Chem import AllChem\n",
    "\n",
    "from pyscf.tools import cubegen \n",
    "import py3Dmol\n",
    "import numpy\n",
    "import tabulate\n",
    "from pyscf import gto,scf,tdscf,dft,tddft\n",
    "from pyscf.tools import cubegen \n",
    "from pyscf.prop import nmr,ssc\n",
    "import matplotlib.pyplot as plt"
   ]
  },
  {
   "cell_type": "code",
   "execution_count": null,
   "id": "3247e447",
   "metadata": {},
   "outputs": [],
   "source": [
    "def RDKitToPySCF(rdkitmol,basis='3-21g'):\n",
    "    elements = [atom.GetSymbol() for atom in rdkitmol.GetAtoms()]\n",
    "    coordinates = rdkitmol.GetConformer().GetPositions()\n",
    "    atoms = [(element, coordinate) for element, coordinate in zip(elements, coordinates)]\n",
    "\n",
    "    pyscf_mole = gto.Mole(basis=basis)\n",
    "    pyscf_mole.atom = atoms\n",
    "    pyscf_mole.build();\n",
    "    return(pyscf_mole)\n",
    "    "
   ]
  },
  {
   "cell_type": "markdown",
   "id": "812e9428",
   "metadata": {},
   "source": [
    "## Part 1: Acetaldehyde proton NMR "
   ]
  },
  {
   "cell_type": "markdown",
   "id": "dd17566a",
   "metadata": {},
   "source": [
    "NMR measures the energy levels of a nuclear spin aligned with an external static magnetic field. Normal DFT calculations assume all nuclear spins and external magnetic fields are zero. We compute the NMR shielding as the second derivative of energy with respect to nuclear spin and magnetic field. These should be computed relative to a reference molecule, typically TMS\n",
    "\n",
    "This first block computes RDKit geometries for acetaldehyde and TMS, converts them to PySCF molecules, and visualizes them "
   ]
  },
  {
   "cell_type": "code",
   "execution_count": null,
   "id": "eb552e3a",
   "metadata": {},
   "outputs": [],
   "source": [
    "m0=Chem.MolFromSmiles('C[Si](C)(C)C')\n",
    "m1=Chem.AddHs(m0)\n",
    "AllChem.EmbedMolecule(m1)\n",
    "AllChem.MMFFOptimizeMolecule(m1)\n",
    "mb1=Chem.MolToMolBlock(m1)\n",
    "mm1=RDKitToPySCF(m1)\n",
    "\n",
    "m0=Chem.MolFromSmiles('O=CC')\n",
    "m2=Chem.AddHs(m0)\n",
    "AllChem.EmbedMolecule(m2)\n",
    "AllChem.MMFFOptimizeMolecule(m2)\n",
    "mb2=Chem.MolToMolBlock(m2)\n",
    "mm2=RDKitToPySCF(m2)\n",
    "\n",
    "p=py3Dmol.view(width=600,height=400,viewergrid=(1,2))\n",
    "p.addModel(mb1,'sdf',viewer=(0,0))\n",
    "p.addModel(mb2,'sdf',viewer=(0,1))\n",
    "p.addPropertyLabels(\"index\",\"\",{'showBackground':'false','alignment': 'center'})\n",
    "p.setStyle({'stick':{},'sphere':{\"scale\":0.3}})\n",
    "p.zoomTo()\n",
    "p.show()"
   ]
  },
  {
   "cell_type": "markdown",
   "id": "c2d97e33",
   "metadata": {},
   "source": [
    "The next block does HF/3-21G calculations at these geometries, and computes absolute NMR shieldings of all nuclei. Arrays sh1 and sh2 contain a Natomx3x3 array with a 3x3  shielding tensor (for magnetic fields and nuclear magnetic dipole moments in x,y,z directions) for each nucleus. In solution, the molecule tumbles relative to the applied field, so we average the x,x y,y and z,z shieldings. "
   ]
  },
  {
   "cell_type": "code",
   "execution_count": null,
   "id": "ac27849a",
   "metadata": {},
   "outputs": [],
   "source": [
    "mf1=scf.RHF(mm1)\n",
    "mf1.kernel()\n",
    "mn1=nmr.rhf.NMR(mf1)\n",
    "sh1=mn1.kernel()\n",
    "mf2=scf.RHF(mm2)\n",
    "mf2.kernel()\n",
    "mn2=nmr.rhf.NMR(mf2)\n",
    "sh2=mn2.kernel()"
   ]
  },
  {
   "cell_type": "code",
   "execution_count": null,
   "id": "da060c62",
   "metadata": {},
   "outputs": [],
   "source": [
    "#First we determine the average magnetic shielding of all TMS protons\n",
    "numH=0\n",
    "sumShield=0\n",
    "for i in range(mm1.natm):\n",
    "    if(mm1.atom_charge(i)==1):\n",
    "        numH=numH+1\n",
    "        val=(sh1[i,0,0]+sh1[i,1,1]+sh1[i,2,2])/3\n",
    "        sumShield=sumShield+val\n",
    "        #print('%2d %2d %6.2f'%(i,mm1.atom_charge(i),val))\n",
    "aveShield=sumShield/numH\n",
    "print('TMS proton absolute isotropic shielding:',aveShield)"
   ]
  },
  {
   "cell_type": "code",
   "execution_count": null,
   "id": "2cce0c1b",
   "metadata": {},
   "outputs": [],
   "source": [
    "# Next we determine the chemical shifts of each acetaldehyde proton. \n",
    "print('Shielding of each acetaldehyde proton:\\nIndex  Shielding (ppm)')\n",
    "for i in range(mm2.natm):\n",
    "    if(mm2.atom_charge(i)==1):\n",
    "        val=(sh2[i,0,0]+sh2[i,1,1]+sh2[i,2,2])/3\n",
    "        print('%2d %6.2f %7.3f '%(i,aveShield-val,val))"
   ]
  },
  {
   "cell_type": "markdown",
   "id": "994c4979",
   "metadata": {},
   "source": [
    "The experimental acetaldehyde NMR has a peak around 2.2 ppm integrated intensity 3x, and a peak around 9.8 ppm integrated intensity 1x. Based on the picture above, atoms 4-6 are the methyl protons and atom 3 is the aldehyde proton. Recall from Module 4 that the methyl proton shifts are rotationally averaged at normal temperatures, where methyl rotation is fast on the NMR timescale. "
   ]
  },
  {
   "cell_type": "markdown",
   "id": "c57718de",
   "metadata": {},
   "source": [
    "## Part 2: Spin-Spin Coupling \n",
    "\n",
    "Hyperfine interactions spin-spin coupling are useful for structure assignment. Here we compute the 13C-1H spin-spin coupling of isotopically labeled methane. Experimentally, the methane proton at 0.23 ppm is split into a doublet with width 125 Hz, see https://pubs.acs.org/doi/10.1021/ct050083f . The splitting  is independent of the external magnetic field strength, thus different NMR spectrometers will give  different looking spectra. For more complicated molecules, spin-spin couplings must be thermally averaged. "
   ]
  },
  {
   "cell_type": "code",
   "execution_count": null,
   "id": "31db1a40",
   "metadata": {},
   "outputs": [],
   "source": [
    "m0=Chem.MolFromSmiles('C')\n",
    "m3=Chem.AddHs(m0)\n",
    "AllChem.EmbedMolecule(m3)\n",
    "AllChem.MMFFOptimizeMolecule(m3)\n",
    "mb3=Chem.MolToMolBlock(m3)\n",
    "mm3=RDKitToPySCF(m3)\n",
    "p=py3Dmol.view(width=200,height=200)\n",
    "p.addModel(mb3,'sdf')\n",
    "p.addPropertyLabels(\"index\",\"\",{'showBackground':'false','alignment': 'center'})\n",
    "p.setStyle({'stick':{},'sphere':{\"scale\":0.3}})\n",
    "p.zoomTo()\n",
    "p.show()"
   ]
  },
  {
   "cell_type": "code",
   "execution_count": null,
   "id": "8d4e72cc",
   "metadata": {},
   "outputs": [],
   "source": [
    "mf3=scf.RHF(mm3)\n",
    "mf3.kernel()\n",
    "mn3=nmr.rhf.NMR(mf3)\n",
    "sh3=mn3.kernel()"
   ]
  },
  {
   "cell_type": "code",
   "execution_count": null,
   "id": "03ac891b",
   "metadata": {},
   "outputs": [],
   "source": [
    "print('Shielding of each methane proton:\\nIndex  Shielding (ppm)')\n",
    "for i in range(mm3.natm):\n",
    "    if(mm3.atom_charge(i)==1):\n",
    "        val=(sh3[i,0,0]+sh3[i,1,1]+sh3[i,2,2])/3\n",
    "        print('%2d %6.2f '%(i,aveShield-val))"
   ]
  },
  {
   "cell_type": "code",
   "execution_count": null,
   "id": "aa6b17f5",
   "metadata": {},
   "outputs": [],
   "source": [
    "ms3=ssc.RHF(mf3)\n",
    "ss3=ms3.kernel()"
   ]
  },
  {
   "cell_type": "markdown",
   "id": "ec2fe27f",
   "metadata": {},
   "source": [
    "The 13C-1H spin-spin coupling is computed as 119 Hz, close to the 125 Hz seen experimentally. "
   ]
  },
  {
   "cell_type": "code",
   "execution_count": null,
   "id": "801f8ebe",
   "metadata": {},
   "outputs": [],
   "source": [
    "m=gto.Mole(atom='H',charge=0,spin=1,basis='3-21g')\n",
    "m.build()\n",
    "mf=scf.UHF(m)\n",
    "mf.kernel()\n",
    "mn=nmr.uhf.NMR(mf)\n",
    "sh=mn.kernel()\n"
   ]
  },
  {
   "cell_type": "markdown",
   "id": "e40e4144",
   "metadata": {},
   "source": [
    "## Part 3: Method and Basis Set \n",
    "\n",
    "NMR shifts are sensitive to details of method and basis set. You should try on your own to compute the methane chemical shift and 13C-1H SSCC with different DFT methods and basis sets and geometry optimization. "
   ]
  },
  {
   "cell_type": "markdown",
   "id": "b90debee",
   "metadata": {},
   "source": [
    "Your homework for this module is to compute the  B3LYP/6-31G(d) proton NMR spectra of 3-Dimethylaminoacrolein at low and high temperatures. You'll need to determine which protons to rotationally average. You should compare your results to the experiments at http://www1.chem.umn.edu/groups/taton/chem8361/Handouts/9_26.pdf . \n",
    "\n",
    "You should also compare the rotationally averaged total shielding of H(+) vs. H2 vs. H(-), to confirm that the electrons shield the nucleus and reduce the magnitude of the derivative coupling. \n",
    "\n",
    "For 50 points extra credit, report the predicted 1H NMR spectrum of 13C-labeled methane as measured with the TCU NMR, including both the chemical shifts and the spin-spin couplings. \n"
   ]
  },
  {
   "cell_type": "code",
   "execution_count": null,
   "id": "3a10b443",
   "metadata": {},
   "outputs": [],
   "source": []
  }
 ],
 "metadata": {
  "kernelspec": {
   "display_name": "Python 3 (ipykernel)",
   "language": "python",
   "name": "python3"
  },
  "language_info": {
   "codemirror_mode": {
    "name": "ipython",
    "version": 3
   },
   "file_extension": ".py",
   "mimetype": "text/x-python",
   "name": "python",
   "nbconvert_exporter": "python",
   "pygments_lexer": "ipython3",
   "version": "3.10.9"
  }
 },
 "nbformat": 4,
 "nbformat_minor": 5
}
